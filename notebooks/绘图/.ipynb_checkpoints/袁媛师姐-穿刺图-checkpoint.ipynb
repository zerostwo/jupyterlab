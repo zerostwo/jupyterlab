{
 "cells": [
  {
   "cell_type": "code",
   "execution_count": 4,
   "metadata": {},
   "outputs": [],
   "source": [
    "import matplotlib.pyplot as plt\n",
    "import math\n",
    "import numpy as np"
   ]
  },
  {
   "cell_type": "code",
   "execution_count": 5,
   "metadata": {},
   "outputs": [
    {
     "data": {
      "application/vnd.jupyter.widget-view+json": {
       "model_id": "a519638268bd4464a0ae6e7cf915e77d",
       "version_major": 2,
       "version_minor": 0
      },
      "text/plain": [
       "Canvas(toolbar=Toolbar(toolitems=[('Home', 'Reset original view', 'home', 'home'), ('Back', 'Back to previous …"
      ]
     },
     "metadata": {},
     "output_type": "display_data"
    }
   ],
   "source": [
    "\n",
    "punctureResistances = [62.24, 61.33, 68.21, 64.12, 63.89, 61.18, 66.89, 66.21, 62.99, 88.28,\n",
    "                       86.32, 85.23, 89.56, 88.88, 88.45, 90.56, 89.11, 88.67, 99.23, 96.34,\n",
    "                       96.12, 101.56, 101.88, 101.67, 104.53, 102.87, 102.22]\n",
    "\n",
    "punctureResistances = [i/10 for i in punctureResistances]\n",
    "\n",
    "mms= [7.32, 7.11, 7.09, 7.46, 7.41, 7.37, 7.67, 7.56, 7.62, 8.89, 8.78,\n",
    "      8.82, 9.13, 8.94, 8.91, 9.28, 9.25, 9.22, 9.59, 9.47, 9.41, 9.68,\n",
    "      9.69, 9.61, 9.88, 9.78, 9.75]\n",
    "\n",
    "punctureResistances1 = [punctureResistances[i]+np.random.random() for i in range(len(punctureResistances))]\n",
    "punctureResistances2 = [punctureResistances[i]+np.random.random() for i in range(len(punctureResistances))]\n",
    "punctureResistances3 = [punctureResistances[i]+np.random.random() for i in range(len(punctureResistances))]\n",
    "\n",
    "parameters = []\n",
    "for i in range(len(punctureResistances)):\n",
    "    parameters.append(math.log(punctureResistances[i])/(mms[i]-2))\n",
    "\n",
    "index = np.arange(len(punctureResistances))\n",
    "sd = []\n",
    "for i in range(len(punctureResistances1)):\n",
    "    sd.append(np.std([\n",
    "        punctureResistances1[i],\n",
    "        punctureResistances2[i],\n",
    "        punctureResistances3[i]\n",
    "    ],ddof=1))\n",
    "\n",
    "plt.rc('font',family='Times New Roman')\n",
    "\n",
    "fig, ax = plt.subplots(nrows=2, ncols=3, figsize=(14, 6),sharey=True)\n",
    "\n",
    "ax[0, 0].set_ylabel('Puncture Resistance (N)')\n",
    "ax[0, 0].bar(index[0:9], punctureResistances[:9], yerr = sd[:9], error_kw = {'ecolor' : '0.2', 'capsize' :6}, alpha=0.7, color=\"grey\")\n",
    "ax[0, 0].set_xticks(index[0:9])\n",
    "ax[0, 0].set_xticklabels(['C1', 'C2', 'C3', 'C4', 'C5', 'C6', 'C7', 'C8', 'C9'])\n",
    "\n",
    "ax[0, 1].bar(index[9:18], punctureResistances[9:18], yerr = sd[9:18], error_kw = {'ecolor' : '0.2', 'capsize' :6}, alpha=0.7, color=\"grey\")\n",
    "ax[0, 1].set_xticks(index[9:18])\n",
    "ax[0, 1].set_xticklabels(['C10', 'C11', 'C12', 'C13', 'C14', 'C15', 'C16', 'C17', 'C18'])\n",
    "\n",
    "ax[0, 2].bar(index[18:], punctureResistances[18:], yerr = sd[18:], error_kw = {'ecolor' : '0.2', 'capsize' :6}, alpha=0.7, color=\"grey\")\n",
    "ax[0, 2].set_xticks(index[18:])\n",
    "ax[0, 2].set_xticklabels(['C19', 'C20', 'C21', 'C22', 'C23', 'C24', 'C25', 'C26', 'C27'])\n",
    "\n",
    "#colors = [\"black\", \"k\", \"dimgray\", \"dimgrey\", \"grey\", \"gray\", \"darkgrey\", \"darkgray\", \"silver\"]\n",
    "colors = [\"black\", \"bisque\", \"lightgreen\", \"lightcoral\", \"cornflowerblue\", \"blueviolet\", \"tomato\", \"hotpink\", \"silver\"]\n",
    "\n",
    "A = ['C1', 'C2', 'C3', 'C4', 'C5', 'C6', 'C7', 'C8', 'C9']\n",
    "B = ['C10', 'C11', 'C12', 'C13', 'C14', 'C15', 'C16', 'C17', 'C18']\n",
    "C = ['C19', 'C20', 'C21', 'C22', 'C23', 'C24', 'C25', 'C26', 'C27']\n",
    "\n",
    "for i in range(len(punctureResistances))[0:9]:\n",
    "    x = np.linspace(0, mms[i], 100)\n",
    "    y = [math.e**(parameters[i]*(x[j]-2)) for j in range(len(x))]\n",
    "    x = np.append(x, x[-1])\n",
    "    y = np.append(y, y[-1]*1/3)\n",
    "    ax[1, 0].set_ylabel('Puncture Resistance (N)')\n",
    "    ax[1, 0].set_xlabel('Deflection (mm)')\n",
    "    ax[1, 0].set_ylim(0,11)\n",
    "    ax[1, 0].plot(x, y, color=colors[i])\n",
    "    #ax[1, 0].vlines(mms[i],  max(y)*1/3, max(y), colors =colors[i])\n",
    "    ax[1, 0].legend(labels=A, borderaxespad=0, frameon=False)\n",
    "\n",
    "\n",
    "for i in range(len(punctureResistances))[9:18]:\n",
    "    x = np.linspace(0, mms[i], 100)\n",
    "    y = [math.e**(parameters[i]*(x[j]-2)) for j in range(len(x))]\n",
    "    x = np.append(x, x[-1])\n",
    "    y = np.append(y, y[-1]*1/3)\n",
    "    ax[1, 1].set_xlabel('Deflection (mm)')\n",
    "    ax[1, 1].set_ylim(0,11)\n",
    "    ax[1, 1].plot(x, y, color=colors[i-9])\n",
    "    #ax[1, 1].vlines(mms[i],  max(y)/2*1/3, max(y), colors = colors[i-9])\n",
    "    ax[1, 1].legend(labels=B, borderaxespad=0, frameon=False)\n",
    "\n",
    "    \n",
    "for i in range(len(punctureResistances))[18:]:\n",
    "    x = np.linspace(0, mms[i], 100)\n",
    "    y = [math.e**(parameters[i]*(x[j]-2)) for j in range(len(x))]\n",
    "    x = np.append(x, x[-1])\n",
    "    y = np.append(y, y[-1]*1/3)\n",
    "    ax[1, 2].set_xlabel('Deflection (mm)')\n",
    "    ax[1, 2].set_ylim(0,11)\n",
    "    ax[1, 2].plot(x, y, color=colors[i-18])\n",
    "    #ax[1, 2].vlines(mms[i],  max(y)/2*1/3, max(y), colors = colors[i-18])\n",
    "    ax[1, 2].legend(labels=C, borderaxespad=0, frameon=False)\n",
    "\n",
    "    \n",
    "plt.savefig(\"temp.png\",dpi=500,bbox_inches = 'tight')\n",
    "plt.show()"
   ]
  },
  {
   "cell_type": "code",
   "execution_count": null,
   "metadata": {},
   "outputs": [],
   "source": []
  }
 ],
 "metadata": {
  "kernelspec": {
   "display_name": "Python 3",
   "language": "python",
   "name": "python3"
  },
  "language_info": {
   "codemirror_mode": {
    "name": "ipython",
    "version": 3
   },
   "file_extension": ".py",
   "mimetype": "text/x-python",
   "name": "python",
   "nbconvert_exporter": "python",
   "pygments_lexer": "ipython3",
   "version": "3.7.4"
  }
 },
 "nbformat": 4,
 "nbformat_minor": 4
}
