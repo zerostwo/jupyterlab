{
 "cells": [
  {
   "cell_type": "code",
   "execution_count": 23,
   "metadata": {},
   "outputs": [
    {
     "name": "stderr",
     "output_type": "stream",
     "text": [
      "Getting uuid of QR code.\n",
      "Downloading QR code.\n",
      "Please scan the QR code to log in.\n",
      "Please press confirm on your phone.\n",
      "Loading the contact, this may take a little while.\n",
      "Login successfully as \n",
      "Start auto replying.\n",
      "LOG OUT!\n"
     ]
    }
   ],
   "source": [
    "import glob\n",
    "import itchat\n",
    "# import time\n",
    "from itchat.content import TEXT, PICTURE\n",
    "\n",
    "imgs = []\n",
    "path = os.getcwd()\n",
    "\n",
    "\n",
    "def searchImage(text):\n",
    "    print('收到关键词: ', text)\n",
    "    for name in glob.glob( \"/root/auto_task/bqb/data/*\"+ text + '*.*'):\n",
    "        imgs.append(name)\n",
    "\n",
    "\n",
    "@itchat.msg_register([PICTURE, TEXT])\n",
    "def text_reply(msg):\n",
    "    searchImagek(msg.text)\n",
    "    for img in imgs[:6]:\n",
    "        msg.user.send_image(img, toUserName='filehelper')\n",
    "        # time.sleep(0.1)\n",
    "        print('开始发送表情：', img)\n",
    "    imgs.clear()\n",
    "\n",
    "\n",
    "itchat.auto_login(hotReload=True)\n",
    "# itchat.auto_login(enableCmdQR=True)\n",
    "itchat.run()"
   ]
  },
  {
   "cell_type": "code",
   "execution_count": 24,
   "metadata": {},
   "outputs": [
    {
     "name": "stderr",
     "output_type": "stream",
     "text": [
      "Getting uuid of QR code.\n",
      "Downloading QR code.\n",
      "Please scan the QR code to log in.\n",
      "Please press confirm on your phone.\n",
      "Loading the contact, this may take a little while.\n",
      "Login successfully as \n",
      "Start auto replying.\n",
      "LOG OUT!\n"
     ]
    }
   ],
   "source": [
    "import glob\n",
    "import itchat\n",
    "import time\n",
    "from itchat.content import TEXT, PICTURE\n",
    "import os\n",
    "\n",
    "imgs = []\n",
    "path = os.getcwd()\n",
    "\n",
    "\n",
    "def searchImage(text):\n",
    "    print('收到关键词: ', text)\n",
    "    for name in glob.glob( \"/root/auto_task/bqb/data/*\"+ text + '*.*'):\n",
    "        imgs.append(name)\n",
    "\n",
    "\n",
    "@itchat.msg_register([PICTURE, TEXT])\n",
    "def text_reply(msg):\n",
    "    searchImage(msg.text)\n",
    "    for img in imgs[:6]:\n",
    "        # msg.user.send_image(img,'filehelper')\n",
    "        itchat.send_image(img, toUserName='filehelper')\n",
    "        # itchat.send_image(img)\n",
    "        time.sleep(0.3)\n",
    "        print('开始发送表情：', img)\n",
    "    imgs.clear()\n",
    "\n",
    "itchat.auto_login(hotReload=True)\n",
    "itchat.run()"
   ]
  },
  {
   "cell_type": "code",
   "execution_count": 1,
   "metadata": {},
   "outputs": [
    {
     "name": "stdout",
     "output_type": "stream",
     "text": []
    }
   ],
   "source": [
    "from wxpy import *"
   ]
  },
  {
   "cell_type": "code",
   "execution_count": 250,
   "metadata": {},
   "outputs": [
    {
     "name": "stderr",
     "output_type": "stream",
     "text": [
      "Getting uuid of QR code.\n",
      "Downloading QR code.\n",
      "Please scan the QR code to log in.\n",
      "Please press confirm on your phone.\n",
      "Loading the contact, this may take a little while.\n",
      "Login successfully as \n",
      "LOG OUT!\n"
     ]
    }
   ],
   "source": [
    "bot = Bot(cache_path = True, qr_callback = True, login_callback = True)"
   ]
  },
  {
   "cell_type": "code",
   "execution_count": 3,
   "metadata": {},
   "outputs": [],
   "source": [
    "myself = bot.self"
   ]
  },
  {
   "cell_type": "code",
   "execution_count": 15,
   "metadata": {},
   "outputs": [
    {
     "data": {
      "text/plain": [
       "↪ 文件传输助手 : Hello from wxpy! (Text)"
      ]
     },
     "execution_count": 15,
     "metadata": {},
     "output_type": "execute_result"
    }
   ],
   "source": [
    "bot.file_helper.send('Hello from wxpy!')"
   ]
  },
  {
   "cell_type": "code",
   "execution_count": 6,
   "metadata": {},
   "outputs": [
    {
     "data": {
      "text/plain": [
       "<wxpy.utils.puid_map.PuidMap at 0x7fdd58b36080>"
      ]
     },
     "execution_count": 6,
     "metadata": {},
     "output_type": "execute_result"
    }
   ],
   "source": [
    "bot.enable_puid('wxpy_puid.pkl')"
   ]
  },
  {
   "cell_type": "code",
   "execution_count": 17,
   "metadata": {},
   "outputs": [],
   "source": [
    "my_friend = bot.friends().search('邹涵')[0]"
   ]
  },
  {
   "cell_type": "code",
   "execution_count": 18,
   "metadata": {},
   "outputs": [
    {
     "name": "stdout",
     "output_type": "stream",
     "text": [
      "878511a4\n"
     ]
    }
   ],
   "source": [
    "print(my_friend.puid)"
   ]
  },
  {
   "cell_type": "code",
   "execution_count": 21,
   "metadata": {},
   "outputs": [],
   "source": [
    "friends = bot.friends()"
   ]
  },
  {
   "cell_type": "code",
   "execution_count": 22,
   "metadata": {},
   "outputs": [
    {
     "data": {
      "text/plain": [
       "165"
      ]
     },
     "execution_count": 22,
     "metadata": {},
     "output_type": "execute_result"
    }
   ],
   "source": [
    "len(friends)"
   ]
  },
  {
   "cell_type": "code",
   "execution_count": 44,
   "metadata": {},
   "outputs": [],
   "source": [
    "groups = bot.groups()"
   ]
  },
  {
   "cell_type": "code",
   "execution_count": 53,
   "metadata": {},
   "outputs": [],
   "source": [
    "mps = bot.mps()"
   ]
  },
  {
   "cell_type": "code",
   "execution_count": 31,
   "metadata": {},
   "outputs": [
    {
     "data": {
      "text/plain": [
       "276"
      ]
     },
     "execution_count": 31,
     "metadata": {},
     "output_type": "execute_result"
    }
   ],
   "source": [
    "len(mps)"
   ]
  },
  {
   "cell_type": "code",
   "execution_count": 33,
   "metadata": {},
   "outputs": [],
   "source": [
    "chats = bot.chats()"
   ]
  },
  {
   "cell_type": "code",
   "execution_count": 34,
   "metadata": {},
   "outputs": [
    {
     "data": {
      "text/plain": [
       "446"
      ]
     },
     "execution_count": 34,
     "metadata": {},
     "output_type": "execute_result"
    }
   ],
   "source": [
    "len(chats)"
   ]
  },
  {
   "cell_type": "code",
   "execution_count": 41,
   "metadata": {},
   "outputs": [],
   "source": [
    "m = chats.search(\"第七\")[0]"
   ]
  },
  {
   "cell_type": "code",
   "execution_count": 42,
   "metadata": {},
   "outputs": [
    {
     "data": {
      "text/plain": [
       "↪ 第七班 : test (Text)"
      ]
     },
     "execution_count": 42,
     "metadata": {},
     "output_type": "execute_result"
    }
   ],
   "source": [
    "m.send(\"test\")"
   ]
  },
  {
   "cell_type": "code",
   "execution_count": 52,
   "metadata": {},
   "outputs": [
    {
     "data": {
      "text/plain": [
       "<User: 薛定谔的死亡猫>"
      ]
     },
     "execution_count": 52,
     "metadata": {},
     "output_type": "execute_result"
    }
   ],
   "source": [
    "bot.user_details(\"雷郅轩\")"
   ]
  },
  {
   "cell_type": "code",
   "execution_count": 55,
   "metadata": {},
   "outputs": [
    {
     "data": {
      "text/plain": [
       "<wxpy.utils.puid_map.PuidMap at 0x7fdd3ed0ce80>"
      ]
     },
     "execution_count": 55,
     "metadata": {},
     "output_type": "execute_result"
    }
   ],
   "source": [
    "bot.enable_puid()"
   ]
  },
  {
   "cell_type": "code",
   "execution_count": 103,
   "metadata": {},
   "outputs": [
    {
     "data": {
      "text/plain": [
       "{'男': 76, '女': 63, '未知': 27}"
      ]
     },
     "execution_count": 103,
     "metadata": {},
     "output_type": "execute_result"
    }
   ],
   "source": [
    "# 性别\n",
    "# 省份 province\n",
    "# 城市 city\n",
    "# 个性签名 signature\n",
    "dict = {0:\"未知\", 1:\"男\", 2:\"女\"}\n",
    "sex = {\"男\":0, \"女\":0, \"未知\":0}\n",
    "for i in bot.friends():\n",
    "    name = i.name\n",
    "#     i.get_avatar(save_path=\"./avatar/\"+name + \".jpg\")\n",
    "#     print(name, dict[i.sex])\n",
    "    sex[dict[i.sex]] += 1\n",
    "sex"
   ]
  },
  {
   "cell_type": "code",
   "execution_count": 109,
   "metadata": {},
   "outputs": [],
   "source": [
    "for i in bot.friends():\n",
    "    name = i.name\n",
    "    if i.is_friend == False:\n",
    "        print(name)"
   ]
  },
  {
   "cell_type": "code",
   "execution_count": 79,
   "metadata": {},
   "outputs": [
    {
     "data": {
      "text/plain": [
       "'878511a4'"
      ]
     },
     "execution_count": 79,
     "metadata": {},
     "output_type": "execute_result"
    }
   ],
   "source": [
    "my_friend.puid"
   ]
  },
  {
   "cell_type": "code",
   "execution_count": 76,
   "metadata": {},
   "outputs": [],
   "source": [
    "leizx = friends.search(\"雷郅轩\")[0]"
   ]
  },
  {
   "cell_type": "code",
   "execution_count": 80,
   "metadata": {},
   "outputs": [
    {
     "data": {
      "text/plain": [
       "'2418c5f8'"
      ]
     },
     "execution_count": 80,
     "metadata": {},
     "output_type": "execute_result"
    }
   ],
   "source": [
    "leizx.puid"
   ]
  },
  {
   "cell_type": "code",
   "execution_count": 83,
   "metadata": {},
   "outputs": [
    {
     "data": {
      "text/plain": [
       "'@af2f5bd465e86eeb55eee55c085c6f2fa4808d29cfde93498a3b61832418c5f8'"
      ]
     },
     "execution_count": 83,
     "metadata": {},
     "output_type": "execute_result"
    }
   ],
   "source": [
    "leizx.user_name"
   ]
  },
  {
   "cell_type": "code",
   "execution_count": 115,
   "metadata": {},
   "outputs": [],
   "source": [
    "group = groups[0]"
   ]
  },
  {
   "cell_type": "code",
   "execution_count": 116,
   "metadata": {},
   "outputs": [
    {
     "data": {
      "text/plain": [
       "196"
      ]
     },
     "execution_count": 116,
     "metadata": {},
     "output_type": "execute_result"
    }
   ],
   "source": [
    "len(group.members)"
   ]
  },
  {
   "cell_type": "code",
   "execution_count": 117,
   "metadata": {},
   "outputs": [
    {
     "data": {
      "text/plain": [
       "<Member: 香港 ningmo（群主）>"
      ]
     },
     "execution_count": 117,
     "metadata": {},
     "output_type": "execute_result"
    }
   ],
   "source": [
    "group.owner"
   ]
  },
  {
   "cell_type": "code",
   "execution_count": 120,
   "metadata": {},
   "outputs": [
    {
     "name": "stdout",
     "output_type": "stream",
     "text": [
      "薛定谔的死亡猫 共有 165 位微信好友\n",
      "\n",
      "男性: 76 (46.1%)\n",
      "女性: 63 (38.2%)\n",
      "\n",
      "TOP 10 省份\n",
      "四川: 44 (26.67%)\n",
      "北京: 10 (6.06%)\n",
      "福建: 7 (4.24%)\n",
      "辽宁: 3 (1.82%)\n",
      "湖南: 3 (1.82%)\n",
      "山东: 2 (1.21%)\n",
      "江苏: 2 (1.21%)\n",
      "安徽: 2 (1.21%)\n",
      "Kowloon City: 2 (1.21%)\n",
      "浙江: 2 (1.21%)\n",
      "\n",
      "TOP 10 城市\n",
      "内江: 16 (9.70%)\n",
      "成都: 15 (9.09%)\n",
      "海淀: 7 (4.24%)\n",
      "福州: 6 (3.64%)\n",
      "雅安: 3 (1.82%)\n",
      "威海: 2 (1.21%)\n",
      "广元: 2 (1.21%)\n",
      "长沙: 2 (1.21%)\n",
      "盘锦: 1 (0.61%)\n",
      "东丽: 1 (0.61%)\n",
      "\n",
      "\n"
     ]
    }
   ],
   "source": [
    "print(friends.stats_text())"
   ]
  },
  {
   "cell_type": "code",
   "execution_count": 121,
   "metadata": {},
   "outputs": [
    {
     "data": {
      "text/plain": [
       "{'sex': Counter({1: 76, 0: 26, 2: 63}),\n",
       " 'province': Counter({'': 59,\n",
       "          '四川': 44,\n",
       "          '辽宁': 3,\n",
       "          '北京': 10,\n",
       "          '福建': 7,\n",
       "          '天津': 1,\n",
       "          '山东': 2,\n",
       "          'South Ari Atoll': 1,\n",
       "          '江苏': 2,\n",
       "          '安徽': 2,\n",
       "          'Kowloon City': 2,\n",
       "          '浙江': 2,\n",
       "          '黑龙江': 2,\n",
       "          'Queensland': 1,\n",
       "          '甘肃': 1,\n",
       "          '河北': 2,\n",
       "          'Okinawa-ken': 1,\n",
       "          '香港': 1,\n",
       "          '陕西': 1,\n",
       "          '山西': 1,\n",
       "          '贵州': 1,\n",
       "          '江西': 1,\n",
       "          'Dubayy': 1,\n",
       "          '广东': 2,\n",
       "          '湖南': 3,\n",
       "          'Ede': 1,\n",
       "          '吉林': 1,\n",
       "          'Busan': 1,\n",
       "          'Saitama-ken': 1,\n",
       "          '内蒙古': 1,\n",
       "          'Tipperary': 1,\n",
       "          'Guangdong': 1,\n",
       "          'Massachusetts': 1,\n",
       "          'British Columbia': 1,\n",
       "          'California': 1,\n",
       "          'Kilkenny': 1,\n",
       "          'Australian Capital Territory': 1}),\n",
       " 'city': Counter({'': 72,\n",
       "          '内江': 16,\n",
       "          '盘锦': 1,\n",
       "          '海淀': 7,\n",
       "          '福州': 6,\n",
       "          '东丽': 1,\n",
       "          '威海': 2,\n",
       "          '成都': 15,\n",
       "          '无锡': 1,\n",
       "          '芜湖': 1,\n",
       "          '雅安': 3,\n",
       "          '自贡': 1,\n",
       "          '杭州': 1,\n",
       "          '南充': 1,\n",
       "          '大庆': 1,\n",
       "          'Gold Coast': 1,\n",
       "          '兰州市': 1,\n",
       "          '遂宁': 1,\n",
       "          '朝阳': 1,\n",
       "          '秦皇岛': 1,\n",
       "          'Okinawa Islands': 1,\n",
       "          '厦门': 1,\n",
       "          '九龙城区': 1,\n",
       "          '西安': 1,\n",
       "          '晋中': 1,\n",
       "          '台州': 1,\n",
       "          '南昌': 1,\n",
       "          '广元': 2,\n",
       "          '资阳': 1,\n",
       "          '南京': 1,\n",
       "          '江门': 1,\n",
       "          '长沙': 2,\n",
       "          '保定': 1,\n",
       "          '湘西': 1,\n",
       "          '绵阳': 1,\n",
       "          '长春': 1,\n",
       "          'Busan': 1,\n",
       "          'Others': 1,\n",
       "          '呼和浩特': 1,\n",
       "          '沈阳': 1,\n",
       "          'Yunfu': 1,\n",
       "          '铜陵': 1,\n",
       "          'Boston': 1,\n",
       "          'Vancouver': 1,\n",
       "          'San Francisco': 1,\n",
       "          '大连': 1,\n",
       "          '哈尔滨': 1,\n",
       "          '广州': 1,\n",
       "          'Canberra': 1})}"
      ]
     },
     "execution_count": 121,
     "metadata": {},
     "output_type": "execute_result"
    }
   ],
   "source": [
    "friends.stats()"
   ]
  },
  {
   "cell_type": "code",
   "execution_count": 124,
   "metadata": {},
   "outputs": [],
   "source": [
    "messages = bot.messages"
   ]
  },
  {
   "cell_type": "code",
   "execution_count": 129,
   "metadata": {},
   "outputs": [
    {
     "data": {
      "text/plain": [
       "'Picture'"
      ]
     },
     "execution_count": 129,
     "metadata": {},
     "output_type": "execute_result"
    }
   ],
   "source": [
    "messages[1].type"
   ]
  },
  {
   "cell_type": "code",
   "execution_count": 132,
   "metadata": {},
   "outputs": [
    {
     "data": {
      "text/plain": [
       "'Hello from wxpy!'"
      ]
     },
     "execution_count": 132,
     "metadata": {},
     "output_type": "execute_result"
    }
   ],
   "source": [
    "messages[2].text"
   ]
  },
  {
   "cell_type": "code",
   "execution_count": 140,
   "metadata": {},
   "outputs": [
    {
     "data": {
      "text/plain": [
       "<ItchatReturnValue: {'BaseResponse': {'ErrMsg': '请求成功', 'Ret': 0, 'RawMsg': 'Successfully downloaded'}, 'PostFix': 'png'}>"
      ]
     },
     "execution_count": 140,
     "metadata": {},
     "output_type": "execute_result"
    }
   ],
   "source": [
    "messages[1].get_file(save_path=\"./\"+ messages[1].file_name)"
   ]
  },
  {
   "cell_type": "code",
   "execution_count": 141,
   "metadata": {},
   "outputs": [
    {
     "data": {
      "text/plain": [
       "''"
      ]
     },
     "execution_count": 141,
     "metadata": {},
     "output_type": "execute_result"
    }
   ],
   "source": [
    "messages[1].file_size"
   ]
  },
  {
   "cell_type": "code",
   "execution_count": 146,
   "metadata": {},
   "outputs": [
    {
     "data": {
      "text/plain": [
       "{'MsgId': '3536728759415553162',\n",
       " 'FromUserName': '@@10fc06027c045f86b8fb9cc9dbea94b62188ae1c1fa84a6abf427d1f9ab6dc24',\n",
       " 'ToUserName': '@d86b93fc26adf26434c41912136d5ca7',\n",
       " 'MsgType': 1,\n",
       " 'Content': '多幸福',\n",
       " 'Status': 3,\n",
       " 'ImgStatus': 1,\n",
       " 'CreateTime': 1561910357,\n",
       " 'VoiceLength': 0,\n",
       " 'PlayLength': 0,\n",
       " 'FileName': '',\n",
       " 'FileSize': '',\n",
       " 'MediaId': '',\n",
       " 'Url': '',\n",
       " 'AppMsgType': 0,\n",
       " 'StatusNotifyCode': 0,\n",
       " 'StatusNotifyUserName': '',\n",
       " 'RecommendInfo': {'UserName': '',\n",
       "  'NickName': '',\n",
       "  'QQNum': 0,\n",
       "  'Province': '',\n",
       "  'City': '',\n",
       "  'Content': '',\n",
       "  'Signature': '',\n",
       "  'Alias': '',\n",
       "  'Scene': 0,\n",
       "  'VerifyFlag': 0,\n",
       "  'AttrStatus': 0,\n",
       "  'Sex': 0,\n",
       "  'Ticket': '',\n",
       "  'OpCode': 0},\n",
       " 'ForwardFlag': 0,\n",
       " 'AppInfo': {'AppID': '', 'Type': 0},\n",
       " 'HasProductId': 0,\n",
       " 'Ticket': '',\n",
       " 'ImgHeight': 0,\n",
       " 'ImgWidth': 0,\n",
       " 'SubMsgType': 0,\n",
       " 'NewMsgId': 3536728759415553162,\n",
       " 'OriContent': '',\n",
       " 'EncryFileName': '',\n",
       " 'ActualUserName': '@df27f8b51df110ed9ac6b46a1d4522983b63663002d6e26f4fe414f0c720ca80',\n",
       " 'ActualNickName': '马来西亚-永乐',\n",
       " 'isAt': False,\n",
       " 'Type': 'Text',\n",
       " 'Text': '多幸福'}"
      ]
     },
     "execution_count": 146,
     "metadata": {},
     "output_type": "execute_result"
    }
   ],
   "source": [
    "messages[4].raw"
   ]
  },
  {
   "cell_type": "code",
   "execution_count": 148,
   "metadata": {},
   "outputs": [
    {
     "data": {
      "text/plain": [
       "<Group: GOD俱樂部群>"
      ]
     },
     "execution_count": 148,
     "metadata": {},
     "output_type": "execute_result"
    }
   ],
   "source": [
    "messages[1].chat"
   ]
  },
  {
   "cell_type": "code",
   "execution_count": 149,
   "metadata": {},
   "outputs": [
    {
     "data": {
      "text/plain": [
       "<Group: GOD俱樂部群>"
      ]
     },
     "execution_count": 149,
     "metadata": {},
     "output_type": "execute_result"
    }
   ],
   "source": [
    "messages[1].sender"
   ]
  },
  {
   "cell_type": "code",
   "execution_count": 151,
   "metadata": {},
   "outputs": [
    {
     "data": {
      "text/plain": [
       "<Friend: 薛定谔的死亡猫>"
      ]
     },
     "execution_count": 151,
     "metadata": {},
     "output_type": "execute_result"
    }
   ],
   "source": [
    "messages[1].receiver"
   ]
  },
  {
   "cell_type": "code",
   "execution_count": 152,
   "metadata": {},
   "outputs": [
    {
     "data": {
      "text/plain": [
       "<Member: 深圳。飯飯>"
      ]
     },
     "execution_count": 152,
     "metadata": {},
     "output_type": "execute_result"
    }
   ],
   "source": [
    "messages[1].member"
   ]
  },
  {
   "cell_type": "code",
   "execution_count": 153,
   "metadata": {},
   "outputs": [
    {
     "data": {
      "text/plain": [
       "False"
      ]
     },
     "execution_count": 153,
     "metadata": {},
     "output_type": "execute_result"
    }
   ],
   "source": [
    "messages[1].is_at"
   ]
  },
  {
   "cell_type": "code",
   "execution_count": 154,
   "metadata": {},
   "outputs": [],
   "source": [
    "groups = bot.groups(update=True)"
   ]
  },
  {
   "cell_type": "code",
   "execution_count": 157,
   "metadata": {},
   "outputs": [],
   "source": [
    "messages = bot.messages"
   ]
  },
  {
   "cell_type": "code",
   "execution_count": 165,
   "metadata": {},
   "outputs": [
    {
     "data": {
      "text/plain": [
       "False"
      ]
     },
     "execution_count": 165,
     "metadata": {},
     "output_type": "execute_result"
    }
   ],
   "source": [
    "messages[-1].is_at"
   ]
  },
  {
   "cell_type": "code",
   "execution_count": 166,
   "metadata": {},
   "outputs": [
    {
     "data": {
      "text/plain": [
       "datetime.datetime(2019, 7, 1, 8, 49, 6)"
      ]
     },
     "execution_count": 166,
     "metadata": {},
     "output_type": "execute_result"
    }
   ],
   "source": [
    "messages[-1].create_time"
   ]
  },
  {
   "cell_type": "code",
   "execution_count": 167,
   "metadata": {},
   "outputs": [
    {
     "data": {
      "text/plain": [
       "1.619988"
      ]
     },
     "execution_count": 167,
     "metadata": {},
     "output_type": "execute_result"
    }
   ],
   "source": [
    "messages[-1].latency"
   ]
  },
  {
   "cell_type": "code",
   "execution_count": 190,
   "metadata": {},
   "outputs": [
    {
     "data": {
      "text/plain": [
       "↪ GOD俱樂部群 : test (Text)"
      ]
     },
     "execution_count": 190,
     "metadata": {},
     "output_type": "execute_result"
    }
   ],
   "source": [
    "messages[1].reply(\"test\")"
   ]
  },
  {
   "cell_type": "code",
   "execution_count": 178,
   "metadata": {},
   "outputs": [],
   "source": [
    "share = messages[10]"
   ]
  },
  {
   "cell_type": "code",
   "execution_count": 185,
   "metadata": {},
   "outputs": [
    {
     "data": {
      "text/plain": [
       "[<Article: 你想要的宏基因组-微生物组知识全在这(1907)>,\n",
       " <Article: 2019微生物组—宏基因组分析技术研讨会第五期>,\n",
       " <Article: 16S+功能预测发Sciences：尸体降解过程中的微生物组>,\n",
       " <Article: PNAS：多年多点5千样本鉴定玉米根际可遗传微生物>]"
      ]
     },
     "execution_count": 185,
     "metadata": {},
     "output_type": "execute_result"
    }
   ],
   "source": [
    "share.articles"
   ]
  },
  {
   "cell_type": "code",
   "execution_count": 181,
   "metadata": {},
   "outputs": [
    {
     "data": {
      "text/plain": [
       "'http://mp.weixin.qq.com/s?__biz=MzUzMjA4Njc1MA==&mid=2247488531&idx=1&sn=008b5f9d57fd55670eeba4b375be015b&chksm=fab9fea2cdce77b4c35d0ec32713d2c9fda37bb62df75a1ea14edea8dce5916e00ddf84d8aa3&scene=0&xtrack=1#rd'"
      ]
     },
     "execution_count": 181,
     "metadata": {},
     "output_type": "execute_result"
    }
   ],
   "source": [
    "share.url"
   ]
  },
  {
   "cell_type": "code",
   "execution_count": 193,
   "metadata": {},
   "outputs": [
    {
     "data": {
      "text/plain": [
       "↪ 邹涵 : (Picture)"
      ]
     },
     "execution_count": 193,
     "metadata": {},
     "output_type": "execute_result"
    }
   ],
   "source": [
    "messages[1].forward(my_friend)"
   ]
  },
  {
   "cell_type": "code",
   "execution_count": 194,
   "metadata": {},
   "outputs": [
    {
     "data": {
      "text/plain": [
       "[GOD俱樂部群 › 深圳。飯飯 : 这“小可爱”，我怕口水太多 (Text),\n",
       " GOD俱樂部群 › 深圳。飯飯 : (Picture),\n",
       " ↪ 文件传输助手 : Hello from wxpy! (Text),\n",
       " GOD俱樂部群 › 马来西亚-永乐 : 尼比鲁现居一栋大别墅呢 (Text),\n",
       " GOD俱樂部群 › 马来西亚-永乐 : 多幸福 (Text),\n",
       " GOD俱樂部群 › 山东青岛Tiger : 出来冒个泡 (Text),\n",
       " GOD俱樂部群 › 深圳。飯飯 : (Picture),\n",
       " 病毒学界 : 2019年5月全国法定传染病疫情概况 (Sharing),\n",
       " 慧天地 : 红色军事家与地理地图的故事四：毛泽东朱德巧用地形布阵破“围剿” (Sharing),\n",
       " GOD俱樂部群 › 山东青岛Tiger : 最近忙的想死 (Text),\n",
       " 宏基因组 : 你想要的宏基因组-微生物组知识全在这(1907) (Sharing),\n",
       " GOD俱樂部群 › 山东青岛Tiger : 星期天都没注意 (Text),\n",
       " ↪ 文件传输助手 : Hello from wxpy! (Text),\n",
       " ↪ 薛定谔的杂货铺 : d (Text),\n",
       " 薛定谔的杂货铺 : d (Text),\n",
       " ↪ 第七班 : test (Text),\n",
       " GOD俱樂部群 › 马来西亚-永乐 : 好久不见 (Text),\n",
       " GOD俱樂部群 › 马来西亚-永乐 : 虎哥 (Text),\n",
       " GOD俱樂部群 › 中國香港桃桃 : (Recording),\n",
       " GOD俱樂部群 › 中國香港桃桃 : (Recording),\n",
       " GOD俱樂部群 › 🇲🇾Victor : 像美式的房子 (Text),\n",
       " GOD俱樂部群 › 高雄_饕餮（管理） : (Picture),\n",
       " GOD俱樂部群 › 台灣-幼妻大佬 : (Video),\n",
       " GOD俱樂部群 › 台灣-幼妻大佬 : 超猛ww (Text),\n",
       " GOD俱樂部群 › 深圳。飯飯 : @中國香港🍓桃桃 日本都是单栋居民建筑，老高说过他在东京郊区，所以比之前卖出去的房子大很多 (Text),\n",
       " GOD俱樂部群 › 弗兰常杀_何细鱼 : @中國香港🍓桃桃  哇～ 桃桃说话 好好听 (Text),\n",
       " GOD俱樂部群 › 中国苏州小张 : (Picture),\n",
       " GOD俱樂部群 › 深圳。飯飯 : @中國香港🍓桃桃  哇～ 桃桃说话 好好听 (Text),\n",
       " GOD俱樂部群 › 深圳。飯飯 : @弗兰常杀_何细鱼 跟你的声音很像，可惜你300斤 (Text),\n",
       " GOD俱樂部群 › 弗兰常杀_何细鱼 : @深圳。飯飯 我一壮汉怎么能和小姐姐相比！ 桃桃的普通话标准呐～ (Text),\n",
       " GOD俱樂部群 › 深圳。飯飯 : 公园儿~ (Text),\n",
       " GOD俱樂部群 › 深圳。飯飯 : 我多听了几次 (Text),\n",
       " GOD俱樂部群 › 🇲🇾Victor : 我都不敢聽太多次 (Text),\n",
       " GOD俱樂部群 › 廣東、Nick : 我深深地愛上了你@中國香港🍓桃桃  (Text),\n",
       " GOD俱樂部群 › 廣東、Nick : 請添加我微信好友 (Text),\n",
       " GOD俱樂部群 › 江西 大熊🐻（管理） : (Picture),\n",
       " GOD俱樂部群 › 高雄_饕餮（管理） : 人家跟你們談地段 你們跟人家談交好友 (Text),\n",
       " GOD俱樂部群 › 高雄_饕餮（管理） : 沒看到有人都看不下去了 瞬間從197變成196 (Text),\n",
       " GOD俱樂部群 › 高雄_饕餮（管理） : (Picture),\n",
       " GOD俱樂部群 › 高雄_饕餮（管理） : 桃桃抱歉 那是我家跑出來的孩子 我們會抓回去管管的 妳當自己群 別介意 (Text),\n",
       " GOD俱樂部群 › 高雄_饕餮（管理） : (Picture),\n",
       " GOD俱樂部群 › 深圳。飯飯 : @弗兰常杀_何细鱼 好汉慢走不送 (Text),\n",
       " GOD俱樂部群 › 高雄_饕餮（管理） : @中國香港🍓桃桃 老高跟嫂子院子不僅大 而且好像沒有蚊子 天黑了還能穿短袖在外面吃烤肉 一般是不可能的吧 (Text),\n",
       " GOD俱樂部群 › 深圳。飯飯 : 有蚊子…… (Text),\n",
       " GOD俱樂部群 › 深圳。飯飯 : 不是被叮了吗 (Text),\n",
       " GOD俱樂部群 › 深圳。飯飯 : (Picture),\n",
       " GOD俱樂部群 › 深圳。飯飯 : 左下角那个 (Text),\n",
       " GOD俱樂部群 › 深圳。飯飯 : 他其实叫莫斯浩，他于1961年出生，他的老爸莫白澜是30年代中国第一批公费到美国留学的高材生，后定居美国华盛顿，于1980年受到祖国的召回，他主要研究的方向是离子在莫比斯环内高速撞击产生的空间涡流与时间之间…实在是编不下去了…… (Text),\n",
       " GOD俱樂部群 › 广州老高粉，HOLIDAY : (Video),\n",
       " GOD俱樂部群 › 广州老高粉，HOLIDAY : 这个视频是间接告诉我们，占据社会上层的大部分是蜥蜴人 (Text),\n",
       " GOD俱樂部群 › 广州老高粉，HOLIDAY : ？ (Text),\n",
       " GOD俱樂部群 › 广州老高粉，HOLIDAY : (Video),\n",
       " 超级高考老师App高考数学研究A群 › CRJ : 2019年全国高中数学联赛甘肃赛区预赛试题及解答 (Sharing),\n",
       " 狗熊会 : 学统计学？找狗熊会！| 在线学堂《统计学理论精要》项目招募中~ (Sharing),\n",
       " 研之成理 : BiOX光催化的先驱！他把一种材料做到了极致！ (Sharing),\n",
       " 考研竞赛数学 : 《高等数学》第二学期期末考试试题（四）及参考解答拓展版 (Sharing),\n",
       " 共青团中央 : 92岁的老党员：我们一起奋斗好不好？ (Sharing),\n",
       " SCI狂人 : 为什么人家可以发高分sci，而你只能原地灌水？ (Sharing),\n",
       " 中外学术情报 : 985博士师姐：我那被熬夜写论文毁掉的脸，因它而复活..... (Sharing),\n",
       " 科研圈 : 特朗普称“一直欢迎中国学生来美国留学” | 科研圈日报 (Sharing),\n",
       " X一MOL资讯 : 崔屹教授团队Matter：将化学诺奖技术用于MOF研究 (Sharing),\n",
       " 知识分子 : 量子科技竞赛开始了：如何区分商业炒作、公关和真正的创新？ (Sharing),\n",
       " 生信人 : 与癌症相关的病毒的生信分析套路介绍 (Sharing),\n",
       " 学校共青团 : 我是共产党员，这个崛起的中国是我给你的答复！ (Sharing),\n",
       " 黑客技术与网络安全 : https到底把什么加密了? (Sharing),\n",
       " GOD俱樂部群 › 深圳。飯飯 : (Picture),\n",
       " GOD俱樂部群 › 廣東、Nick : (Picture),\n",
       " GOD俱樂部群 › 廣東、Nick : (Picture),\n",
       " GOD俱樂部群 › 廣東、Nick : (Picture),\n",
       " ↪ None : test (Text),\n",
       " ↪ None : @鲸落  (Text),\n",
       " GOD俱樂部群 › 深圳。飯飯 : (Picture),\n",
       " GOD俱樂部群 › 江西 大熊🐻（管理） : (Picture),\n",
       " GOD俱樂部群 › 廣東、Nick : (Picture),\n",
       " AppSo : 新款 iPhone 机模曝光 / 支付宝上线垃圾分类小程序 / 极少数 MacBook Air 存在主板问题 (Sharing),\n",
       " 纳米人 : 圆桌会谈丨包信和、杨培东、郑南峰、陈立桅：让世界更“绿色”的化学！ (Sharing),\n",
       " ↪ GOD俱樂部群 : test (Text),\n",
       " ↪ 文件传输助手 : (Picture),\n",
       " ↪ 邹涵 : (Picture)]"
      ]
     },
     "execution_count": 194,
     "metadata": {},
     "output_type": "execute_result"
    }
   ],
   "source": [
    "bot.messages"
   ]
  },
  {
   "cell_type": "code",
   "execution_count": 205,
   "metadata": {},
   "outputs": [],
   "source": [
    "@bot.register(Group, TEXT)\n",
    "def print_group_msg(msg):\n",
    "    print(msg)"
   ]
  },
  {
   "cell_type": "code",
   "execution_count": 207,
   "metadata": {},
   "outputs": [],
   "source": [
    "bot.messages.max_history=10000"
   ]
  },
  {
   "cell_type": "code",
   "execution_count": 209,
   "metadata": {},
   "outputs": [],
   "source": [
    "messages = bot.messages"
   ]
  },
  {
   "cell_type": "code",
   "execution_count": null,
   "metadata": {},
   "outputs": [],
   "source": []
  },
  {
   "cell_type": "code",
   "execution_count": 215,
   "metadata": {},
   "outputs": [
    {
     "data": {
      "text/plain": [
       "<Chat: 文件传输助手>"
      ]
     },
     "execution_count": 215,
     "metadata": {},
     "output_type": "execute_result"
    }
   ],
   "source": [
    "bot.file_helper"
   ]
  },
  {
   "cell_type": "code",
   "execution_count": 216,
   "metadata": {},
   "outputs": [],
   "source": [
    "file_helper = bot.file_helper"
   ]
  },
  {
   "cell_type": "code",
   "execution_count": 217,
   "metadata": {},
   "outputs": [
    {
     "data": {
      "text/plain": [
       "↪ 文件传输助手 : ss (Text)"
      ]
     },
     "execution_count": 217,
     "metadata": {},
     "output_type": "execute_result"
    }
   ],
   "source": [
    "file_helper.send(\"ss\")"
   ]
  },
  {
   "cell_type": "code",
   "execution_count": 218,
   "metadata": {},
   "outputs": [],
   "source": [
    "myself = friends.search(\"薛定谔的死亡猫\")[0]"
   ]
  },
  {
   "cell_type": "code",
   "execution_count": 227,
   "metadata": {},
   "outputs": [],
   "source": [
    "@bot.register(myself)\n",
    "def test(msg):\n",
    "    print(msg)"
   ]
  },
  {
   "cell_type": "code",
   "execution_count": 246,
   "metadata": {},
   "outputs": [],
   "source": [
    "bot.registered.disable()"
   ]
  },
  {
   "cell_type": "code",
   "execution_count": 236,
   "metadata": {},
   "outputs": [
    {
     "data": {
      "text/plain": [
       "↪ 文件传输助手 : dd (Text)"
      ]
     },
     "execution_count": 236,
     "metadata": {},
     "output_type": "execute_result"
    }
   ],
   "source": [
    "messages[-2].chat.send(\"dd\")"
   ]
  },
  {
   "cell_type": "code",
   "execution_count": 240,
   "metadata": {},
   "outputs": [],
   "source": [
    "@bot.register(bot.file_helper)\n",
    "def bqb(msg):\n",
    "    msg.chat.send(\"dd\")"
   ]
  },
  {
   "cell_type": "code",
   "execution_count": 242,
   "metadata": {},
   "outputs": [
    {
     "data": {
      "text/plain": [
       "[<MessageConfig: 薛定谔的死亡猫: r (Disabled, Async)>,\n",
       " <MessageConfig: 薛定谔的死亡猫: r (Disabled, Async)>,\n",
       " <MessageConfig: 薛定谔的死亡猫: r (Disabled, Async)>,\n",
       " <MessageConfig: 薛定谔的死亡猫: r (Disabled, Async)>,\n",
       " <MessageConfig: 薛定谔的死亡猫: print_group_msg (Disabled, Async)>,\n",
       " <MessageConfig: 薛定谔的死亡猫: test (Disabled, Async)>,\n",
       " <MessageConfig: 薛定谔的死亡猫: test (Disabled, Async)>,\n",
       " <MessageConfig: 薛定谔的死亡猫: test (Disabled, Async)>,\n",
       " <MessageConfig: 薛定谔的死亡猫: test (Disabled, Async)>,\n",
       " <MessageConfig: 薛定谔的死亡猫: bqb (Disabled, Async)>]"
      ]
     },
     "execution_count": 242,
     "metadata": {},
     "output_type": "execute_result"
    }
   ],
   "source": [
    "bot.registered"
   ]
  },
  {
   "cell_type": "code",
   "execution_count": 247,
   "metadata": {},
   "outputs": [
    {
     "ename": "MultipleInstanceError",
     "evalue": "Multiple incompatible subclass instances of InteractiveShellEmbed are being created.",
     "output_type": "error",
     "traceback": [
      "\u001b[0;31m---------------------------------------------------------------------------\u001b[0m",
      "\u001b[0;31mMultipleInstanceError\u001b[0m                     Traceback (most recent call last)",
      "\u001b[0;32m<ipython-input-247-0cb2bfe59964>\u001b[0m in \u001b[0;36m<module>\u001b[0;34m\u001b[0m\n\u001b[1;32m      2\u001b[0m \u001b[0;32mdef\u001b[0m \u001b[0mreply_self\u001b[0m\u001b[0;34m(\u001b[0m\u001b[0mmsg\u001b[0m\u001b[0;34m)\u001b[0m\u001b[0;34m:\u001b[0m\u001b[0;34m\u001b[0m\u001b[0;34m\u001b[0m\u001b[0m\n\u001b[1;32m      3\u001b[0m     \u001b[0;32mreturn\u001b[0m \u001b[0;34m'received: {} ({})'\u001b[0m\u001b[0;34m.\u001b[0m\u001b[0mformat\u001b[0m\u001b[0;34m(\u001b[0m\u001b[0mmsg\u001b[0m\u001b[0;34m.\u001b[0m\u001b[0mtext\u001b[0m\u001b[0;34m,\u001b[0m \u001b[0mmsg\u001b[0m\u001b[0;34m.\u001b[0m\u001b[0mtype\u001b[0m\u001b[0;34m)\u001b[0m\u001b[0;34m\u001b[0m\u001b[0;34m\u001b[0m\u001b[0m\n\u001b[0;32m----> 4\u001b[0;31m \u001b[0membed\u001b[0m\u001b[0;34m(\u001b[0m\u001b[0;34m)\u001b[0m\u001b[0;34m\u001b[0m\u001b[0;34m\u001b[0m\u001b[0m\n\u001b[0m",
      "\u001b[0;32m~/anaconda3/lib/python3.6/site-packages/wxpy/utils/console.py\u001b[0m in \u001b[0;36membed\u001b[0;34m(local, banner, shell)\u001b[0m\n\u001b[1;32m     72\u001b[0m     \u001b[0;32mfor\u001b[0m \u001b[0m_shell\u001b[0m \u001b[0;32min\u001b[0m \u001b[0mshell\u001b[0m\u001b[0;34m,\u001b[0m \u001b[0m_ipython\u001b[0m\u001b[0;34m,\u001b[0m \u001b[0m_bpython\u001b[0m\u001b[0;34m,\u001b[0m \u001b[0m_python\u001b[0m\u001b[0;34m:\u001b[0m\u001b[0;34m\u001b[0m\u001b[0;34m\u001b[0m\u001b[0m\n\u001b[1;32m     73\u001b[0m         \u001b[0;32mtry\u001b[0m\u001b[0;34m:\u001b[0m\u001b[0;34m\u001b[0m\u001b[0;34m\u001b[0m\u001b[0m\n\u001b[0;32m---> 74\u001b[0;31m             \u001b[0m_shell\u001b[0m\u001b[0;34m(\u001b[0m\u001b[0mlocal\u001b[0m\u001b[0;34m=\u001b[0m\u001b[0mlocal\u001b[0m\u001b[0;34m,\u001b[0m \u001b[0mbanner\u001b[0m\u001b[0;34m=\u001b[0m\u001b[0mbanner\u001b[0m\u001b[0;34m)\u001b[0m\u001b[0;34m\u001b[0m\u001b[0;34m\u001b[0m\u001b[0m\n\u001b[0m\u001b[1;32m     75\u001b[0m         \u001b[0;32mexcept\u001b[0m \u001b[0;34m(\u001b[0m\u001b[0mTypeError\u001b[0m\u001b[0;34m,\u001b[0m \u001b[0mImportError\u001b[0m\u001b[0;34m)\u001b[0m\u001b[0;34m:\u001b[0m\u001b[0;34m\u001b[0m\u001b[0;34m\u001b[0m\u001b[0m\n\u001b[1;32m     76\u001b[0m             \u001b[0;32mcontinue\u001b[0m\u001b[0;34m\u001b[0m\u001b[0;34m\u001b[0m\u001b[0m\n",
      "\u001b[0;32m~/anaconda3/lib/python3.6/site-packages/wxpy/utils/console.py\u001b[0m in \u001b[0;36m_ipython\u001b[0;34m(local, banner)\u001b[0m\n\u001b[1;32m     15\u001b[0m         \u001b[0mbanner1\u001b[0m\u001b[0;34m=\u001b[0m\u001b[0mbanner\u001b[0m\u001b[0;34m,\u001b[0m\u001b[0;34m\u001b[0m\u001b[0;34m\u001b[0m\u001b[0m\n\u001b[1;32m     16\u001b[0m         \u001b[0muser_ns\u001b[0m\u001b[0;34m=\u001b[0m\u001b[0mlocal\u001b[0m\u001b[0;34m,\u001b[0m\u001b[0;34m\u001b[0m\u001b[0;34m\u001b[0m\u001b[0m\n\u001b[0;32m---> 17\u001b[0;31m         \u001b[0mconfig\u001b[0m\u001b[0;34m=\u001b[0m\u001b[0mload_default_config\u001b[0m\u001b[0;34m(\u001b[0m\u001b[0;34m)\u001b[0m\u001b[0;34m\u001b[0m\u001b[0;34m\u001b[0m\u001b[0m\n\u001b[0m\u001b[1;32m     18\u001b[0m     )\n\u001b[1;32m     19\u001b[0m     \u001b[0mshell\u001b[0m\u001b[0;34m(\u001b[0m\u001b[0;34m)\u001b[0m\u001b[0;34m\u001b[0m\u001b[0;34m\u001b[0m\u001b[0m\n",
      "\u001b[0;32m~/anaconda3/lib/python3.6/site-packages/traitlets/config/configurable.py\u001b[0m in \u001b[0;36minstance\u001b[0;34m(cls, *args, **kwargs)\u001b[0m\n\u001b[1;32m    421\u001b[0m             raise MultipleInstanceError(\n\u001b[1;32m    422\u001b[0m                 \u001b[0;34m'Multiple incompatible subclass instances of '\u001b[0m\u001b[0;34m\u001b[0m\u001b[0;34m\u001b[0m\u001b[0m\n\u001b[0;32m--> 423\u001b[0;31m                 \u001b[0;34m'%s are being created.'\u001b[0m \u001b[0;34m%\u001b[0m \u001b[0mcls\u001b[0m\u001b[0;34m.\u001b[0m\u001b[0m__name__\u001b[0m\u001b[0;34m\u001b[0m\u001b[0;34m\u001b[0m\u001b[0m\n\u001b[0m\u001b[1;32m    424\u001b[0m             )\n\u001b[1;32m    425\u001b[0m \u001b[0;34m\u001b[0m\u001b[0m\n",
      "\u001b[0;31mMultipleInstanceError\u001b[0m: Multiple incompatible subclass instances of InteractiveShellEmbed are being created."
     ]
    }
   ],
   "source": [
    "@bot.register(bot.self, except_self=False)\n",
    "def reply_self(msg):\n",
    "    return 'received: {} ({})'.format(msg.text, msg.type)\n",
    "embed()"
   ]
  },
  {
   "cell_type": "code",
   "execution_count": 244,
   "metadata": {},
   "outputs": [
    {
     "data": {
      "text/plain": [
       "[GOD俱樂部群 › 深圳。飯飯 : 这“小可爱”，我怕口水太多 (Text),\n",
       " GOD俱樂部群 › 深圳。飯飯 : (Picture),\n",
       " ↪ 文件传输助手 : Hello from wxpy! (Text),\n",
       " GOD俱樂部群 › 马来西亚-永乐 : 尼比鲁现居一栋大别墅呢 (Text),\n",
       " GOD俱樂部群 › 马来西亚-永乐 : 多幸福 (Text),\n",
       " GOD俱樂部群 › 山东青岛Tiger : 出来冒个泡 (Text),\n",
       " GOD俱樂部群 › 深圳。飯飯 : (Picture),\n",
       " 病毒学界 : 2019年5月全国法定传染病疫情概况 (Sharing),\n",
       " 慧天地 : 红色军事家与地理地图的故事四：毛泽东朱德巧用地形布阵破“围剿” (Sharing),\n",
       " GOD俱樂部群 › 山东青岛Tiger : 最近忙的想死 (Text),\n",
       " 宏基因组 : 你想要的宏基因组-微生物组知识全在这(1907) (Sharing),\n",
       " GOD俱樂部群 › 山东青岛Tiger : 星期天都没注意 (Text),\n",
       " ↪ 文件传输助手 : Hello from wxpy! (Text),\n",
       " ↪ 薛定谔的杂货铺 : d (Text),\n",
       " 薛定谔的杂货铺 : d (Text),\n",
       " ↪ 第七班 : test (Text),\n",
       " GOD俱樂部群 › 马来西亚-永乐 : 好久不见 (Text),\n",
       " GOD俱樂部群 › 马来西亚-永乐 : 虎哥 (Text),\n",
       " GOD俱樂部群 › 中國香港桃桃 : (Recording),\n",
       " GOD俱樂部群 › 中國香港桃桃 : (Recording),\n",
       " GOD俱樂部群 › 🇲🇾Victor : 像美式的房子 (Text),\n",
       " GOD俱樂部群 › 高雄_饕餮（管理） : (Picture),\n",
       " GOD俱樂部群 › 台灣-幼妻大佬 : (Video),\n",
       " GOD俱樂部群 › 台灣-幼妻大佬 : 超猛ww (Text),\n",
       " GOD俱樂部群 › 深圳。飯飯 : @中國香港🍓桃桃 日本都是单栋居民建筑，老高说过他在东京郊区，所以比之前卖出去的房子大很多 (Text),\n",
       " GOD俱樂部群 › 弗兰常杀_何细鱼 : @中國香港🍓桃桃  哇～ 桃桃说话 好好听 (Text),\n",
       " GOD俱樂部群 › 中国苏州小张 : (Picture),\n",
       " GOD俱樂部群 › 深圳。飯飯 : @中國香港🍓桃桃  哇～ 桃桃说话 好好听 (Text),\n",
       " GOD俱樂部群 › 深圳。飯飯 : @弗兰常杀_何细鱼 跟你的声音很像，可惜你300斤 (Text),\n",
       " GOD俱樂部群 › 弗兰常杀_何细鱼 : @深圳。飯飯 我一壮汉怎么能和小姐姐相比！ 桃桃的普通话标准呐～ (Text),\n",
       " GOD俱樂部群 › 深圳。飯飯 : 公园儿~ (Text),\n",
       " GOD俱樂部群 › 深圳。飯飯 : 我多听了几次 (Text),\n",
       " GOD俱樂部群 › 🇲🇾Victor : 我都不敢聽太多次 (Text),\n",
       " GOD俱樂部群 › 廣東、Nick : 我深深地愛上了你@中國香港🍓桃桃  (Text),\n",
       " GOD俱樂部群 › 廣東、Nick : 請添加我微信好友 (Text),\n",
       " GOD俱樂部群 › 江西 大熊🐻（管理） : (Picture),\n",
       " GOD俱樂部群 › 高雄_饕餮（管理） : 人家跟你們談地段 你們跟人家談交好友 (Text),\n",
       " GOD俱樂部群 › 高雄_饕餮（管理） : 沒看到有人都看不下去了 瞬間從197變成196 (Text),\n",
       " GOD俱樂部群 › 高雄_饕餮（管理） : (Picture),\n",
       " GOD俱樂部群 › 高雄_饕餮（管理） : 桃桃抱歉 那是我家跑出來的孩子 我們會抓回去管管的 妳當自己群 別介意 (Text),\n",
       " GOD俱樂部群 › 高雄_饕餮（管理） : (Picture),\n",
       " GOD俱樂部群 › 深圳。飯飯 : @弗兰常杀_何细鱼 好汉慢走不送 (Text),\n",
       " GOD俱樂部群 › 高雄_饕餮（管理） : @中國香港🍓桃桃 老高跟嫂子院子不僅大 而且好像沒有蚊子 天黑了還能穿短袖在外面吃烤肉 一般是不可能的吧 (Text),\n",
       " GOD俱樂部群 › 深圳。飯飯 : 有蚊子…… (Text),\n",
       " GOD俱樂部群 › 深圳。飯飯 : 不是被叮了吗 (Text),\n",
       " GOD俱樂部群 › 深圳。飯飯 : (Picture),\n",
       " GOD俱樂部群 › 深圳。飯飯 : 左下角那个 (Text),\n",
       " GOD俱樂部群 › 深圳。飯飯 : 他其实叫莫斯浩，他于1961年出生，他的老爸莫白澜是30年代中国第一批公费到美国留学的高材生，后定居美国华盛顿，于1980年受到祖国的召回，他主要研究的方向是离子在莫比斯环内高速撞击产生的空间涡流与时间之间…实在是编不下去了…… (Text),\n",
       " GOD俱樂部群 › 广州老高粉，HOLIDAY : (Video),\n",
       " GOD俱樂部群 › 广州老高粉，HOLIDAY : 这个视频是间接告诉我们，占据社会上层的大部分是蜥蜴人 (Text),\n",
       " GOD俱樂部群 › 广州老高粉，HOLIDAY : ？ (Text),\n",
       " GOD俱樂部群 › 广州老高粉，HOLIDAY : (Video),\n",
       " 超级高考老师App高考数学研究A群 › CRJ : 2019年全国高中数学联赛甘肃赛区预赛试题及解答 (Sharing),\n",
       " 狗熊会 : 学统计学？找狗熊会！| 在线学堂《统计学理论精要》项目招募中~ (Sharing),\n",
       " 研之成理 : BiOX光催化的先驱！他把一种材料做到了极致！ (Sharing),\n",
       " 考研竞赛数学 : 《高等数学》第二学期期末考试试题（四）及参考解答拓展版 (Sharing),\n",
       " 共青团中央 : 92岁的老党员：我们一起奋斗好不好？ (Sharing),\n",
       " SCI狂人 : 为什么人家可以发高分sci，而你只能原地灌水？ (Sharing),\n",
       " 中外学术情报 : 985博士师姐：我那被熬夜写论文毁掉的脸，因它而复活..... (Sharing),\n",
       " 科研圈 : 特朗普称“一直欢迎中国学生来美国留学” | 科研圈日报 (Sharing),\n",
       " X一MOL资讯 : 崔屹教授团队Matter：将化学诺奖技术用于MOF研究 (Sharing),\n",
       " 知识分子 : 量子科技竞赛开始了：如何区分商业炒作、公关和真正的创新？ (Sharing),\n",
       " 生信人 : 与癌症相关的病毒的生信分析套路介绍 (Sharing),\n",
       " 学校共青团 : 我是共产党员，这个崛起的中国是我给你的答复！ (Sharing),\n",
       " 黑客技术与网络安全 : https到底把什么加密了? (Sharing),\n",
       " GOD俱樂部群 › 深圳。飯飯 : (Picture),\n",
       " GOD俱樂部群 › 廣東、Nick : (Picture),\n",
       " GOD俱樂部群 › 廣東、Nick : (Picture),\n",
       " GOD俱樂部群 › 廣東、Nick : (Picture),\n",
       " ↪ None : test (Text),\n",
       " ↪ None : @鲸落  (Text),\n",
       " GOD俱樂部群 › 深圳。飯飯 : (Picture),\n",
       " GOD俱樂部群 › 江西 大熊🐻（管理） : (Picture),\n",
       " GOD俱樂部群 › 廣東、Nick : (Picture),\n",
       " AppSo : 新款 iPhone 机模曝光 / 支付宝上线垃圾分类小程序 / 极少数 MacBook Air 存在主板问题 (Sharing),\n",
       " 纳米人 : 圆桌会谈丨包信和、杨培东、郑南峰、陈立桅：让世界更“绿色”的化学！ (Sharing),\n",
       " ↪ GOD俱樂部群 : test (Text),\n",
       " ↪ 文件传输助手 : (Picture),\n",
       " ↪ 邹涵 : (Picture),\n",
       " GOD俱樂部群 › 郑州灬河南寂静的阿鹿 : (Picture),\n",
       " 环球科学 : 杀虫剂抗药性或致蟑螂无法阻挡 | 科技早头条 (Sharing),\n",
       " ↪ 文件传输助手 : 你 (Text),\n",
       " ↪ 文件传输助手 : ？？ (Text),\n",
       " 学术公开课 : 导师的4种类型，千万别选错！ (Sharing),\n",
       " ↪ GOD俱樂部群 : (Picture),\n",
       " ↪ 文件传输助手 : ss (Text),\n",
       " ↪ 薛定谔的死亡猫 : 你好 (Text),\n",
       " ↪ 文件传输助手 : dd (Text),\n",
       " ↪ 文件传输助手 : 那你 (Text),\n",
       " GOD俱樂部群 › 高雄_饕餮（管理） : (Picture),\n",
       " GOD俱樂部群 › 高雄_饕餮（管理） : 各位 我有個疑問 (Text),\n",
       " GOD俱樂部群 › 高雄_饕餮（管理） : 這是我們群的人嗎 (Text),\n",
       " GOD俱樂部群 › 高雄_饕餮（管理） : (Picture),\n",
       " 四川省教育考试院 : 温馨提示（三） (Sharing),\n",
       " GOD俱樂部群 › 深圳。飯飯 : …… (Text),\n",
       " GOD俱樂部群 › 深圳。飯飯 : 有一种葬爱家族的感觉 (Text),\n",
       " ↪ 文件传输助手 : 那就 (Text),\n",
       " ↪ 薛定谔的死亡猫 : 特色吗 (Text),\n",
       " ↪ 薛定谔的死亡猫 : 没有呀 (Text)]"
      ]
     },
     "execution_count": 244,
     "metadata": {},
     "output_type": "execute_result"
    }
   ],
   "source": [
    "bot.messages"
   ]
  },
  {
   "cell_type": "code",
   "execution_count": 248,
   "metadata": {},
   "outputs": [],
   "source": [
    "@bot.register(chats=bot.file_helper)\n",
    "def recv_send_msg(recv_msg):\n",
    "    print('收到的消息：',recv_msg.text) # recv_msg.text取得文本\n",
    "    if recv_msg.sender == bot.file_helper:\n",
    "        recv_msg.forward(bot.file_helper,prefix='老婆留言: ') #在文件传输助手里留一份，方便自己忙完了回头查看\n",
    "        return '老婆最美丽，我对老婆的爱如滔滔江水，连绵不绝' #给老婆回一份"
   ]
  },
  {
   "cell_type": "code",
   "execution_count": 249,
   "metadata": {},
   "outputs": [
    {
     "data": {
      "text/plain": [
       "<bound method Bot.logout of <Bot: 薛定谔的死亡猫>>"
      ]
     },
     "execution_count": 249,
     "metadata": {},
     "output_type": "execute_result"
    }
   ],
   "source": [
    "bot.logout"
   ]
  },
  {
   "cell_type": "code",
   "execution_count": 252,
   "metadata": {},
   "outputs": [
    {
     "name": "stderr",
     "output_type": "stream",
     "text": [
      "Getting uuid of QR code.\n",
      "Downloading QR code.\n",
      "Please scan the QR code to log in.\n",
      "Please press confirm on your phone.\n",
      "Loading the contact, this may take a little while.\n",
      "Login successfully as 薛定谔的死亡猫\n"
     ]
    }
   ],
   "source": [
    "bot = Bot(cache_path = True)"
   ]
  },
  {
   "cell_type": "code",
   "execution_count": 253,
   "metadata": {},
   "outputs": [],
   "source": [
    "friends = bot.friends()"
   ]
  },
  {
   "cell_type": "code",
   "execution_count": 254,
   "metadata": {},
   "outputs": [
    {
     "data": {
      "text/plain": [
       "[]"
      ]
     },
     "execution_count": 254,
     "metadata": {},
     "output_type": "execute_result"
    }
   ],
   "source": [
    "friends.search(\"小冰\")"
   ]
  },
  {
   "cell_type": "code",
   "execution_count": null,
   "metadata": {},
   "outputs": [],
   "source": [
    "tuling = Tuling('你的 API KEY (http://www.tuling123.com/)')\n",
    "my_friend = ensure_one(bot.friends().search('好友的名称'))\n",
    "\n",
    "\n",
    "@bot.register(my_friend, TEXT)\n",
    "def tuling_reply(msg):\n",
    "    tuling.do_reply(msg)\n",
    "\n",
    "\n",
    "bot.start()"
   ]
  },
  {
   "cell_type": "code",
   "execution_count": 273,
   "metadata": {},
   "outputs": [
    {
     "ename": "TypeError",
     "evalue": "'Messages' object is not callable",
     "output_type": "error",
     "traceback": [
      "\u001b[0;31m---------------------------------------------------------------------------\u001b[0m",
      "\u001b[0;31mTypeError\u001b[0m                                 Traceback (most recent call last)",
      "\u001b[0;32m<ipython-input-273-b8c744f278ab>\u001b[0m in \u001b[0;36m<module>\u001b[0;34m\u001b[0m\n\u001b[0;32m----> 1\u001b[0;31m \u001b[0mmessages\u001b[0m \u001b[0;34m=\u001b[0m \u001b[0mbot\u001b[0m\u001b[0;34m.\u001b[0m\u001b[0mmessages\u001b[0m\u001b[0;34m(\u001b[0m\u001b[0;34m)\u001b[0m\u001b[0;34m\u001b[0m\u001b[0;34m\u001b[0m\u001b[0m\n\u001b[0m",
      "\u001b[0;31mTypeError\u001b[0m: 'Messages' object is not callable"
     ]
    }
   ],
   "source": [
    "messages = bot.messages()"
   ]
  },
  {
   "cell_type": "code",
   "execution_count": 275,
   "metadata": {},
   "outputs": [
    {
     "data": {
      "text/plain": [
       "[↪ 小冰 : 你好 (Text),\n",
       " 小冰 : Features for this blocked account not available. (Note),\n",
       " 川农乐购 : 商品出库提醒 (Sharing),\n",
       " SCDxC : iPhone 屏幕指纹解锁中国特供?｜部分 2018 款 MacBook Air 主逻辑板问题免费更换 (Sharing)]"
      ]
     },
     "execution_count": 275,
     "metadata": {},
     "output_type": "execute_result"
    }
   ],
   "source": [
    "messages"
   ]
  },
  {
   "cell_type": "code",
   "execution_count": 276,
   "metadata": {},
   "outputs": [
    {
     "data": {
      "text/plain": [
       "<bound method Bot.logout of <Bot: 薛定谔的死亡猫>>"
      ]
     },
     "execution_count": 276,
     "metadata": {},
     "output_type": "execute_result"
    }
   ],
   "source": [
    "bot.logout"
   ]
  },
  {
   "cell_type": "code",
   "execution_count": null,
   "metadata": {},
   "outputs": [],
   "source": [
    "s"
   ]
  }
 ],
 "metadata": {
  "kernelspec": {
   "display_name": "Python 3",
   "language": "python",
   "name": "python3"
  },
  "language_info": {
   "codemirror_mode": {
    "name": "ipython",
    "version": 3
   },
   "file_extension": ".py",
   "mimetype": "text/x-python",
   "name": "python",
   "nbconvert_exporter": "python",
   "pygments_lexer": "ipython3",
   "version": "3.6.8"
  }
 },
 "nbformat": 4,
 "nbformat_minor": 2
}
