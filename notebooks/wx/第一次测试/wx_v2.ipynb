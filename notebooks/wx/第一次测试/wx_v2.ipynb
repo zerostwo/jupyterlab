{
 "cells": [
  {
   "cell_type": "code",
   "execution_count": 1,
   "metadata": {},
   "outputs": [
    {
     "name": "stdout",
     "output_type": "stream",
     "text": []
    }
   ],
   "source": [
    "from wxpy import *"
   ]
  },
  {
   "cell_type": "code",
   "execution_count": 2,
   "metadata": {},
   "outputs": [
    {
     "name": "stderr",
     "output_type": "stream",
     "text": [
      "Getting uuid of QR code.\n",
      "Downloading QR code.\n",
      "Please scan the QR code to log in.\n",
      "Please press confirm on your phone.\n",
      "Loading the contact, this may take a little while.\n",
      "Login successfully as 薛定谔的死亡猫\n"
     ]
    }
   ],
   "source": [
    "bot =  Bot(cache_path=True)"
   ]
  },
  {
   "cell_type": "code",
   "execution_count": 3,
   "metadata": {},
   "outputs": [],
   "source": [
    "groups = bot.groups(update=True)"
   ]
  },
  {
   "cell_type": "code",
   "execution_count": 4,
   "metadata": {},
   "outputs": [
    {
     "data": {
      "text/plain": [
       "[<Group: GOD俱樂部群>,\n",
       " <Group: JX-sicau-四川农业大学>,\n",
       " <Group: 超级高考老师App高考数学研究A群>,\n",
       " <Group: 综合群2—吴博士科研共享群>,\n",
       " <Group: 第七班>,\n",
       " <Group: 天才推手教育科技 | 生态圈>]"
      ]
     },
     "execution_count": 4,
     "metadata": {},
     "output_type": "execute_result"
    }
   ],
   "source": [
    "groups"
   ]
  },
  {
   "cell_type": "code",
   "execution_count": 5,
   "metadata": {},
   "outputs": [],
   "source": [
    "GOD = groups[0]"
   ]
  },
  {
   "cell_type": "code",
   "execution_count": 6,
   "metadata": {},
   "outputs": [
    {
     "data": {
      "text/plain": [
       "<Group: GOD俱樂部群>"
      ]
     },
     "execution_count": 6,
     "metadata": {},
     "output_type": "execute_result"
    }
   ],
   "source": [
    "GOD"
   ]
  },
  {
   "cell_type": "code",
   "execution_count": 9,
   "metadata": {},
   "outputs": [],
   "source": [
    "members = GOD.members"
   ]
  },
  {
   "cell_type": "code",
   "execution_count": 21,
   "metadata": {},
   "outputs": [
    {
     "name": "stdout",
     "output_type": "stream",
     "text": [
      "{'member': '薛定谔的死亡猫', 'text': 'test', 'type': 'Text'}\n",
      "{'member': '薛定谔的死亡猫', 'text': '[Smirk]', 'type': 'Text'}\n"
     ]
    }
   ],
   "source": [
    "@bot.register(qingshi,except_self=False)\n",
    "def sync_my_groups(msg):\n",
    "    my_name = msg.member.name + ':'\n",
    "    data = {}\n",
    "    data['member'] = msg.member.name\n",
    "    data['text'] = msg.text\n",
    "    data['type'] = msg.type\n",
    "    print(data)"
   ]
  },
  {
   "cell_type": "code",
   "execution_count": 11,
   "metadata": {},
   "outputs": [
    {
     "name": "stdout",
     "output_type": "stream",
     "text": [
      "{'member': '中国-四川-Sinclair', 'text': '[Smirk]', 'type': 'Text'}\n",
      "{'member': '中国-四川-Sinclair', 'text': 'trzt', 'type': 'Text'}\n"
     ]
    }
   ],
   "source": [
    "bot.join()"
   ]
  },
  {
   "cell_type": "code",
   "execution_count": 22,
   "metadata": {},
   "outputs": [
    {
     "data": {
      "text/plain": [
       "[<MessageConfig: 薛定谔的死亡猫: sync_my_groups (Disabled, Async)>,\n",
       " <MessageConfig: 薛定谔的死亡猫: sync_my_groups (Enabled, Async)>]"
      ]
     },
     "execution_count": 22,
     "metadata": {},
     "output_type": "execute_result"
    },
    {
     "name": "stdout",
     "output_type": "stream",
     "text": [
      "{'member': '薛定谔的死亡猫', 'text': 'test', 'type': 'Text'}\n"
     ]
    }
   ],
   "source": [
    "bot.registered"
   ]
  },
  {
   "cell_type": "code",
   "execution_count": 17,
   "metadata": {},
   "outputs": [],
   "source": [
    "qingshi = bot.groups()[-1]"
   ]
  },
  {
   "cell_type": "code",
   "execution_count": 18,
   "metadata": {},
   "outputs": [
    {
     "data": {
      "text/plain": [
       "<Group: 点赞抢票分享群>"
      ]
     },
     "execution_count": 18,
     "metadata": {},
     "output_type": "execute_result"
    }
   ],
   "source": [
    "qingshi"
   ]
  },
  {
   "cell_type": "code",
   "execution_count": 25,
   "metadata": {},
   "outputs": [],
   "source": [
    "messages = bot.messages"
   ]
  },
  {
   "cell_type": "code",
   "execution_count": 28,
   "metadata": {},
   "outputs": [],
   "source": [
    "sent_msgs = bot.messages.search(sender=bot.self)"
   ]
  },
  {
   "cell_type": "code",
   "execution_count": 29,
   "metadata": {},
   "outputs": [
    {
     "data": {
      "text/plain": [
       "[↪ GOD俱樂部群 : [Smirk] (Text),\n",
       " ↪ 未来院士学者老总交流合作群 : test (Text),\n",
       " ↪ 未来院士学者老总交流合作群 : @<span class=\"emoji emoji2764\"></span> <span class=\"emoji emoji1f525\"></span> 老板，随便回复我一个消息 (Text),\n",
       " ↪ 未来院士学者老总交流合作群 : [Smirk][Smirk][Smirk] (Text),\n",
       " ↪ GOD俱樂部群 : trzt (Text),\n",
       " ↪ GOD俱樂部群 : test (Text),\n",
       " ↪ 未来院士学者老总交流合作群 : test (Text),\n",
       " ↪ 未来院士学者老总交流合作群 : [Smirk] (Text),\n",
       " ↪ 未来院士学者老总交流合作群 : (Picture),\n",
       " ↪ 未来院士学者老总交流合作群 : test (Text)]"
      ]
     },
     "execution_count": 29,
     "metadata": {},
     "output_type": "execute_result"
    }
   ],
   "source": [
    "sent_msgs"
   ]
  },
  {
   "cell_type": "code",
   "execution_count": 31,
   "metadata": {},
   "outputs": [],
   "source": [
    "for i in sent_msgs:\n",
    "    if i.is_at == True:\n",
    "        print(i)"
   ]
  },
  {
   "cell_type": "code",
   "execution_count": 33,
   "metadata": {},
   "outputs": [],
   "source": [
    "bot.messages.max_history = 20000"
   ]
  },
  {
   "cell_type": "code",
   "execution_count": 36,
   "metadata": {},
   "outputs": [],
   "source": [
    "friends = bot.friends()"
   ]
  },
  {
   "cell_type": "code",
   "execution_count": 38,
   "metadata": {},
   "outputs": [
    {
     "name": "stdout",
     "output_type": "stream",
     "text": [
      "↪ 薛定谔的死亡猫 : 顶焦度计 (Text)\n",
      "雷郅轩 : 。三级 (Text)\n"
     ]
    }
   ],
   "source": [
    "@bot.register(friends, except_self=False)\n",
    "def qimo(msg):\n",
    "    print(msg)\n",
    "    return \"正在期末复习，暂时不能与您联系\""
   ]
  },
  {
   "cell_type": "code",
   "execution_count": 68,
   "metadata": {},
   "outputs": [],
   "source": [
    "@bot.register(file, except_self=False)\n",
    "def test(msg):\n",
    "    pring(msg)\n",
    "    bot.file_helper.send(\"ddd\")"
   ]
  },
  {
   "cell_type": "code",
   "execution_count": 73,
   "metadata": {},
   "outputs": [],
   "source": [
    "bot.registered.disable()"
   ]
  },
  {
   "cell_type": "code",
   "execution_count": 53,
   "metadata": {},
   "outputs": [],
   "source": [
    "bot.join()"
   ]
  },
  {
   "cell_type": "code",
   "execution_count": 56,
   "metadata": {},
   "outputs": [],
   "source": [
    "myself = bot.self"
   ]
  },
  {
   "cell_type": "code",
   "execution_count": 62,
   "metadata": {},
   "outputs": [],
   "source": [
    "myself = friends.search(\"薛定谔的死亡猫\")[0]"
   ]
  },
  {
   "cell_type": "code",
   "execution_count": 65,
   "metadata": {},
   "outputs": [],
   "source": [
    "file = bot.file_helper"
   ]
  },
  {
   "cell_type": "code",
   "execution_count": 74,
   "metadata": {},
   "outputs": [
    {
     "data": {
      "text/plain": [
       "<bound method Bot.logout of <Bot: 薛定谔的死亡猫>>"
      ]
     },
     "execution_count": 74,
     "metadata": {},
     "output_type": "execute_result"
    }
   ],
   "source": [
    "bot.logout"
   ]
  },
  {
   "cell_type": "code",
   "execution_count": null,
   "metadata": {},
   "outputs": [],
   "source": []
  }
 ],
 "metadata": {
  "kernelspec": {
   "display_name": "Python 3",
   "language": "python",
   "name": "python3"
  },
  "language_info": {
   "codemirror_mode": {
    "name": "ipython",
    "version": 3
   },
   "file_extension": ".py",
   "mimetype": "text/x-python",
   "name": "python",
   "nbconvert_exporter": "python",
   "pygments_lexer": "ipython3",
   "version": "3.6.8"
  }
 },
 "nbformat": 4,
 "nbformat_minor": 2
}
