{
 "cells": [
  {
   "cell_type": "code",
   "execution_count": 1,
   "metadata": {},
   "outputs": [],
   "source": [
    "import random\n",
    "import matplotlib.pyplot as plt"
   ]
  },
  {
   "cell_type": "code",
   "execution_count": 19,
   "metadata": {
    "scrolled": true
   },
   "outputs": [
    {
     "name": "stdout",
     "output_type": "stream",
     "text": [
      "Warning!\n",
      "Warning!\n",
      "Warning!\n",
      "Warning!\n",
      "Warning!\n",
      "Warning!\n",
      "Warning!\n",
      "Warning!\n",
      "Warning!\n",
      "Warning!\n",
      "Warning!\n",
      "Warning!\n",
      "Warning!\n",
      "Warning!\n",
      "Warning!\n",
      "Warning!\n",
      "Warning!\n",
      "Warning!\n",
      "Warning!\n",
      "Warning!\n",
      "Warning!\n",
      "Warning!\n",
      "Warning!\n",
      "Warning!\n",
      "Warning!\n",
      "Warning!\n",
      "Warning!\n",
      "Warning!\n",
      "Warning!\n",
      "Warning!\n",
      "Warning!\n",
      "Warning!\n",
      "Warning!\n",
      "Warning!\n",
      "Warning!\n",
      "Warning!\n",
      "Warning!\n",
      "Warning!\n",
      "Warning!\n",
      "Warning!\n",
      "Warning!\n",
      "Warning!\n",
      "Warning!\n",
      "Warning!\n",
      "Warning!\n",
      "Warning!\n",
      "Warning!\n",
      "Warning!\n",
      "Warning!\n",
      "Warning!\n",
      "Warning!\n",
      "Warning!\n",
      "Warning!\n",
      "Warning!\n",
      "Warning!\n",
      "Warning!\n",
      "Warning!\n",
      "Warning!\n",
      "Warning!\n",
      "Warning!\n",
      "Warning!\n",
      "Warning!\n",
      "Warning!\n",
      "Warning!\n",
      "Warning!\n",
      "Warning!\n",
      "Warning!\n",
      "Warning!\n",
      "Warning!\n",
      "Warning!\n",
      "Warning!\n",
      "Warning!\n",
      "Warning!\n",
      "Warning!\n",
      "Warning!\n",
      "Warning!\n",
      "Warning!\n",
      "Warning!\n",
      "Warning!\n",
      "Warning!\n"
     ]
    }
   ],
   "source": [
    "nums = []\n",
    "players = []\n",
    "tortoises = []\n",
    "#def game(playerNumber, pokerNumber):    \n",
    "for time in range(1000):\n",
    "    # 定义玩家数\n",
    "    playerNumber = 10\n",
    "    pokerNumber = 2\n",
    "    playerID = [i for i in range(playerNumber)]\n",
    "\n",
    "    # 洗牌和抽一张出去\n",
    "    poker = [\n",
    "        1, 1, 1, 1,\n",
    "        2, 2, 2, 2,\n",
    "        3, 3, 3, 3,\n",
    "        4, 4, 4, 4,\n",
    "        5, 5, 5, 5,\n",
    "        6, 6, 6, 6,\n",
    "        7, 7, 7, 7, \n",
    "        8, 8, 8, 8,\n",
    "        9, 9, 9, 9,\n",
    "        10, 10, 10, 10,\n",
    "        11, 11, 11, 11,\n",
    "        12, 12, 12, 12,\n",
    "        13, 13, 13, 13,\n",
    "        14, 14\n",
    "    ]\n",
    "    poker = poker*pokerNumber # 根据玩家多少确定用几副扑克牌\n",
    "    random.shuffle(poker) # 洗牌\n",
    "    \n",
    "    # 抽出一张龟🐢\n",
    "    tortoise = random.choice(poker)\n",
    "    poker.remove(tortoise)\n",
    "\n",
    "    # 发牌\n",
    "    for i in playerID:\n",
    "        exec(\"player{} = []\".format(i)) # 初始化玩家ID\n",
    "    while len(poker) > 0:\n",
    "        for i in playerID:\n",
    "            if len(poker) != 0:\n",
    "                randomChoice = random.choice(poker)\n",
    "                exec(\"player{}.append(randomChoice)\".format(i))\n",
    "                poker.remove(randomChoice)\n",
    "            else:\n",
    "                break \n",
    "\n",
    "    # 每个玩家将自己手牌排序\n",
    "    for i in playerID:\n",
    "        exec(\"player{}.sort()\".format(i))\n",
    "\n",
    "    # 每个玩家将自己手中的对子出出来\n",
    "    for ID in playerID:\n",
    "        exec(\"player = player{}\".format(ID))\n",
    "        for i in range(len(player)-1):\n",
    "            if player[i] == player[i+1]:\n",
    "                player[i] = \"\"\n",
    "                player[i+1] = \"\"\n",
    "        #exec(\"print('player{}', player{})\".format(ID, ID))            \n",
    "        while \"\" in player:\n",
    "            player.remove(\"\")\n",
    "        exec(\"player{} = player\".format(ID))\n",
    "        # exec(\"print('player{}', player{})\".format(ID, ID))        \n",
    "\n",
    "    # 开始循环\n",
    "    num = 0\n",
    "    index = []\n",
    "    while sum(index) != 1:\n",
    "        num += 1\n",
    "        # 互相抽牌\n",
    "        for ID in range(len(playerID)):  \n",
    "            if ID != len(playerID)-1 and playerID[ID] != \"\":\n",
    "                exec(\"drawCard = random.choice(player{})\".format(playerID[ID]))\n",
    "                exec(\"player{}.remove(drawCard)\".format(playerID[ID]))\n",
    "                exec(\"player{}.append(drawCard)\".format(playerID[ID+1]))\n",
    "                exec(\"player{}.sort()\".format(playerID[ID+1]))      \n",
    "                # 玩家将自己手中的对子出出来\n",
    "                exec(\"player = player{}\".format(playerID[ID+1]))\n",
    "                for k in range(len(player)-1):\n",
    "                    if player[k] == player[k+1]:\n",
    "                        player[k] = \"\"\n",
    "                        player[k+1] = \"\"\n",
    "                while \"\" in player:\n",
    "                    player.remove(\"\")\n",
    "                exec(\"player{} = player\".format(playerID[ID+1]))\n",
    "\n",
    "            elif playerID[ID] != \"\":\n",
    "                exec(\"drawCard = random.choice(player{})\".format(playerID[ID]))\n",
    "                exec(\"player{}.remove(drawCard)\".format(playerID[ID]))\n",
    "                exec(\"player{}.append(drawCard)\".format(playerID[0]))\n",
    "                exec(\"player{}.sort()\".format(playerID[0]))      \n",
    "                # 玩家将自己手中的对子出出来\n",
    "                exec(\"player = player{}\".format(playerID[0]))\n",
    "                for k in range(len(player)-1):\n",
    "                    if player[k] == player[k+1]:\n",
    "                        player[k] = \"\"\n",
    "                        player[k+1] = \"\"\n",
    "                while \"\" in player:\n",
    "                    player.remove(\"\")\n",
    "                exec(\"player{} = player\".format(playerID[0]))\n",
    "\n",
    "            index = []\n",
    "            for i in range(len(playerID)):\n",
    "                exec(\"index.append(len(player{}))\".format(i))\n",
    "                #print(index)\n",
    "            for j in range(len(index)):\n",
    "                if index[j] == 0:\n",
    "                    playerID[j] = \"\"   \n",
    "        # print(\"index:\", index)\n",
    "        if num > 100:\n",
    "            print(\"Warning!\")\n",
    "            break\n",
    "    if num != 101:\n",
    "        nums.append(num)\n",
    "        players.append(index.index(1))\n",
    "        tortoises.append(tortoise)\n",
    "        #print([num, index.index(1), tortoise])"
   ]
  },
  {
   "cell_type": "code",
   "execution_count": 20,
   "metadata": {},
   "outputs": [
    {
     "data": {
      "text/plain": [
       "920"
      ]
     },
     "execution_count": 20,
     "metadata": {},
     "output_type": "execute_result"
    }
   ],
   "source": [
    "len(nums)"
   ]
  },
  {
   "cell_type": "code",
   "execution_count": 21,
   "metadata": {},
   "outputs": [],
   "source": [
    "numsC = {}\n",
    "for i in nums:\n",
    "    if i not in numsC:\n",
    "        numsC[i] = 1\n",
    "    else:\n",
    "        numsC[i] += 1\n",
    "numsCS = []\n",
    "for i in sorted(numsC.keys()):\n",
    "    numsCS.append(numsC[i])"
   ]
  },
  {
   "cell_type": "code",
   "execution_count": 22,
   "metadata": {},
   "outputs": [],
   "source": [
    "playersC = {}\n",
    "for i in players:\n",
    "    if i not in playersC:\n",
    "        playersC[i] = 1\n",
    "    else:\n",
    "        playersC[i] += 1\n",
    "playersCS = []\n",
    "for i in sorted(playersC.keys()):\n",
    "    playersCS.append(playersC[i])"
   ]
  },
  {
   "cell_type": "code",
   "execution_count": null,
   "metadata": {},
   "outputs": [],
   "source": [
    "tortoisesC = {}\n",
    "for i in players:\n",
    "    if i not in tortoisesC:\n",
    "        tortoisesC[i] = 1\n",
    "    else:\n",
    "        tortoisesC[i] += 1\n",
    "tortoisesCS = []\n",
    "for i in sorted(playersC.keys()):\n",
    "    playersCS.append(playersC[i])"
   ]
  },
  {
   "cell_type": "code",
   "execution_count": 23,
   "metadata": {},
   "outputs": [
    {
     "data": {
      "image/png": "[encoded data removed]",
      "text/plain": [
       "<Figure size 432x288 with 1 Axes>"
      ]
     },
     "metadata": {
      "needs_background": "light"
     },
     "output_type": "display_data"
    }
   ],
   "source": [
    "import numpy as np\n",
    "import matplotlib.pyplot as plt\n",
    "\n",
    "\n",
    "N = playerNumber\n",
    "kd = []\n",
    "for i in range(N):\n",
    "    xticks = exec(\"kd.append('p{}')\".format(i))\n",
    "#menStd = (2, 3, 4, 1, 2, 1, 1, 1)\n",
    "width = 0.35       # the width of the bars: can also be len(x) sequence\n",
    "ind = np.arange(N) \n",
    "#p1 = plt.bar(ind, playersCS, width, yerr=menStd)\n",
    "p1 = plt.bar(ind, playersCS, width)\n",
    "\n",
    "plt.ylabel('Frequency')\n",
    "plt.title('Players who are easier to lose \\nwhen the number of players is {}'.format(playerNumber))\n",
    "plt.xticks(ind, kd)\n",
    "plt.show()"
   ]
  },
  {
   "cell_type": "code",
   "execution_count": 24,
   "metadata": {},
   "outputs": [],
   "source": [
    "with open(\"./gameData/playerNumberIs{}\".format(playerNumber), \"a+\") as f:\n",
    "    print(playersCS, file=f)"
   ]
  },
  {
   "cell_type": "code",
   "execution_count": 39,
   "metadata": {},
   "outputs": [
    {
     "data": {
      "image/png": "[encoded data removed]",
      "text/plain": [
       "<Figure size 432x288 with 1 Axes>"
      ]
     },
     "metadata": {
      "needs_background": "light"
     },
     "output_type": "display_data"
    }
   ],
   "source": [
    "N = len(numsCS)\n",
    "kd = []\n",
    "for i in sorted(numsC.keys()):\n",
    "    xticks = exec(\"kd.append({})\".format(i))\n",
    "#menStd = (2, 3, 4, 1, 2, 1, 1, 1)\n",
    "width = 0.35       # the width of the bars: can also be len(x) sequence\n",
    "ind = np.arange(N) \n",
    "#p1 = plt.bar(ind, playersCS, width, yerr=menStd)\n",
    "p1 = plt.bar(ind, numsCS, width)\n",
    "\n",
    "plt.ylabel('Frequency')\n",
    "plt.title('Players who are easier to lose \\nwhen the number of players is {}'.format(playerNumber))\n",
    "plt.xticks(ind, kd)\n",
    "plt.show()"
   ]
  },
  {
   "cell_type": "code",
   "execution_count": null,
   "metadata": {},
   "outputs": [],
   "source": []
  }
 ],
 "metadata": {
  "kernelspec": {
   "display_name": "Python 3",
   "language": "python",
   "name": "python3"
  },
  "language_info": {
   "codemirror_mode": {
    "name": "ipython",
    "version": 3
   },
   "file_extension": ".py",
   "mimetype": "text/x-python",
   "name": "python",
   "nbconvert_exporter": "python",
   "pygments_lexer": "ipython3",
   "version": "3.7.4"
  },
  "widgets": {
   "application/vnd.jupyter.widget-state+json": {
    "state": {},
    "version_major": 2,
    "version_minor": 0
   }
  }
 },
 "nbformat": 4,
 "nbformat_minor": 4
}
