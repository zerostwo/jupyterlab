{
 "cells": [
  {
   "cell_type": "code",
   "execution_count": 54,
   "metadata": {},
   "outputs": [
    {
     "data": {
      "text/html": [
       "'/root/JupyterLab'"
      ],
      "text/latex": [
       "'/root/JupyterLab'"
      ],
      "text/markdown": [
       "'/root/JupyterLab'"
      ],
      "text/plain": [
       "[1] \"/root/JupyterLab\""
      ]
     },
     "metadata": {},
     "output_type": "display_data"
    }
   ],
   "source": [
    "getwd() #get work directory"
   ]
  },
  {
   "cell_type": "code",
   "execution_count": 55,
   "metadata": {},
   "outputs": [],
   "source": [
    "setwd(\"/root/JupyterLab/\")"
   ]
  },
  {
   "cell_type": "code",
   "execution_count": 60,
   "metadata": {},
   "outputs": [],
   "source": [
    "vector <- c(33,11,22)"
   ]
  },
  {
   "cell_type": "code",
   "execution_count": 64,
   "metadata": {},
   "outputs": [
    {
     "data": {
      "text/html": [
       "<ol class=list-inline>\n",
       "\t<li>11</li>\n",
       "\t<li>22</li>\n",
       "</ol>\n"
      ],
      "text/latex": [
       "\\begin{enumerate*}\n",
       "\\item 11\n",
       "\\item 22\n",
       "\\end{enumerate*}\n"
      ],
      "text/markdown": [
       "1. 11\n",
       "2. 22\n",
       "\n",
       "\n"
      ],
      "text/plain": [
       "[1] 11 22"
      ]
     },
     "metadata": {},
     "output_type": "display_data"
    }
   ],
   "source": [
    "vector[2:3]"
   ]
  },
  {
   "cell_type": "code",
   "execution_count": 65,
   "metadata": {},
   "outputs": [],
   "source": [
    "matrix <- matrix(1:20, nrow = 4, ncol = 5)"
   ]
  },
  {
   "cell_type": "code",
   "execution_count": 75,
   "metadata": {},
   "outputs": [
    {
     "name": "stdout",
     "output_type": "stream",
     "text": [
      "     [,1] [,2] [,3] [,4] [,5]\n",
      "[1,]    1    5    9   13   17\n",
      "[2,]    2    6   10   14   18\n",
      "[3,]    3    7   11   15   19\n",
      "[4,]    4    8   12   16   20\n"
     ]
    }
   ],
   "source": [
    "print(matrix)"
   ]
  },
  {
   "cell_type": "code",
   "execution_count": 69,
   "metadata": {},
   "outputs": [],
   "source": [
    "dim1 <- c(\"x1\",\"x2\",\"x3\")\n",
    "dim2 <- c(\"y1\",\"y2\",\"y3\")\n",
    "dim3 <- c(\"z1\",\"z2\",\"z3\")"
   ]
  },
  {
   "cell_type": "code",
   "execution_count": 72,
   "metadata": {},
   "outputs": [],
   "source": [
    "z <- array(1:24, c(3,3,3),dimnames = list(dim1,dim2,dim3))"
   ]
  },
  {
   "cell_type": "code",
   "execution_count": 74,
   "metadata": {},
   "outputs": [
    {
     "name": "stdout",
     "output_type": "stream",
     "text": [
      ", , z1\n",
      "\n",
      "   y1 y2 y3\n",
      "x1  1  4  7\n",
      "x2  2  5  8\n",
      "x3  3  6  9\n",
      "\n",
      ", , z2\n",
      "\n",
      "   y1 y2 y3\n",
      "x1 10 13 16\n",
      "x2 11 14 17\n",
      "x3 12 15 18\n",
      "\n",
      ", , z3\n",
      "\n",
      "   y1 y2 y3\n",
      "x1 19 22  1\n",
      "x2 20 23  2\n",
      "x3 21 24  3\n",
      "\n"
     ]
    }
   ],
   "source": [
    "print(z)"
   ]
  },
  {
   "cell_type": "code",
   "execution_count": 81,
   "metadata": {},
   "outputs": [
    {
     "data": {
      "text/html": [
       "'matrix'"
      ],
      "text/latex": [
       "'matrix'"
      ],
      "text/markdown": [
       "'matrix'"
      ],
      "text/plain": [
       "[1] \"matrix\""
      ]
     },
     "metadata": {},
     "output_type": "display_data"
    }
   ],
   "source": [
    "class(matrix)"
   ]
  },
  {
   "cell_type": "code",
   "execution_count": 86,
   "metadata": {},
   "outputs": [],
   "source": [
    "name <- c(\"duansq\", \"luoww\", \"hulm\")\n",
    "age <- c(18, 19, 18)\n",
    "sex <- c(\"male\", \"female\", \"male\")\n",
    "mydata <- data.frame(name, age, sex)"
   ]
  },
  {
   "cell_type": "code",
   "execution_count": 87,
   "metadata": {},
   "outputs": [
    {
     "data": {
      "text/html": [
       "<table>\n",
       "<caption>A data.frame: 3 × 3</caption>\n",
       "<thead>\n",
       "\t<tr><th scope=col>name</th><th scope=col>age</th><th scope=col>sex</th></tr>\n",
       "\t<tr><th scope=col>&lt;fct&gt;</th><th scope=col>&lt;dbl&gt;</th><th scope=col>&lt;fct&gt;</th></tr>\n",
       "</thead>\n",
       "<tbody>\n",
       "\t<tr><td>duansq</td><td>18</td><td>male  </td></tr>\n",
       "\t<tr><td>luoww </td><td>19</td><td>female</td></tr>\n",
       "\t<tr><td>hulm  </td><td>18</td><td>male  </td></tr>\n",
       "</tbody>\n",
       "</table>\n"
      ],
      "text/latex": [
       "A data.frame: 3 × 3\n",
       "\\begin{tabular}{r|lll}\n",
       " name & age & sex\\\\\n",
       " <fct> & <dbl> & <fct>\\\\\n",
       "\\hline\n",
       "\t duansq & 18 & male  \\\\\n",
       "\t luoww  & 19 & female\\\\\n",
       "\t hulm   & 18 & male  \\\\\n",
       "\\end{tabular}\n"
      ],
      "text/markdown": [
       "\n",
       "A data.frame: 3 × 3\n",
       "\n",
       "| name &lt;fct&gt; | age &lt;dbl&gt; | sex &lt;fct&gt; |\n",
       "|---|---|---|\n",
       "| duansq | 18 | male   |\n",
       "| luoww  | 19 | female |\n",
       "| hulm   | 18 | male   |\n",
       "\n"
      ],
      "text/plain": [
       "  name   age sex   \n",
       "1 duansq 18  male  \n",
       "2 luoww  19  female\n",
       "3 hulm   18  male  "
      ]
     },
     "metadata": {},
     "output_type": "display_data"
    }
   ],
   "source": [
    "mydata"
   ]
  },
  {
   "cell_type": "code",
   "execution_count": 89,
   "metadata": {},
   "outputs": [
    {
     "name": "stdout",
     "output_type": "stream",
     "text": [
      "[1] 18 19 18\n"
     ]
    }
   ],
   "source": [
    "print(mydata$age)"
   ]
  },
  {
   "cell_type": "code",
   "execution_count": 92,
   "metadata": {},
   "outputs": [],
   "source": [
    "info <- read.table(\"./crack/data/info.csv\", sep=\",\", header = T)"
   ]
  },
  {
   "cell_type": "code",
   "execution_count": 98,
   "metadata": {},
   "outputs": [
    {
     "data": {
      "text/html": [
       "'data.frame'"
      ],
      "text/latex": [
       "'data.frame'"
      ],
      "text/markdown": [
       "'data.frame'"
      ],
      "text/plain": [
       "[1] \"data.frame\""
      ]
     },
     "metadata": {},
     "output_type": "display_data"
    }
   ],
   "source": [
    "class(info)"
   ]
  },
  {
   "cell_type": "code",
   "execution_count": 101,
   "metadata": {},
   "outputs": [
    {
     "data": {
      "text/html": [
       "'/root/JupyterLab'"
      ],
      "text/latex": [
       "'/root/JupyterLab'"
      ],
      "text/markdown": [
       "'/root/JupyterLab'"
      ],
      "text/plain": [
       "[1] \"/root/JupyterLab\""
      ]
     },
     "metadata": {},
     "output_type": "display_data"
    }
   ],
   "source": [
    "getwd()"
   ]
  },
  {
   "cell_type": "code",
   "execution_count": 92,
   "metadata": {},
   "outputs": [],
   "source": [
    "mangguo <- read.table(\"../data/duanxy/data.csv\",header = F,sep = \",\",row.names = 1)\n",
    "mangguo <- t(mangguo)\n",
    "mangguo <- data.frame(mangguo)"
   ]
  },
  {
   "cell_type": "code",
   "execution_count": 93,
   "metadata": {},
   "outputs": [],
   "source": [
    "mugua <- read.table(\"../data/duanxy/data2.csv\",header = F,sep = \",\",row.names = 1)\n",
    "mugua <- t(mugua)\n",
    "mugua <- data.frame(mugua)"
   ]
  },
  {
   "cell_type": "code",
   "execution_count": 94,
   "metadata": {},
   "outputs": [],
   "source": [
    "caomei <- read.table(\"../data/duanxy/data3.csv\",header = F,sep = \",\",row.names = 1)\n",
    "caomei <- t(caomei)\n",
    "caomei <- data.frame(caomei)"
   ]
  },
  {
   "cell_type": "code",
   "execution_count": 95,
   "metadata": {},
   "outputs": [],
   "source": [
    "sangsheng <- read.table(\"../data/duanxy/data4.csv\",header = F,sep = \",\",row.names = 1)\n",
    "sangsheng <- t(sangsheng)\n",
    "sangsheng <- data.frame(sangsheng)"
   ]
  },
  {
   "cell_type": "code",
   "execution_count": 102,
   "metadata": {},
   "outputs": [],
   "source": [
    "library(ggpubr)"
   ]
  },
  {
   "cell_type": "code",
   "execution_count": 113,
   "metadata": {},
   "outputs": [
    {
     "data": {
      "text/html": [
       "<table>\n",
       "<caption>A data.frame: 20 × 6</caption>\n",
       "<thead>\n",
       "\t<tr><th></th><th scope=col>Exterior</th><th scope=col>Color</th><th scope=col>Odor</th><th scope=col>Status</th><th scope=col>Impurity</th><th scope=col>Sum</th></tr>\n",
       "\t<tr><th></th><th scope=col>&lt;int&gt;</th><th scope=col>&lt;int&gt;</th><th scope=col>&lt;int&gt;</th><th scope=col>&lt;int&gt;</th><th scope=col>&lt;int&gt;</th><th scope=col>&lt;int&gt;</th></tr>\n",
       "</thead>\n",
       "<tbody>\n",
       "\t<tr><th scope=row>V2</th><td>12</td><td>10</td><td>23</td><td>17</td><td> 6</td><td>68</td></tr>\n",
       "\t<tr><th scope=row>V3</th><td>17</td><td>15</td><td>20</td><td>10</td><td> 9</td><td>71</td></tr>\n",
       "\t<tr><th scope=row>V4</th><td>16</td><td>18</td><td>25</td><td>16</td><td> 8</td><td>83</td></tr>\n",
       "\t<tr><th scope=row>V5</th><td>19</td><td>20</td><td>26</td><td>16</td><td> 6</td><td>87</td></tr>\n",
       "\t<tr><th scope=row>V6</th><td>18</td><td>18</td><td>21</td><td>16</td><td> 7</td><td>80</td></tr>\n",
       "\t<tr><th scope=row>V7</th><td>17</td><td>17</td><td>21</td><td>17</td><td> 7</td><td>79</td></tr>\n",
       "\t<tr><th scope=row>V8</th><td>20</td><td>16</td><td>17</td><td>17</td><td>10</td><td>80</td></tr>\n",
       "\t<tr><th scope=row>V9</th><td>10</td><td>19</td><td>15</td><td>14</td><td>10</td><td>68</td></tr>\n",
       "\t<tr><th scope=row>V10</th><td>16</td><td>17</td><td>24</td><td>15</td><td> 7</td><td>79</td></tr>\n",
       "\t<tr><th scope=row>V11</th><td>16</td><td>18</td><td>23</td><td>16</td><td> 8</td><td>81</td></tr>\n",
       "\t<tr><th scope=row>V12</th><td>16</td><td>18</td><td>26</td><td>15</td><td> 7</td><td>82</td></tr>\n",
       "\t<tr><th scope=row>V13</th><td>18</td><td>16</td><td>21</td><td>17</td><td> 7</td><td>79</td></tr>\n",
       "\t<tr><th scope=row>V14</th><td>19</td><td>19</td><td>20</td><td>12</td><td> 7</td><td>77</td></tr>\n",
       "\t<tr><th scope=row>V15</th><td>17</td><td>16</td><td>28</td><td>19</td><td> 8</td><td>88</td></tr>\n",
       "\t<tr><th scope=row>V16</th><td>19</td><td>19</td><td>26</td><td>16</td><td> 9</td><td>89</td></tr>\n",
       "\t<tr><th scope=row>V17</th><td>18</td><td>20</td><td>25</td><td>17</td><td> 7</td><td>87</td></tr>\n",
       "\t<tr><th scope=row>V18</th><td>15</td><td>14</td><td>22</td><td>14</td><td> 8</td><td>73</td></tr>\n",
       "\t<tr><th scope=row>V19</th><td>16</td><td>14</td><td>22</td><td>13</td><td> 8</td><td>73</td></tr>\n",
       "\t<tr><th scope=row>V20</th><td>16</td><td>14</td><td>22</td><td>12</td><td> 9</td><td>73</td></tr>\n",
       "\t<tr><th scope=row>V21</th><td>16</td><td>20</td><td>21</td><td>12</td><td> 8</td><td>77</td></tr>\n",
       "</tbody>\n",
       "</table>\n"
      ],
      "text/latex": [
       "A data.frame: 20 × 6\n",
       "\\begin{tabular}{r|llllll}\n",
       "  & Exterior & Color & Odor & Status & Impurity & Sum\\\\\n",
       "  & <int> & <int> & <int> & <int> & <int> & <int>\\\\\n",
       "\\hline\n",
       "\tV2 & 12 & 10 & 23 & 17 &  6 & 68\\\\\n",
       "\tV3 & 17 & 15 & 20 & 10 &  9 & 71\\\\\n",
       "\tV4 & 16 & 18 & 25 & 16 &  8 & 83\\\\\n",
       "\tV5 & 19 & 20 & 26 & 16 &  6 & 87\\\\\n",
       "\tV6 & 18 & 18 & 21 & 16 &  7 & 80\\\\\n",
       "\tV7 & 17 & 17 & 21 & 17 &  7 & 79\\\\\n",
       "\tV8 & 20 & 16 & 17 & 17 & 10 & 80\\\\\n",
       "\tV9 & 10 & 19 & 15 & 14 & 10 & 68\\\\\n",
       "\tV10 & 16 & 17 & 24 & 15 &  7 & 79\\\\\n",
       "\tV11 & 16 & 18 & 23 & 16 &  8 & 81\\\\\n",
       "\tV12 & 16 & 18 & 26 & 15 &  7 & 82\\\\\n",
       "\tV13 & 18 & 16 & 21 & 17 &  7 & 79\\\\\n",
       "\tV14 & 19 & 19 & 20 & 12 &  7 & 77\\\\\n",
       "\tV15 & 17 & 16 & 28 & 19 &  8 & 88\\\\\n",
       "\tV16 & 19 & 19 & 26 & 16 &  9 & 89\\\\\n",
       "\tV17 & 18 & 20 & 25 & 17 &  7 & 87\\\\\n",
       "\tV18 & 15 & 14 & 22 & 14 &  8 & 73\\\\\n",
       "\tV19 & 16 & 14 & 22 & 13 &  8 & 73\\\\\n",
       "\tV20 & 16 & 14 & 22 & 12 &  9 & 73\\\\\n",
       "\tV21 & 16 & 20 & 21 & 12 &  8 & 77\\\\\n",
       "\\end{tabular}\n"
      ],
      "text/markdown": [
       "\n",
       "A data.frame: 20 × 6\n",
       "\n",
       "| <!--/--> | Exterior &lt;int&gt; | Color &lt;int&gt; | Odor &lt;int&gt; | Status &lt;int&gt; | Impurity &lt;int&gt; | Sum &lt;int&gt; |\n",
       "|---|---|---|---|---|---|---|\n",
       "| V2 | 12 | 10 | 23 | 17 |  6 | 68 |\n",
       "| V3 | 17 | 15 | 20 | 10 |  9 | 71 |\n",
       "| V4 | 16 | 18 | 25 | 16 |  8 | 83 |\n",
       "| V5 | 19 | 20 | 26 | 16 |  6 | 87 |\n",
       "| V6 | 18 | 18 | 21 | 16 |  7 | 80 |\n",
       "| V7 | 17 | 17 | 21 | 17 |  7 | 79 |\n",
       "| V8 | 20 | 16 | 17 | 17 | 10 | 80 |\n",
       "| V9 | 10 | 19 | 15 | 14 | 10 | 68 |\n",
       "| V10 | 16 | 17 | 24 | 15 |  7 | 79 |\n",
       "| V11 | 16 | 18 | 23 | 16 |  8 | 81 |\n",
       "| V12 | 16 | 18 | 26 | 15 |  7 | 82 |\n",
       "| V13 | 18 | 16 | 21 | 17 |  7 | 79 |\n",
       "| V14 | 19 | 19 | 20 | 12 |  7 | 77 |\n",
       "| V15 | 17 | 16 | 28 | 19 |  8 | 88 |\n",
       "| V16 | 19 | 19 | 26 | 16 |  9 | 89 |\n",
       "| V17 | 18 | 20 | 25 | 17 |  7 | 87 |\n",
       "| V18 | 15 | 14 | 22 | 14 |  8 | 73 |\n",
       "| V19 | 16 | 14 | 22 | 13 |  8 | 73 |\n",
       "| V20 | 16 | 14 | 22 | 12 |  9 | 73 |\n",
       "| V21 | 16 | 20 | 21 | 12 |  8 | 77 |\n",
       "\n"
      ],
      "text/plain": [
       "    Exterior Color Odor Status Impurity Sum\n",
       "V2  12       10    23   17      6       68 \n",
       "V3  17       15    20   10      9       71 \n",
       "V4  16       18    25   16      8       83 \n",
       "V5  19       20    26   16      6       87 \n",
       "V6  18       18    21   16      7       80 \n",
       "V7  17       17    21   17      7       79 \n",
       "V8  20       16    17   17     10       80 \n",
       "V9  10       19    15   14     10       68 \n",
       "V10 16       17    24   15      7       79 \n",
       "V11 16       18    23   16      8       81 \n",
       "V12 16       18    26   15      7       82 \n",
       "V13 18       16    21   17      7       79 \n",
       "V14 19       19    20   12      7       77 \n",
       "V15 17       16    28   19      8       88 \n",
       "V16 19       19    26   16      9       89 \n",
       "V17 18       20    25   17      7       87 \n",
       "V18 15       14    22   14      8       73 \n",
       "V19 16       14    22   13      8       73 \n",
       "V20 16       14    22   12      9       73 \n",
       "V21 16       20    21   12      8       77 "
      ]
     },
     "metadata": {},
     "output_type": "display_data"
    }
   ],
   "source": [
    "mangguo"
   ]
  },
  {
   "cell_type": "code",
   "execution_count": 146,
   "metadata": {},
   "outputs": [
    {
     "data": {
      "image/png": "[encoded data removed]",
      "text/plain": [
       "plot without title"
      ]
     },
     "metadata": {},
     "output_type": "display_data"
    }
   ],
   "source": [
    "ggviolin(\n",
    "    mangguo,\n",
    "    y=c(c(\"Color\",\"Exterior\")),\n",
    "    combine = TRUE,\n",
    "    ylab = \"得分\",\n",
    "    colors = c(\"blue\",\"yellow\"),\n",
    "    palette = \"jco\",\n",
    "    add = \"boxplot\"\n",
    ")"
   ]
  },
  {
   "cell_type": "code",
   "execution_count": 141,
   "metadata": {},
   "outputs": [
    {
     "data": {
      "image/png": "[encoded data removed]",
      "text/plain": [
       "plot without title"
      ]
     },
     "metadata": {},
     "output_type": "display_data"
    }
   ],
   "source": [
    "ggstripchart(\n",
    "    mangguo,\n",
    "    y=c(c(\"Color\",\"Exterior\")),\n",
    "    combine = TRUE,\n",
    "    ylab = \"得分\",    \n",
    "    palette = \"jco\",\n",
    "    add = \"boxplot\",\n",
    "    \n",
    ")"
   ]
  },
  {
   "cell_type": "code",
   "execution_count": null,
   "metadata": {},
   "outputs": [],
   "source": []
  }
 ],
 "metadata": {
  "kernelspec": {
   "display_name": "R",
   "language": "R",
   "name": "ir"
  },
  "language_info": {
   "codemirror_mode": "r",
   "file_extension": ".r",
   "mimetype": "text/x-r-source",
   "name": "R",
   "pygments_lexer": "r",
   "version": "3.2.3"
  }
 },
 "nbformat": 4,
 "nbformat_minor": 2
}
