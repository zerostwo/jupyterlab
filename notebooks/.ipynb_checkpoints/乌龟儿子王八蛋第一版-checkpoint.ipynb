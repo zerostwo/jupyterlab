{
 "cells": [
  {
   "cell_type": "code",
   "execution_count": 1,
   "metadata": {},
   "outputs": [],
   "source": [
    "import random"
   ]
  },
  {
   "cell_type": "code",
   "execution_count": 2,
   "metadata": {},
   "outputs": [],
   "source": [
    "playerNumber = 7\n",
    "playerID = [i for i in range(playerNumber)]"
   ]
  },
  {
   "cell_type": "code",
   "execution_count": 3,
   "metadata": {},
   "outputs": [],
   "source": [
    "# 洗牌和抽一张出去\n",
    "poker = [\n",
    "    1, 1, 1, 1,\n",
    "    2, 2, 2, 2,\n",
    "    3, 3, 3, 3,\n",
    "    4, 4, 4, 4,\n",
    "    5, 5, 5, 5,\n",
    "    6, 6, 6, 6,\n",
    "    7, 7, 7, 7, \n",
    "    8, 8, 8, 8,\n",
    "    9, 9, 9, 9,\n",
    "    10, 10, 10, 10,\n",
    "    11, 11, 11, 11,\n",
    "    12, 12, 12, 12,\n",
    "    13, 13, 13, 13,\n",
    "    14, 14\n",
    "]\n",
    "random.shuffle(poker)\n",
    "tortoise = random.choice(poker)\n",
    "poker.remove(tortoise)"
   ]
  },
  {
   "cell_type": "code",
   "execution_count": 4,
   "metadata": {
    "scrolled": true
   },
   "outputs": [],
   "source": [
    "# 发牌\n",
    "for i in range(playerNumber):\n",
    "    exec(\"player{} = []\".format(i))\n",
    "for i in range(playerNumber):\n",
    "    exec(\"player{} = []\".format(i))\n",
    "while len(poker) > 0:\n",
    "    for i in range(playerNumber):\n",
    "        if len(poker) != 0:\n",
    "            randomChoice = random.choice(poker)\n",
    "            exec(\"player{}.append(randomChoice)\".format(i))\n",
    "            poker.remove(randomChoice)\n",
    "        else:\n",
    "            break "
   ]
  },
  {
   "cell_type": "code",
   "execution_count": 5,
   "metadata": {},
   "outputs": [],
   "source": [
    "# 排序\n",
    "for i in range(playerNumber):\n",
    "    exec(\"player{}.sort()\".format(i))"
   ]
  },
  {
   "cell_type": "code",
   "execution_count": 6,
   "metadata": {},
   "outputs": [
    {
     "name": "stdout",
     "output_type": "stream",
     "text": [
      "player0 [2, 4, 4, 5, 9, 10, 11, 12]\n",
      "player1 [1, 1, 2, 7, 8, 9, 10, 12]\n",
      "player2 [2, 2, 4, 6, 7, 8, 13, 13]\n",
      "player3 [4, 8, 9, 10, 11, 13, 13, 14]\n",
      "player4 [1, 3, 6, 7, 8, 11, 12]\n",
      "player5 [1, 3, 3, 7, 10, 12, 14]\n",
      "player6 [3, 5, 5, 5, 6, 6, 9]\n"
     ]
    }
   ],
   "source": [
    "for i in range(playerNumber):\n",
    "    exec(\"print('player{}', player{})\".format(i, i))"
   ]
  },
  {
   "cell_type": "code",
   "execution_count": 7,
   "metadata": {},
   "outputs": [
    {
     "name": "stdout",
     "output_type": "stream",
     "text": [
      "player0 [2, 5, 9, 10, 11, 12]\n",
      "player1 [2, 7, 8, 9, 10, 12]\n",
      "player2 [4, 6, 7, 8]\n",
      "player3 [4, 8, 9, 10, 11, 14]\n",
      "player4 [1, 3, 6, 7, 8, 11, 12]\n",
      "player5 [1, 7, 10, 12, 14]\n",
      "player6 [3, 5, 9]\n"
     ]
    }
   ],
   "source": [
    "# 每个玩家将自己手中的对子出出来\n",
    "for ID in playerID:\n",
    "    exec(\"player = player{}\".format(ID))\n",
    "    for i in range(len(player)-1):\n",
    "        if player[i] == player[i+1]:\n",
    "            player[i] = \"\"\n",
    "            player[i+1] = \"\"\n",
    "            \n",
    "    #exec(\"print('player{}', player{})\".format(ID, ID))            \n",
    "\n",
    "    while \"\" in player:\n",
    "        player.remove(\"\")\n",
    "    exec(\"player{} = player\".format(ID))\n",
    "    \n",
    "    exec(\"print('player{}', player{})\".format(ID, ID))        "
   ]
  },
  {
   "cell_type": "code",
   "execution_count": 8,
   "metadata": {},
   "outputs": [
    {
     "name": "stdout",
     "output_type": "stream",
     "text": [
      "player0 [2, 5, 9, 10, 11, 12]\n",
      "player1 [2, 7, 8, 9, 10, 12]\n",
      "player2 [4, 6, 7, 8]\n",
      "player3 [4, 8, 9, 10, 11, 14]\n",
      "player4 [1, 3, 6, 7, 8, 11, 12]\n",
      "player5 [1, 7, 10, 12, 14]\n",
      "player6 [3, 5, 9]\n"
     ]
    }
   ],
   "source": [
    "for i in playerID:\n",
    "    exec(\"print('player{}', player{})\".format(i, i))"
   ]
  },
  {
   "cell_type": "markdown",
   "metadata": {},
   "source": [
    "## 从这里循环♻️"
   ]
  },
  {
   "cell_type": "code",
   "execution_count": 9,
   "metadata": {},
   "outputs": [
    {
     "name": "stdout",
     "output_type": "stream",
     "text": [
      "index: [6, 6, 4, 6, 7, 3, 3]\n",
      "playerID [0, 1, 2, 3, 4, 5, 6]\n"
     ]
    }
   ],
   "source": [
    "# 互相抽牌\n",
    "for ID in range(len(playerID)):  \n",
    "    if ID != len(playerID)-1 and playerID[ID] != \"\":\n",
    "        exec(\"drawCard = random.choice(player{})\".format(playerID[ID]))\n",
    "        exec(\"player{}.remove(drawCard)\".format(playerID[ID]))\n",
    "        exec(\"player{}.append(drawCard)\".format(playerID[ID+1]))\n",
    "        exec(\"player{}.sort()\".format(playerID[ID+1]))      \n",
    "        # 玩家将自己手中的对子出出来\n",
    "        exec(\"player = player{}\".format(playerID[ID+1]))\n",
    "        for k in range(len(player)-1):\n",
    "            if player[k] == player[k+1]:\n",
    "                player[k] = \"\"\n",
    "                player[k+1] = \"\"\n",
    "        while \"\" in player:\n",
    "            player.remove(\"\")\n",
    "        exec(\"player{} = player\".format(playerID[ID+1]))\n",
    "        \n",
    "    elif playerID[ID] != \"\":\n",
    "        exec(\"drawCard = random.choice(player{})\".format(playerID[ID]))\n",
    "        exec(\"player{}.remove(drawCard)\".format(playerID[ID]))\n",
    "        exec(\"player{}.append(drawCard)\".format(playerID[0]))\n",
    "        exec(\"player{}.sort()\".format(playerID[0]))      \n",
    "        # 玩家将自己手中的对子出出来\n",
    "        exec(\"player = player{}\".format(playerID[0]))\n",
    "        for k in range(len(player)-1):\n",
    "            if player[k] == player[k+1]:\n",
    "                player[k] = \"\"\n",
    "                player[k+1] = \"\"\n",
    "        while \"\" in player:\n",
    "            player.remove(\"\")\n",
    "        exec(\"player{} = player\".format(playerID[0]))\n",
    "\n",
    "    index = []\n",
    "    for i in range(len(playerID)):\n",
    "        exec(\"index.append(len(player{}))\".format(i))\n",
    "        #print(index)\n",
    "    for j in range(len(index)):\n",
    "        if index[j] == 0:\n",
    "            playerID[j] = \"\"   \n",
    "print(\"index:\", index)               \n",
    "print(\"playerID\", playerID)"
   ]
  },
  {
   "cell_type": "code",
   "execution_count": 10,
   "metadata": {},
   "outputs": [
    {
     "name": "stdout",
     "output_type": "stream",
     "text": [
      "player0 [2, 3, 5, 9, 10, 12]\n",
      "player1 [7, 8, 9, 10, 11, 12]\n",
      "player2 [2, 4, 6, 8]\n",
      "player3 [7, 8, 9, 10, 11, 14]\n",
      "player4 [1, 3, 4, 6, 7, 8, 11]\n",
      "player5 [7, 10, 14]\n",
      "player6 [1, 5, 9]\n"
     ]
    }
   ],
   "source": [
    "for i in playerID:\n",
    "    if i != \"\":\n",
    "        exec(\"print('player{}', player{})\".format(i, i))"
   ]
  },
  {
   "cell_type": "code",
   "execution_count": 11,
   "metadata": {},
   "outputs": [
    {
     "data": {
      "text/plain": [
       "11"
      ]
     },
     "execution_count": 11,
     "metadata": {},
     "output_type": "execute_result"
    }
   ],
   "source": [
    "tortoise"
   ]
  },
  {
   "cell_type": "code",
   "execution_count": null,
   "metadata": {},
   "outputs": [],
   "source": []
  },
  {
   "cell_type": "code",
   "execution_count": null,
   "metadata": {},
   "outputs": [],
   "source": []
  }
 ],
 "metadata": {
  "kernelspec": {
   "display_name": "Python 3",
   "language": "python",
   "name": "python3"
  },
  "language_info": {
   "codemirror_mode": {
    "name": "ipython",
    "version": 3
   },
   "file_extension": ".py",
   "mimetype": "text/x-python",
   "name": "python",
   "nbconvert_exporter": "python",
   "pygments_lexer": "ipython3",
   "version": "3.7.4"
  },
  "widgets": {
   "application/vnd.jupyter.widget-state+json": {
    "state": {},
    "version_major": 2,
    "version_minor": 0
   }
  }
 },
 "nbformat": 4,
 "nbformat_minor": 4
}
