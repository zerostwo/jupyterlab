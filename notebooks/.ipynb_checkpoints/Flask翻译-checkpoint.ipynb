{
 "cells": [
  {
   "cell_type": "markdown",
   "metadata": {},
   "source": [
    "# 前言\n",
    "\n",
    "当你开始使用Flask之前，请务必阅读这个部分。这部分将会让你了解Flask项目的目的和目标，并且你适不适合使用它。"
   ]
  },
  {
   "cell_type": "markdown",
   "metadata": {},
   "source": [
    "## “微框架”是什么意思？\n",
    "\n",
    "“微框架”并不是意味着你只能将整个网页写在一个Python文件中（虽然是可以办到的），也不是说Flask框架缺少了什么功能。“微框架”的意思是在保留完整的核心功能的情况下并且易于扩展。Flask核心框架不会包含很多功能，例如数据库的使用，但是你可以使用[flask-sqlalchemy](https://github.com/mitsuhiko/flask-sqlalchemy)扩展来操作数据库。\n",
    "\n",
    "默认情况下，Flask不包含数据库抽象层，表单验证或其他任何已存在可以处理它的库。相反，Flask支持扩展以向应用程序添加此类功能，就像在Flask本身中实现一样。许多扩展提供数据库集成，表单验证，上传处理，各种开放式身份验证技术等。 Flask虽然是“微框架”，但它可以满足各种需求的生产使用。"
   ]
  },
  {
   "cell_type": "markdown",
   "metadata": {},
   "source": [
    "## 配置与约定\n",
    "\n",
    "Flask有许多配置值，具有合理的默认值，并且在开始时有一些约定。按照惯例，模板（`template`）和静态（`static`）文件存储在Python应用程序的根目录下。虽然这些配置可以改变，但通常不需要，特别是在开始时。"
   ]
  },
  {
   "cell_type": "markdown",
   "metadata": {},
   "source": [
    "# 安装\n",
    "\n",
    "## Python版本\n",
    "\n",
    "推荐使用最新的Python3.x版本。Flask支持Python3.4及以上，Python2.7和PyPy。"
   ]
  },
  {
   "cell_type": "markdown",
   "metadata": {},
   "source": [
    "## 依赖\n",
    "\n",
    "当安装Flask时以下依赖将会自动安装：\n",
    "\n",
    "- [Werkzeug](https://werkzeug.pocoo.org/)实现了[WSGI](https://zh.wikipedia.org/zh-hans/Web%E6%9C%8D%E5%8A%A1%E5%99%A8%E7%BD%91%E5%85%B3%E6%8E%A5%E5%8F%A3)，它是应用程序和服务器之间的标准Python接口。\n",
    "- [Jinja](http://jinja.pocoo.org/)是一种模板语言，可以呈现应用程序所服务的页面。\n",
    "- [MarkupSafe](https://pypi.org/project/MarkupSafe/)附带Jinja。它在渲染模板时逃避不受信任的输入以避免注入攻击。\n",
    "- [ItsDangerous](https://pythonhosted.org/itsdangerous/)安全地签署数据以确保其完整性。这用于保护Flask的会话cookie。\n",
    "- [Click](http://click.pocoo.org/)是用于编写命令行应用程序的框架。它提供flask命令并允许添加自定义管理命令。"
   ]
  },
  {
   "cell_type": "markdown",
   "metadata": {},
   "source": [
    "## 可选依赖\n",
    "\n",
    "以下这些依赖不会自动安装。如果安装它们，Flask将检测并使用它们。\n",
    "\n",
    "- [Blinker](https://pythonhosted.org/blinker/)为[Signals](http://flask.pocoo.org/docs/1.0/signals/#signals)提供支持。\n",
    "- [SimpleJSON](https://simplejson.readthedocs.io/)是一个快速的JSON实现，与Python的`json`模块兼容。如果安装了JSON操作，则首选它。\n",
    "- [python-dotenv](https://github.com/theskumar/python-dotenv#readme)在运行`flask`命令时启用对[dotenv的环境变量](http://flask.pocoo.org/docs/1.0/cli/#dotenv)支持。\n",
    "- [Watchdog](https://pythonhosted.org/watchdog/)为开发服务器提供了更快，更高效的重新加载器。"
   ]
  },
  {
   "cell_type": "markdown",
   "metadata": {},
   "source": [
    "## 虚拟环境\n",
    "\n",
    "k"
   ]
  },
  {
   "cell_type": "code",
   "execution_count": null,
   "metadata": {},
   "outputs": [],
   "source": []
  }
 ],
 "metadata": {
  "kernelspec": {
   "display_name": "Python 3",
   "language": "python",
   "name": "python3"
  },
  "language_info": {
   "codemirror_mode": {
    "name": "ipython",
    "version": 3
   },
   "file_extension": ".py",
   "mimetype": "text/x-python",
   "name": "python",
   "nbconvert_exporter": "python",
   "pygments_lexer": "ipython3",
   "version": "3.7.4"
  }
 },
 "nbformat": 4,
 "nbformat_minor": 4
}
