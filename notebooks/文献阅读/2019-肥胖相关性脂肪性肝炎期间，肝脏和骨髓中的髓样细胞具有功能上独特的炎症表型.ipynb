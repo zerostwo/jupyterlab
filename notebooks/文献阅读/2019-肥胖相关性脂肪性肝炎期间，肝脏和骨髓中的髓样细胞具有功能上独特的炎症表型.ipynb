{
 "cells": [
  {
   "cell_type": "markdown",
   "metadata": {},
   "source": [
    "# 在由于肥胖导致的脂肪性肝炎期间，肝脏和骨髓中的髓样细胞具有功能上独特的炎症表型"
   ]
  },
  {
   "cell_type": "markdown",
   "metadata": {},
   "source": [
    "## Introduction\n",
    "\n",
    "- 肥胖和代谢紊乱引起的非酒精性脂肪性肝病（NAFLD）是全球最流行的肝病。\n",
    "\n",
    "- 在NAFLD进展期间，肝脏代谢底物（例如碳水化合物和脂肪酸）的能力不堪重负，导致有毒脂质代谢物积聚，肝脂质沉积，肝细胞应激，细胞死亡以及随后激活免疫机制\n",
    "\n",
    "- 免疫细胞向肝脏的转移是非酒精性脂肪性肝炎（NASH）的特征之一。\n",
    "\n",
    "- 骨髓源性单核细胞流入肝脏与持续的肝脏炎症和NAFLD进展有关\n",
    "\n",
    "- 单核细胞和单核细胞衍生的巨噬细胞（MoMF）具有很高的可塑性，使它们能够根据对细胞因子，趋化因子和损伤相关分子模式（DAMPs）等信号的同时识别来适应炎性极化。\n",
    "\n",
    "- 先前的研究表明，FAs可以作为炎症介质，在体外MoMF形成独特的炎症表型。\n",
    "\n",
    "- 脂肪酸的组成显示出很大的差异，具体取决于个体的饮食摄入量。\n",
    "\n",
    "- 单核细胞对FA的识别被认为取决于TLR4和核因子kappa B信号传导，随后是随后的NOD样受体家族，含吡啶结构域3（NLRP3）炎性小体的形成和激活。\n",
    "\n",
    "- 一致的是，TLR4介导的脂多糖（LPS）识别已显示在骨髓前体中引起“髓样高于淋巴样”偏向，即使改用标准饮食，西方饮食（WD）喂养期间的饮食变化也会改变对LPS的反应\n",
    "\n",
    "- **尽管这些研究建立了代谢疾病进展与炎性巨噬细胞极化之间的主要联系，但骨髓前体的炎性极化与随后在NAFLD进展期间对肝单核细胞，巨噬细胞和树突状细胞（DC）的影响之间的联系尚不清楚。**\n",
    "\n",
    "- "
   ]
  },
  {
   "cell_type": "markdown",
   "metadata": {},
   "source": [
    "- Non-alcoholic fatty liver disease (NAFLD) 非酒精性肝病\n",
    "\n",
    "    由于肥胖和其它代谢疾病诱导的。\n",
    "    \n",
    "- Non-alcoholic steatohepatitis ( NASH) 非酒精性肝炎\n",
    "\n",
    "    与来自骨髓的单核细胞有关。\n",
    "    \n",
    "- 单核细胞（Monocytes）与从单核细胞衍生而来的巨噬细胞（Monocyte derived macrophages/MoMF)具有很高的重塑性\n",
    "\n",
    "    它们能够根据对细胞因子，趋化因子和损伤相关分子模式（DAMPs）等信号的同时识别来适应炎性极化。\n",
    "    \n",
    "    先前的研究表明，脂肪酸（FA)可以作为炎症介质，体外研究MoMF表明其可形成独特的炎症表型。\n",
    "    \n",
    "    FA的组成显示出很大的差异，具体取决于个体的饮食摄入量。\n",
    "    \n",
    "    单核细胞对FA的识别被认为取决于toll样受体4（TLR4）和核因子kappa B信号传导，随后是随后的NOD样受体家族，含吡啶结构域3（NLRP3）炎性小体的形成和激活。 顺带一提，TLR4介导的脂多糖（LPS）识别已显示在骨髓前体中引起“髓样高于淋巴样”偏向，即使改用标准饮食，西方饮食（WD）喂养期间的饮食变化也会改变对LPS的反应 。 尽管这些研究建立了代谢疾病进展与炎性巨噬细胞极化之间的主要联系，**但骨髓前体的炎性极化与随后在NAFLD进展期间对肝单核细胞，巨噬细胞和树突状细胞（DC）的影响之间的联系尚不清楚**。\n",
    "    \n",
    "    在我们的研究中，我们证明了在饮食诱导的NAFLD进展过程中，骨髓单核细胞（BMM）和前体在其基因表达模式中获得了特征性变化，这些变化得以保留并确定了肝髓样细胞群的功能。 最突出的是，钙卫蛋白编码基因S100钙结合蛋白A8（S100a8）和S100a9在肝脏和骨髓中的髓样免疫细胞中均被下调。 髓样免疫细胞的印记变化影响其炎症极化并调节对急性无菌肝损伤的反应。 因此，我们的数据表明，NAFLD进展诱导了骨髓和肝脏中髓样细胞中炎症免疫反应的独特，稳定和功能相关变化。"
   ]
  },
  {
   "cell_type": "markdown",
   "metadata": {},
   "source": [
    "## Materials and methods"
   ]
  },
  {
   "cell_type": "markdown",
   "metadata": {},
   "source": [
    "### 1 动物实验\n",
    "\n",
    "- 将C57BL6/J野生型小鼠饲养在无特定病原体（SPF）的环境中。 \n",
    "\n",
    "- 向西方饮食组（WD）喂食高糖（34％），高脂肪（21％）和高胆固醇（1.25％）膳食，持续16周，可诱发脂肪肝损伤。 \n",
    "\n",
    "- 对照小鼠接受正常饮食（ND）。 \n",
    "\n",
    "- 作为急性肝损伤的标准模型，对ND喂养或WD喂养的动物进行过量的对乙酰氨基酚（APAP，常说的扑热息痛）（禁食12小时后静脉内250 mg/kg）。\n",
    "\n",
    "- 所有体内实验均针对8-24周龄的雄性小鼠进行。"
   ]
  },
  {
   "cell_type": "markdown",
   "metadata": {},
   "source": [
    "### 2 表型评估\n",
    "\n",
    "- 在石蜡包埋的肝脏和脂肪组织（AT）切片上进行H&E或Sirius Red染色。\n",
    "\n",
    "    苏木精伊红染色（H&E）：苏木精染液为碱性 ，主要使**细胞核内的染色质与胞质内的核酸**着紫蓝色 ；伊红为酸性染料 ，主要使**细胞质和细胞外基质中**的成分着红色；\n",
    "    天狼猩红染色（Sirius Red）：对胶原纤维染色。\n",
    "\n",
    "- 通过胶原酶消化和差异离心，然后使用BD Biosciences进行多色流式细胞术，分离肝白细胞。 \n",
    "\n",
    "- 通过结肠样品的16S rRNA测序评估了肠道微生物组的组成。"
   ]
  },
  {
   "cell_type": "markdown",
   "metadata": {},
   "source": [
    "### 3 肝和骨髓骨髓细胞的单细胞RNA测序分析\n",
    "\n",
    "- 从ND喂养和WD喂养的小鼠的肝脏和骨髓中分离出髓样白细胞，并使用BD Biosciences通过荧光激活细胞分选（FACS）分类为CD45 + LY6G-TCRβ-CD4-CD19- NK1.1- ）。\n",
    "\n",
    "- 分离的细胞用冷磷酸盐缓冲盐水（PBS）+ 0.1％牛血清白蛋白（BSA）洗涤一次，并使用Chromium System（10x Genomics，California，USA）进行单细胞RNA测序分析。 \n",
    "\n",
    "- 每个样品使用**5000个细胞**，回收率约为**60％**。 在Illumina NextSeq 550（配对末端，2×75 bp）上进行测序，每个单元读取60000次，每个Illumina芯片读取总计4×10^8次。"
   ]
  },
  {
   "cell_type": "markdown",
   "metadata": {},
   "source": [
    "### 4 骨髓来源的巨噬细胞极化分析和大量RNA测序\n",
    "\n",
    "- 为了产生骨髓来源的巨噬细胞（BMDM），用补给10％胎牛血清（FCS），1％青霉素/链霉素和30％L929上清液的冷RPMI冲洗来自ND喂养或WD喂养的小鼠的骨髓。之后，将细胞在37℃下孵育24小时。\n",
    "\n",
    "- 对于FA的预刺激，向培养基中添加0.1 mM的棕榈酸和油酸（1：3）混合物，该混合物溶于无FA的BSA中。\n",
    "\n",
    "- 对于TLR4抑制，使用200 nM小分子抑制剂TAK-242加入溶于二甲基亚砜（DMSO）中的。在所有条件下，DMSO的最终浓度均低于0.1％。 \n",
    "\n",
    "    4天后，洗涤细胞并以5×10^5细胞/孔的密度接种在6孔板上，并在37℃下再培养3天。\n",
    "    \n",
    "    在第7天，用100 ng / mL大肠杆菌衍生的LPS刺激BMDM 24小时。收集细胞用于流式细胞术和RNA分离。将BMDM在peqGold中裂解，并通过苯酚-氯仿提取分离总RNA。基因表达分析是通过在Illumina NextSeq 550上进行mRNA测序来完成的。通过LUNARIS细胞因子多重测定法从上清液中测量细胞因子。"
   ]
  },
  {
   "cell_type": "code",
   "execution_count": null,
   "metadata": {},
   "outputs": [],
   "source": []
  },
  {
   "cell_type": "code",
   "execution_count": null,
   "metadata": {},
   "outputs": [],
   "source": []
  },
  {
   "cell_type": "code",
   "execution_count": null,
   "metadata": {},
   "outputs": [],
   "source": []
  },
  {
   "cell_type": "markdown",
   "metadata": {},
   "source": [
    "## Result"
   ]
  },
  {
   "cell_type": "markdown",
   "metadata": {},
   "source": [
    "### 1 scRNA-Seq揭示了与肥胖相关的脂肪肝在疾病期间不同的肝脏浸润性髓样白细胞亚群的显着扩展"
   ]
  },
  {
   "cell_type": "markdown",
   "metadata": {},
   "source": [
    "### 2 脂肪肝疾病中肝巨噬细胞亚群和骨髓单核细胞（BMM）共享特征性基因表达模式"
   ]
  },
  {
   "cell_type": "markdown",
   "metadata": {},
   "source": [
    "### 3 西式饮食喂养诱导所有细胞亚型的髓样白细胞基因表达谱的特征性变化"
   ]
  },
  {
   "cell_type": "markdown",
   "metadata": {},
   "source": [
    "### 4 骨髓中炎症细胞能力的差异已经在骨髓中引起"
   ]
  },
  {
   "cell_type": "markdown",
   "metadata": {},
   "source": [
    "### 5 FAs通过TLR4信号转导介导BMDM中常见炎症免疫表型的印记"
   ]
  },
  {
   "cell_type": "markdown",
   "metadata": {},
   "source": [
    "- 有人建议通过巨噬细胞中的TLR4发出信号来将代谢疾病与炎症联系起来\n",
    "\n"
   ]
  },
  {
   "cell_type": "markdown",
   "metadata": {},
   "source": [
    "### 6 常见的NAFLD单核细胞表型决定了体内对急性肝损伤的炎症反应"
   ]
  },
  {
   "cell_type": "markdown",
   "metadata": {},
   "source": [
    "## 结果\n",
    "\n",
    "- 单细胞RNA测序鉴定出肝脏和骨髓中不同的髓样细胞簇。在两个隔室中，在受NASH感染的小鼠中单核细胞衍生的种群都大大扩展了。 \n",
    "\n",
    "- 重要的是，肝髓样区室在NAFLD进展过程中适应了独特的炎症表型，其典型特征是巨噬细胞和树突状细胞亚群中的炎症钙卫蛋白（S100A8/A9）下调。 \n",
    "\n",
    "- NASH表型主要是通过体外暴露于骨髓源的巨噬细胞与脂肪酸来概括的，并取决于TLR4信号传导并定义了对脂多糖刺激的特征性反应模式。 \n",
    "\n",
    "- 单细胞RNA测序可确定常见的'NAFLD髓系表型'的标志性变化，包括在西方饮食中肝脏单核细胞，巨噬细胞和树突状细胞以及肝脏中的炎症标记钙卫蛋白（S100a8 / S100a9）的基因表达下调。\n",
    "\n",
    "- 西方饮食喂养诱导了所有髓样白细胞亚群共有的独特基因特征，这些特征可以通过以TLR4依赖性方式用骨髓来源的巨噬细胞的游离脂肪酸预先刺激而在体外大量复制。\n",
    "\n",
    "- "
   ]
  },
  {
   "cell_type": "code",
   "execution_count": null,
   "metadata": {},
   "outputs": [],
   "source": []
  },
  {
   "cell_type": "code",
   "execution_count": null,
   "metadata": {},
   "outputs": [],
   "source": []
  },
  {
   "cell_type": "code",
   "execution_count": null,
   "metadata": {},
   "outputs": [],
   "source": []
  },
  {
   "cell_type": "code",
   "execution_count": 3,
   "metadata": {},
   "outputs": [],
   "source": [
    "a = \"\"\"To generate bone marrow-derived macrophages (BMDM), bone\n",
    "marrow from ND-fed or WD-fed mice was flushed with cold\n",
    "RPMI supplemented with 10% fetal calf serum (FCS), 1% Penicillin/\n",
    "Streptomycin and 30% L929 supernatant. Afterwards, cells\n",
    "were incubated for 24 hours at 37°C. For FA prestimulation\n",
    "the medium was supplemented with 0.1 mM mix of palmitic\n",
    "and oleic acid (1:3) dissolved in FA-free BSA as previously\n",
    "described.3 For TLR4 inhibition, 200 nM of the small molecular\n",
    "inhibitor TAK-242 (Sigma, Germany) dissolved in dimethyl sulfoxide\n",
    "(DMSO) was added. Final concentration of DMSO was\n",
    "below 0.1% in all conditions. After 4 days, cells were washed\n",
    "and seeded at a density of 5×105 cells/well on a 6-well plate\n",
    "and incubated for another 3 days at 37°C. On day 7, BMDM\n",
    "were stimulated with 100 ng/mL of Escherichia coli-derived LPS\n",
    "for 24 hours. Cells were collected for flow cytometry and RNA\n",
    "isolation. BMDM were lysed in peqGold (VWR, Germany), and\n",
    "total RNA was isolated by phenol-chloroform extraction. Gene\n",
    "expression analysis was done by mRNA sequencing on the Illumina\n",
    "NextSeq 550 (TruSeq Stranded mRNA Kit, 1×125 bp).\n",
    "Cytokines were measured from supernatant by the LUNARIS\n",
    "cytokine multiplex assay (Ayoxxa, Germany).\"\"\""
   ]
  },
  {
   "cell_type": "code",
   "execution_count": 4,
   "metadata": {},
   "outputs": [
    {
     "data": {
      "text/plain": [
       "'To generate bone marrow-derived macrophages (BMDM), bone marrow from ND-fed or WD-fed mice was flushed with cold RPMI supplemented with 10% fetal calf serum (FCS), 1% Penicillin/ Streptomycin and 30% L929 supernatant. Afterwards, cells were incubated for 24 hours at 37°C. For FA prestimulation the medium was supplemented with 0.1 mM mix of palmitic and oleic acid (1:3) dissolved in FA-free BSA as previously described.3 For TLR4 inhibition, 200 nM of the small molecular inhibitor TAK-242 (Sigma, Germany) dissolved in dimethyl sulfoxide (DMSO) was added. Final concentration of DMSO was below 0.1% in all conditions. After 4 days, cells were washed and seeded at a density of 5×105 cells/well on a 6-well plate and incubated for another 3 days at 37°C. On day 7, BMDM were stimulated with 100 ng/mL of Escherichia coli-derived LPS for 24 hours. Cells were collected for flow cytometry and RNA isolation. BMDM were lysed in peqGold (VWR, Germany), and total RNA was isolated by phenol-chloroform extraction. Gene expression analysis was done by mRNA sequencing on the Illumina NextSeq 550 (TruSeq Stranded mRNA Kit, 1×125 bp). Cytokines were measured from supernatant by the LUNARIS cytokine multiplex assay (Ayoxxa, Germany).'"
      ]
     },
     "execution_count": 4,
     "metadata": {},
     "output_type": "execute_result"
    }
   ],
   "source": [
    "a.replace(\"\\n\", \" \")"
   ]
  },
  {
   "cell_type": "code",
   "execution_count": null,
   "metadata": {},
   "outputs": [],
   "source": []
  }
 ],
 "metadata": {
  "kernelspec": {
   "display_name": "Python 3",
   "language": "python",
   "name": "python3"
  },
  "language_info": {
   "codemirror_mode": {
    "name": "ipython",
    "version": 3
   },
   "file_extension": ".py",
   "mimetype": "text/x-python",
   "name": "python",
   "nbconvert_exporter": "python",
   "pygments_lexer": "ipython3",
   "version": "3.7.4"
  }
 },
 "nbformat": 4,
 "nbformat_minor": 4
}
