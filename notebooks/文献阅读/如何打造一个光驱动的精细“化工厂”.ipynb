{
 "cells": [
  {
   "cell_type": "markdown",
   "metadata": {
    "toc-hr-collapsed": false
   },
   "source": [
    "# 如何打造一个光驱动的精细“化工厂”"
   ]
  },
  {
   "cell_type": "markdown",
   "metadata": {},
   "source": [
    ">给微生物酵母菌装备上无机纳米材料"
   ]
  },
  {
   "cell_type": "markdown",
   "metadata": {},
   "source": [
    "<center><img src=\"../pictures/jpg/zsfz1544184006.7757645.jpg\"></center>\n",
    "<center><span style=\"color: rgb(136, 136, 136)\">图1 左图为计算机合成的半导体-酵母菌复合体；右图为扫描电子显微镜图展示的半导体-酵母菌复合体，其颜色为后期加入。紫色为天然多酚包裹的半导体纳米颗粒，粉红色为基因工程改造的酵母菌。</span></center>"
   ]
  },
  {
   "cell_type": "markdown",
   "metadata": {},
   "source": [
    "## 背景介绍"
   ]
  },
  {
   "cell_type": "markdown",
   "metadata": {},
   "source": [
    "微生物具有易培养、增殖快的特点，结合成熟的基因工程设计，可被改造成小小的“**生物化工厂**”，生产合成出满足人们需要的化合物。这些化合物在日常生活中随处可见，它们广泛存在于医疗药品、护肤品、食品和饲料添加剂、农药等。在微生物生物合成领域，最常用的一类微生物就是**大肠杆菌**和**酵母菌**。"
   ]
  },
  {
   "cell_type": "markdown",
   "metadata": {},
   "source": [
    "给微生物酵母菌装备上无机纳米材料，构建出了一个新型无机—微生物复合体平台，并成功应用于高效精细化合物的生物合成。"
   ]
  },
  {
   "cell_type": "markdown",
   "metadata": {},
   "source": [
    "在这个复合体中，无机物半导体纳米颗粒（磷化铟）被组装在了酵母菌表面（图1）。通过施加光照，半导体产生的电子能够导入细胞质中并参与酵母菌的代谢合成。同时，我们使用基因工程设计改造了酵母菌的代谢途径，从而能够显著地提高目标化合物的产率。该研究为高值化合物的生产提供了全新的合成平台。"
   ]
  },
  {
   "cell_type": "markdown",
   "metadata": {},
   "source": [
    "## “微型化工厂”：酵母菌"
   ]
  },
  {
   "cell_type": "markdown",
   "metadata": {},
   "source": [
    "日常生活中，酵母菌可用于烘焙、酿酒等。通过基因工程的改造，酵母菌可以导入来自植物、细菌、动物的各种基因，这些基因在酵母菌细胞内部完成表达，从而实现上千种目标化合物的生物合成。"
   ]
  },
  {
   "cell_type": "markdown",
   "metadata": {},
   "source": [
    "其中，具有标志性意义的一个例子，就是使用酵母菌生产吗啡等止痛药物的前体：蒂巴因（*thebaine*）。此外，酵母菌还可用于生产抗疟疾药物青蒿素。基于此，这些药物的获取将可能不再受限于传统的植物提取过程，而且在生产效率和产量方面得以大大提高。"
   ]
  },
  {
   "cell_type": "markdown",
   "metadata": {},
   "source": [
    "目前，通过引入无机物，制备出**无机-微生物/酶复合体**（Inorganic-biological hybrid systems），能够高效地实现水裂解产$H_2$、$CO_2$以及$N_2$生物固定等目标，全世界许多顶尖的研究组（加州伯克利大学杨培东教授；美国国家可再生能源实验室Paul King教授等）已在这个生物化学/材料科学的交叉领域做出了突出贡献。但是，此前使用的微生物主要是自养性微生物，它们以太阳光为能量来源，其代谢途径不易被操控，所能合成的目的产物范围有限，而且仅能合成简单的小分子。"
   ]
  },
  {
   "cell_type": "markdown",
   "metadata": {},
   "source": [
    "**酵母菌**作为通过“吃糖”（碳源）来摄取能量的**异养性微生物**，在合成生物学领域展现了极为丰富的基因和代谢产物设计潜力。在酵母菌的合成代谢中，**NADPH**（还原形式的烟酰胺腺嘌呤二核苷酸磷酸盐）是一种驱动代谢过程的核心辅酶。因此，**增加微生物细胞内的NADPH量，一直是研发有效细胞生物工厂的核心科学问题**。"
   ]
  },
  {
   "cell_type": "markdown",
   "metadata": {},
   "source": [
    "在这项最新研究中，作者第一次将**半导体材料与强大的异养性微生物结合**，大大提高了酵母菌细胞内的NADPH水平，并成功合成出较为复杂的精细分子（**莽草酸**），实现了更高效、更高价值的有机分子生物合成。"
   ]
  },
  {
   "cell_type": "markdown",
   "metadata": {},
   "source": [
    "## 设计组装"
   ]
  },
  {
   "cell_type": "markdown",
   "metadata": {},
   "source": [
    "在这项研究中，作者以莽草酸作为目标化合物，测试这款新型无机—微生物复合体的合成能力和生产效率。莽草酸是抗病毒药物达菲（*Tamiflu*）的前体，也是其他几种药物、营养保健品和精细化学品的重要前体，有着重要的应用价值。"
   ]
  },
  {
   "cell_type": "markdown",
   "metadata": {},
   "source": [
    "为了增强酵母菌对有机碳源的利用率，同时测试无机纳米材料是否有助于增加NADPH的量，我们首先对酵母菌进行了基因工程改造，删除了它本身主要的NADPH生成途径（图2B），所获得的酵母菌株（*S. cerevisiae ∆zwf1*）无法有效地合成莽草酸；此外，我们还通过调控多个关键基因，富集了大量莽草酸前驱体分子的合成——3-脱氢莽草酸DHS。"
   ]
  },
  {
   "cell_type": "markdown",
   "metadata": {},
   "source": [
    "我们这项研究的主要创新点在于**通过纳米模块化的组装方式，将高性能无机半导体磷化铟纳米颗粒，安装在了酵母菌表面**（图2A）。此外，因为使用了**天然多酚修饰纳米颗粒**，使其具有较低的细胞毒性，对酵母细胞没有明显损伤，具有高度的生物相容性。"
   ]
  },
  {
   "cell_type": "markdown",
   "metadata": {},
   "source": [
    "在光照条件下，**无机纳米颗粒可以将光能转化为电子**，从而驱动NADPH的还原和生成。通过研究发现，该复合物系统的NADPH//NADP+的比率甚至高于正常NADPH生成的酵母，从而揭示了该复合体平台能够有效提高NADPH的比例。"
   ]
  },
  {
   "cell_type": "markdown",
   "metadata": {},
   "source": [
    "<center><img src=\"../pictures/jpg/zsfz1544184007.8268498.jpg\"></center>\n",
    "<center><span style=\"color: rgb(136, 136, 136)\">图2 无机-酵母复合体的模块化组装及生物代谢途径的基因工程改造\n",
    "</span></center>"
   ]
  },
  {
   "cell_type": "markdown",
   "metadata": {},
   "source": [
    "由于酵母细胞中的NADPH水平得以恢复，还原性生物合成反应也得以进行，之前大量富集的莽草酸前体（3-脱氢莽草酸DHS）能够顺利转化生成莽草酸（图2C，D）。而且，光照条件下（图3），莽草酸的产量和碳源利用率均显著增加。"
   ]
  },
  {
   "cell_type": "markdown",
   "metadata": {},
   "source": [
    "<center><img src=\"../pictures/jpg/zsfz15441840076117530.jpg\"></center>\n",
    "<center><span style=\"color: rgb(136, 136, 136)\">图3 光反应生物合成反应进行的场景\n",
    "</span></center>"
   ]
  },
  {
   "cell_type": "markdown",
   "metadata": {},
   "source": [
    "此前，南京大学赵劲课题组用CdS半导体纳米颗粒与大肠杆菌组装，构建了具有复合结构的光催化系统，并将其应用于光驱动生物产氢。这里有个关键问题尚需进一步研究，即细菌系统中的光转化电子的传递是如何实现的。之前，杨培东教授团队首先提出了细胞膜氢化酶电子传递机制。在我们的研究中，由于酵母菌具有细胞壁，我们认为酵母细胞壁的多糖聚合物可能是纳米颗粒与细胞膜之间电子“跳跃”的媒介。"
   ]
  },
  {
   "cell_type": "markdown",
   "metadata": {},
   "source": [
    "## 应用前景"
   ]
  },
  {
   "cell_type": "markdown",
   "metadata": {},
   "source": [
    "需要指出的是，现有合成生物学已经可以实现莽草酸的高效合成，我们的这款新型“微型化工厂”并不是莽草酸单一分子合成的最优系统。但是，通过对莽草酸的生物合成，我们阐明了该新型模块化微生物复合物平台的基础原理，同时也证明了该系统可以有效再生NADPH，为未来更复杂、更有挑战、更高价值的生物合成奠定了重要科学基础。"
   ]
  },
  {
   "cell_type": "markdown",
   "metadata": {},
   "source": [
    "例如，建立在酵母菌中的苄基异喹啉生物碱的生产需      \n",
    "\n",
    "  \n",
    "   \n",
    "   要直接依赖于由NADPH驱动的细胞色素P450氧化还原酶的参与。因此，通过进一步的工业放大，我们提出的技术可以提高生物碱天然产物和其他药物的工业化生产效率。"
   ]
  },
  {
   "cell_type": "markdown",
   "metadata": {},
   "source": [
    "在基础科学层面，我们的研究将推动无机-微生物复合体中电子传递机制和代谢调控的探索，为未来先进无机-微生物复合体的设计和制备提供理论支持。 "
   ]
  },
  {
   "cell_type": "markdown",
   "metadata": {},
   "source": [
    "## 参考文献"
   ]
  },
  {
   "cell_type": "markdown",
   "metadata": {},
   "source": [
    "1. Junling Guo et al.,Light-driven fine chemical production in yeast biohybrids. *Science*, 2018, 362:813-816.\n",
    "\n",
    "2. Junling Guo et al., Modular assembly of superstructures from polyphenol-functionalized building blocks. *Nature Nanotechnology*, 2016, 11: 1105-1111.\n",
    "\n",
    "3. Kelsey K. Sakimoto et al.,Self-photosensitization of nonphotosynthetic bacteria for solar-to-chemical production. *Science*, 2016, 351: 74-77.\n",
    "\n",
    "4. Wei Weiet al., A surface-display biohybrid approach to light-driven hydrogen production in air. *Science Advances*, 2018, 4: eaap9253."
   ]
  },
  {
   "cell_type": "markdown",
   "metadata": {},
   "source": [
    "# Light-driven fine chemical production in yeast biohybrids. \n",
    "\n",
    "# （酵母生物杂交种的光驱动精细化学生产）"
   ]
  },
  {
   "cell_type": "markdown",
   "metadata": {},
   "source": [
    "## 问题"
   ]
  },
  {
   "cell_type": "markdown",
   "metadata": {},
   "source": [
    "细菌和真菌在工业上被广泛用于生产大宗精细化学品。糖是一种经济的原料，但许多需要的产品需要酶还原，这意味着一些糖必须被转移以再生细胞还原剂nadph（烟酰胺腺嘌呤二核苷酸磷酸还原形式）。郭等人表明，来自光敏感纳米粒子的电子可以驱动酵母菌中的细胞nadph的还原，进而可用于还原生物合成反应。该系统可以减少碳对nadph再生的转移，并应与现有的许多酵母工程菌株兼容。"
   ]
  },
  {
   "cell_type": "markdown",
   "metadata": {},
   "source": [
    "## 摘要"
   ]
  },
  {
   "cell_type": "markdown",
   "metadata": {},
   "source": [
    "无机-生物混合系统通过将半导体的捕光特性与生物细胞的合成潜力结合起来，具有可持续、高效和多功能的化学合成平台的潜力。我们开发了一个模块化的生物无机混合平台，其中包括高效的光捕获磷化铟纳米颗粒和转基因酵母菌，一种生物制造中的工作马微生物。酵母从发光的纳米粒子中提取光产生的电子，并用于氧化还原辅因子的胞腔再生。我们的工作为生物杂交种的合理设计提供了一个平台，以提高生物制造过程的复杂性和功能性。"
   ]
  },
  {
   "cell_type": "markdown",
   "metadata": {},
   "source": [
    "## 实验方法"
   ]
  },
  {
   "cell_type": "markdown",
   "metadata": {},
   "source": [
    "### 磷化铟纳米颗粒的制备\n",
    "\n",
    "手动碾磨30min磷化铟粉末得到纳米颗粒，然后超声降解，之后使用8000 g，5 min离心，取吸附在关闭上的颗粒。为了获取小于500 nm的纳米颗粒，重复分离离心过程。最后通过紫外分光光度检测粒径分布（Ref：10.1021/ac0702084）\n",
    "\n",
    "### 微生物工程与培养方法\n",
    "\n",
    "#### 菌株和培养基\n",
    "\n",
    "酵母-蛋白胨-葡萄糖（YPD，1：2：2）培养基。**之后的部分还需要重新看...**"
   ]
  },
  {
   "cell_type": "markdown",
   "metadata": {},
   "source": [
    "## 参考文献"
   ]
  },
  {
   "cell_type": "markdown",
   "metadata": {},
   "source": [
    "R. E. Blankenship et al., Science 332, 805–809 (2011)\n",
    "\n",
    "[Comparing Photosynthetic and Photovoltaic Efficiencies and Recognizing the Potential for Improvement](https://science.sciencemag.org/content/332/6031/805.abstract)\n",
    "\n",
    "比较光合作用和光伏发电效率并认识到改进的潜力\n",
    "\n",
    "比较光合作用和光伏效率不是一个简单的问题。 虽然两种方法都在阳光下收集能量，但它们以明显不同的方式运行并产生不同类型的产品：在自然光合作用的情况下为生物质或化学燃料，在光伏的情况下为非存储的电流。 为了找到评估能量转换效率的共同点，我们将自然光合作用与光伏驱动电解水的现有技术进行比较以产生氢气。 光伏驱动电解是每年测量的更有效的过程，但在最佳条件下光合转化的短期产量在光伏基准的2或3倍之内。 我们考虑合成生物学前沿可用于增强自然光合作用以提高太阳能转换效率的机会。"
   ]
  },
  {
   "cell_type": "markdown",
   "metadata": {},
   "source": [
    "A. Le Goff et al., Science 326, 1384–1387 (2009).\n",
    "\n",
    "[From Hydrogenases to Noble Metal–Free Catalytic Nanomaterials for $H_2$ Production and Uptake](https://science.sciencemag.org/content/326/5958/1384.editor-summary)\n",
    "\n",
    "从氢化酶到贵金属催化纳米材料的$H_2$生成和吸收\n",
    "\n",
    "太阳能和风能的一个缺点是需要有效的存储系统以在两个源都不容易获得时（例如在寂静的夜晚）释放累积的能量。 来自水电解的氢可能是用于此目的的有用介质，但是目前大规模有效地催化相互转化将需要大量稀有的贵金属铂。 另一种方法是模拟天然酶促反应，使用含有更丰富金属铁和镍的氢化酶实现相互转化。 在这方面，Le Goff等人。 （p.1344;见Hambourger和Moore的Perspective）对氢化酶启发的镍络合物进行了轻微改性，以便将其附加到导电碳纳米管载体上。 得到的杂化材料对于标准装置中的可逆水电解显示出有希望的催化效率。"
   ]
  },
  {
   "cell_type": "markdown",
   "metadata": {},
   "source": [
    "## 原文\n",
    "\n",
    "Inorganic-biological hybrid systems have potential to be sustainable, efficient, and versatile chemical synthesis platforms by integrating the light-harvesting\n",
    "properties of semiconductors with the synthetic potential of biological cells. We have developed a modular bioinorganic hybrid platform that consists of highly\n",
    "efficient light-harvesting indium phosphide nanoparticles and genetically engineered Saccharomyces cerevisiae, a workhorse microorganism in biomanufacturing.\n",
    "The yeast harvests photogenerated electrons from the illuminated nanoparticles and uses them for the cytosolic regeneration of redox cofactors. This process enables\n",
    "the decoupling of biosynthesis and cofactor regeneration, facilitating a carbonand energy-efficient production of the metabolite shikimic acid, a common precursor\n",
    "for several drugs and fine chemicals. Our work provides a platform for the rational design of biohybrids for efficient biomanufacturing processes with higher\n",
    "complexity and functionality.\n",
    "\n",
    "通过将半导体的光捕获特性与生物细胞的合成潜力相结合，无机-生物混合系统具有可持续性，高效性和通用化学合成平台的潜力。我们开发了一种模块化生物无机混合平台，由高效的光捕获InP纳米颗粒和基因工程酿酒酵母（*Saccharomyces cerevisiae*）组成，这是生物制造中的主要微生物。 酵母收获来自被照射的纳米颗粒的光生电子，并将它们用于氧化还原辅助因子的细胞溶质再生。 该过程使得生物合成和辅因子再生的解耦成为可能，促进了代谢物莽草酸的碳和能量有效生产，代谢物莽草酸是几种药物和精细化学品的共同前体。我们的工作为合理设计生物混合物提供了一个平台，用于高效的生物制造过程，具有更高的复杂性和功能性。"
   ]
  },
  {
   "cell_type": "markdown",
   "metadata": {},
   "source": [
    "Inorganic-biological hybrid systems combine the light-harvesting efficiency of inorganic systems with established biosynthetic pathways in live cells, thus promising a sustainable and efficient biochemical synthesis platform.Comprehensive solar-to-chemical production has been investigated with bioinorganic hybrid systems, including semiconductor-conjugated hydrogenases for biohydrogen production, long-wavelength–absorbing nanomaterials integrated into plants for enhanced photosynthetic efficiency, and photoelectrodes coupled with whole cells for hydrogenation reactions as well as atmospheric $CO_2$ and $N_2$ fixation.\n",
    "\n",
    "无机-生物混合系统将无机系统的光捕获效率与活细胞中已建立的生物合成途径相结合，从而有望建立一个可持续和高效的生化合成平台。利用生物-无机混合系统研究了太阳能到化学能的综合生产，包括用于生物氢生产的半导体共轭氢化酶，整合到植物中以提高光合效率的长波长吸收纳米材料，以及与全细胞结合用于加氢反应以及大气$CO_2$和$N_2$固定的光电极。"
   ]
  },
  {
   "cell_type": "markdown",
   "metadata": {},
   "source": [
    "Microorganisms are used in biomanufacturing because of their rapid proliferation and ability to convert renewable carbon sources into highervalue chemicals through genetically programmable multistep catalysis. In the context of inorganic-biological hybrids, autotrophic bacteria have been investigated intensively, with a focus on simple organic molecules. Interfacing heterotrophic organisms with light-harvesting inorganics may provide advantages, such as increased efficiency in the production of high-value chemicals. Common heterotrophs (e.g., Saccharomyces cerevisiae) are already used widely in industrial settings because of the large catalog of target metabolites accessible through genetic manipulation tools. The well-studied biology of canonical model organisms may provide access to better genetic and analytical tools to unravel the mechanisms governing electron transport and metabolic flux in biohybrid systems.\n",
    "\n",
    "微生物用于生物制造，因为它们快速增殖并且能够通过遗传可编程多步催化将可再生碳源转化为更高价值的化学品。在无机-生物混合体系的背景下，自养细菌已被深入研究，重点是简单的有机分子。将异养生物与光捕获无机物连接可以提供诸如提高高价值化学品生产效率的优点。 常见的异养生物（例如，酿酒酵母（Saccharomyces cerevisiae））已经在工业环境中广泛使用，**因为通过遗传操作工具可获得大量目标代谢物。 经过充分研究的规范模式生物的生物学可以提供更好的遗传和分析工具，以揭示控制生物混合系统中电子传递和代谢通量的机制。**"
   ]
  },
  {
   "cell_type": "markdown",
   "metadata": {},
   "source": [
    "Of particular interest is the regeneration of the redox cofactor NADPH (reduced form of nicotinamide adenine dinucleotide phosphate), owing to its central role as a cosubstrate in biosynthetic pathways. This process is strongly intertwined with biomass production and is a common bottleneck in the production of metabolites through microbial cell factories. The primary source of NADPH in yeasts is the pentose phosphate pathway (PPP), which oxidizes a hexose sugar with concomitant loss of two equivalents of $CO_2$, decreasing theoretical carbon yields. Therefore, decoupling NADPH generation from central carbon metabolism may help maximize carbon flux for the production of desired metabolites.\n",
    "\n",
    "特别感兴趣的是氧化还原辅因子NADPH（烟酰胺腺嘌呤二核苷酸磷酸盐的还原形式）的再生，这是由于其在生物合成途径中作为共底物的中心作用。 该过程与生物质生产密切相关，并且是通过微生物细胞工厂生产代谢物的常见瓶颈。 **酵母中NADPH的主要来源是戊糖磷酸途径（PPP），其氧化己糖糖同时损失2当量的$CO_2$，降低理论碳产率。 因此，将NADPH产生与中心碳代谢解耦可以帮助最大化碳通量以产生期望的代谢物。**"
   ]
  },
  {
   "cell_type": "markdown",
   "metadata": {},
   "source": [
    "We developed a S. cerevisiae–indium phosphide (InP) hybrid system, which combines rationally designed metabolic pathways and the electron donation capabilities of illuminated semiconductors (Fig. 1 and fig. S1). InP was selected as a photosensitizer in this biohybrid system because its direct bandgap ($E_g$ = 1.34 eV) enables efficient absorption of a large fraction of the solar spectrum and is positioned appropriately to accept electrons from various species in the culture medium (fig. S2). Additionally, its stability to oxygen and biocompatibility suggest that InP is an ideal material for biological integration. InP nanoparticles were prepared independently (fig. S3) and subsequently assembled on genetically engineered yeast cells by means of a biocompatible, polyphenol-based assembly method (Fig. 1A and fig. S1). Yeast strain S. cerevisiae Dzwf1 was selected for the engineering of the biohybrid system. The deletion of the gene ZWF1, encoding the glucose-6-phosphate dehydrogenase enzyme, disrupts the oxidative portion of the PPP, causing a marked decrease in cytosolic NADPH generation capacity (Fig. 1B). We examined the integrated function of the biohybrid system to regenerate NADPH, which is essential for the biosynthesis of shikimic acid (SA), a precursor of aromatic amino acids (Fig. 1, C and D). S. cerevisiae Dzwf1 was genetically engineered to overexpress four genes to enhance carbon flux through the SA pathway (Fig. 1B). The pentafunctional protein Aro1, which catalyzes the reduction of 3-dehydroshikimic acid (DHS) to SA, is selective for NADPH, and a low availability of cytosolic NADPH directly affects the production of SA, leading to elevated accumulation of its precursor, DHS. In previous examples of biohybrid systems, light-harvesting semiconductor particles attached to the surface of bacteria were able to provide reducing equivalents to central metabolic processes. We rationalized that the S. cerevisiae Dzwf1–InP hybrid system (fig. S4) could operate similarly, with electrons flowing from the illuminated, surface-bound InP particles to the regeneration of NADPH from NADP+ (nicotinamide adenine dinucleotide phosphate) inside the cell (Fig. 1, C and D). This regenerated NADPH can fuel the ultimate conversion of DHS to SA (26). Therefore, the S. cerevisiae Dzwf1–InP hybrids both enable us to evaluate the efficiency of NADPH regeneration and lead to the enhanced biosynthesis of a highly sought-after molecule through photon energy conversion.\n",
    "\n",
    "我们开发了一种酿酒酵母-磷化铟（InP）杂交系统，它结合了合理设计的代谢途径和照明半导体的电子给予能力（图1和图S1）。**在该生物混合系统中选择InP作为光敏剂，因为其直接带隙（$E_g = 1.34eV$）能够有效吸收大部分太阳光谱，并且适当地定位以接受来自培养基中各种物种的电子（图S2）**。此外，它对氧气的稳定性和生物相容性表明InP是生物整合的理想材料。独立制备InP纳米颗粒（图S3），随后通过生物相容的，基于多酚的组装方法在基因工程酵母细胞上组装（图1A和图S1）。选择酵母菌株酿酒酵母Dzwf1用于生物杂交系统的工程改造。**编码葡萄糖-6-磷酸脱氢酶的基因ZWF1的缺失破坏了PPP的氧化部分，导致细胞溶质NADPH产生能力的显着降低（图1B）**。我们研究了生物杂交系统的整合功能，以再生NADPH，这对于芳香氨基酸前体莽草酸（SA）的生物合成至关重要（图1，C和D）。通过遗传工程改造酿酒酵母Dzwf1以过表达四种基因以增强通过SA途径的碳通量（图1B）。催化3-脱氢嘧啶酸（DHS）还原为SA的五功能蛋白Aro1对NADPH具有选择性，细胞溶质NADPH的低可用性直接影响SA的产生，导致其前体DHS的积累增加。**在生物杂交系统的先前实例中，附着于细菌表面的捕光半导体颗粒能够提供中心代谢过程的还原等价物**。我们合理地认为酿酒酵母Dzwf1-InP杂交系统（图S4）可以类似地操作，电子从照射的，表面结合的InP颗粒流动到细胞内$NADP^+$（烟酰胺腺嘌呤二核苷酸磷酸）的$NADPH$再生（图1，C和D）。这种再生的$NADPH$可以促进$DHS$最终转化为$SA$（26）。因此，酿酒酵母Dzwf1-InP杂交体使我们能够评估NADPH再生的效率，并通过光子能量转换导致高度寻求的分子的增强的生物合成。"
   ]
  },
  {
   "cell_type": "markdown",
   "metadata": {},
   "source": [
    "We designed a series of control experiments in which the presence of light and InP nanoparticles was varied (fig. S5). After 72 hours of aerobic growth, S. cerevisiae Dzwf1–InP hybrids under illumination (5.6 mW $cm^{−2}$) (fig. S6) achieved the highest DHS-to-SA conversion rate with a SA/DHS ratio of 23.5 ± 1.6 (Fig. 2A and figs. S7 to S9). In contrast, a control experiment without illumination led to a ratio of only 0.67 ± 0.3 (fig. S10). Similarly, a low SA/DHS ratio was observed in the presence of InP nanoparticles that were not assembled on the cell surface, suggesting the importance of proximity in enabling photochemical synthesis. This is in line with recent reports describing the ability of cell wall–bound components in yeasts to contribute to extracellular electron transport through electron “hopping” mechanisms. In the absence of InP, S. cerevisiae Dzwf1 also showed a lower SA/DHS ratio, regardless of illumination scheme (figs. S11 and S12). The total SA production of the illuminated biohybrid system was superior to all other conditions, with a final titer of 48.5 ± 2.1 mg l−1, showing an 11-fold increase compared with its counterpart with no illumination and a 24-fold increase compared with engineered cells in the presence of unattached InP nanoparticles (Fig. 2B). DHS-to-SA conversion yield also increased, to a point, with higher light intensities but decreased under the highest light intensity, possibly as a result of metabolic saturation or photodamage to the cells (fig. S13).\n",
    "\n",
    "我们设计了一系列对照实验，其中光和InP纳米颗粒的存在是变化的（图S5）。在有氧生长72小时后，在照射下（5.6mW $cm^{−2}$）的酿酒酵母Dzwf1-InP杂交体（图S6）获得最高的DHS-SA转化率，SA / DHS比率为23.5±1.6（图2A和图S7到S9）。相比之下，没有照明的对照实验导致比率仅为0.67±0.3（图S10）。类似地，在未在细胞表面上组装的InP纳米颗粒的存在下观察到低SA / DHS比率，表明接近在实现光化学合成中的重要性。这与最近的报道一致，该报道描述了酵母中细胞壁结合组分通过电子“跳跃”机制促进细胞外电子传递的能力。在不存在InP的情况下，无论照射方案如何，酿酒酵母Dzwf1也显示出较低的SA / DHS比（图S11和S12）。照明生物杂交系统的总SA产量优于所有其他条件，最终滴度为48.5±2.1 mg l-1，与没有照明的对应物相比增加了11倍，与之相比增加了24倍。在未附着的InP纳米颗粒存在下工程化细胞（图2B）。 DHS-SA转化率也提高到一定程度，光强度更高但在最高光强度下降低，可能是由于代谢饱和或光细胞损伤（图S13）。"
   ]
  },
  {
   "cell_type": "markdown",
   "metadata": {},
   "source": [
    "The SA/DHS ratio has previously been shown to serve as a metabolic readout for cytosolic levels of $NADPH/NADP^+$. The highest NADPH/ NADP+ ratio calculated for the illuminated biohybrid experiment reaches a value of 87.1 ± 6.0 (Fig. 2C). Notably, this value was higher than even that measured for InP-free and -integrated wild-type S. cerevisiae, which possesses the fully functional machinery to produce NADPH through the oxidative PPP (fig. S14). S. cerevisiae Dzwf1 in darkness showed the lowest NADPH/NADP+ ratios, regardless of the presence of InP. These results support the contention that irradiated, cell surface–assembled InP can drive the regeneration of cofactor NADPH, facilitating the conversion of DHS to SA. As determined from colony-forming unit (CFU) assays on nutrient-rich solid media, cell viability did not differ before and after the assembly of InP nanoparticles (Fig. 2D), confirming the biocompatibility of the particle assembly protocol. During fermentation in selective minimal media, cell count decreased for the biohybrids, regardless of the illumination scheme (see supplementary materials for additional discussion).\n",
    "\n",
    "先前已显示SA / DHS比率用作NADPH / NADP +的细胞溶质水平的代谢读数。对照明的生物杂交实验计算的最高$NADPH/NADP^+$比率达到87.1±6.0的值（图2C）。值得注意的是，这个值甚至高于无InP和整合的野生型酿酒酵母的测量值，后者拥有通过氧化PPP产生NADPH的全功能机制（图S14）。无论是否存在InP，黑暗中的酿酒酵母Dzwf1显示出最低的NADPH / NADP +比率。**这些结果支持了这样的论点：被照射的细胞表面组装的InP可以驱动辅因子NADPH的再生，促进DHS向SA的转化。如通过在营养丰富的固体培养基上的菌落形成单位（CFU）测定所确定的，细胞活力在InP纳米颗粒组装之前和之后没有差异（图2D），证实了颗粒组装方案的生物相容性。**在选择性基本培养基中发酵期间，无论照射方案如何，生物杂种的细胞计数都会降低（参见补充材料以供进一步讨论）。"
   ]
  },
  {
   "cell_type": "markdown",
   "metadata": {},
   "source": [
    "To further evaluate the metabolic performance of the biohybrid systems, we characterized their ability to consume glucose and variations in carbon flux. Glucose was fully consumed by the bare cells during the first 24 hours, whereas nearly 25% of the total initial glucose remained unused in the complete biohybrid scheme (Fig. 3A). The SA production kinetics in the S. cerevisiae Dzwf1–InP hybrids showed that the conversion of DHS to SA occurred throughout the entire illumination period (Fig. 3B), suggesting a continuous supply of NADPH and potential accumulation of biosynthetic intermediates along the SA pathway that lags behind glucose consumption (29). This finding was also supported by the consistently high mass fractions of SA (~90%). The specific SA yields of S. cerevisiae Dzwf1–InP hybrids surpassed those of the S. cerevisiae Dzwf1 and the wild-type bare cells cultured in darkness (Fig. 3C). The light-to-SA conversion efficiency reached a maximum of 1.58 ± 0.05% 12 hours after the start of fermentation and dropped as SA production plateaued (fig. S15). To unravel the variations in the central carbon metabolism caused by the illumination of InP in the biohybrids, we measured the production of secreted by-products, including ethanol and glycerol, linked to other pathways (figs. S16 and S17). Figure 3D shows that the concentration of these by-products produced by the illuminated biohybrids (CL) was lower than its counterpart under dark conditions (CD). This implies that the surface-assembled, photoexcited InP shunts carbon in S. cerevisiae Dzwf1 toward the desired SA pathway, with less activity in alternative pathways for NADPH regeneration (e.g., pathways catalyzed by aldehyde dehydrogenase) (Fig. 3E)\n",
    "\n",
    "为了进一步评估生物杂交系统的代谢性能，我们描述了它们消耗葡萄糖和碳通量变化的能力。在最初的24小时内，裸细胞完全消耗了葡萄糖，而在完整的生物混合方案中，总初始葡萄糖的近25％仍未使用（图3A）。酿酒酵母Dzwf1-InP杂种中的SA生成动力学显示DHS向SA的转化发生在整个照射期间（图3B），表明NADPH的持续供应和沿SA途径的生物合成中间体的潜在积累。落后于葡萄糖消耗（29）。 SA的一致高质量分数（~90％）也支持了这一发现。酿酒酵母Dzwf1-InP杂种的特异性SA产量超过酿酒酵母Dzwf1和在黑暗中培养的野生型裸细胞的SA产量（图3C）。在发酵开始后12小时，光 -  SA转化效率达到最大值1.58±0.05％，并且随着SA产量降低而下降（图S15）。为了解释由生物杂化物中的InP照射引起的中心碳代谢的变化，我们测量了与其他途径相关的分泌副产物（包括乙醇和甘油）的产生（图S16和S17）。图3D显示由照明的生物杂化物（CL）产生的这些副产物的浓度低于在黑暗条件（CD）下的对应物的浓度。这意味着表面组装的，光激发的InP将酿酒酵母Dzwf1中的碳分流到所需的SA途径，在NADPH再生的替代途径中具有较少的活性（例如，醛脱氢酶催化的途径）（图3E）"
   ]
  },
  {
   "cell_type": "markdown",
   "metadata": {},
   "source": [
    "Though membrane-bound hydrogenases have been invoked to explain the ability of previously reported analogous bacterial systems to make use of photogenerated electrons, S. cerevisiae is surrounded by a cell wall composed of extracellular polymeric substances that would prevent direct contact between membrane-bound proteins and the InP particles. The need for proximity between InP particles and the cells suggests that the cell wall might mediate electron transfer in our biohybrids. Differential pulse voltammetry performed on the spent medium after fermentation (Fig. 3F and fig. S18) exhibited peaks more negative of the thermodynamic potential for NADP+/NADPH [E° = −0.324 V versus normal hydrogen electrode (NHE) at pH 7]. This higher redox activity after S. cerevisiae Dzwf1 growth suggests that soluble redox-active species likely also play a role in electron transfer, as has been reported for yeastbased microbial fuel cells without exogenous mediators. The electron transfer mechanism in these S. cerevisiae Dzwf1–InP hybrids remains an active subject of investigation, as multiple possible mechanisms (e.g., soluble mediators and cell wall–bound redox mediators) could exist in our biohybrid system.\n",
    "    \n",
    "虽然已经引用膜结合氢化酶来解释先前报道的类似细菌系统利用光生电子的能力，但是酿酒酵母被细胞外聚合物物质包围的细胞壁包围，这将阻止膜结合蛋白质之间的直接接触。 InP颗粒。对InP颗粒和细胞之间接近的需求表明，细胞壁可能介导我们生物杂交体中的电子转移。在发酵后在用过的培养基上进行的差分脉冲伏安法（图3F和图S18）显示出对于NADP + / NADPH [E°= -0.324V相对于pH7的正常氢电极（NHE）]的热力学电位更负的峰值。酿酒酵母Dzwf1生长后的这种较高的氧化还原活性表明可溶性氧化还原活性物质可能也在电子转移中起作用，如已报道的没有外源介质的基于酵母的微生物燃料电池。这些酿酒酵母Dzwf1-InP杂种中的电子转移机制仍然是研究的活跃主题，因为在我们的生物杂交系统中可能存在多种可能的机制（例如，可溶性介质和细胞壁结合的氧化还原介质）。"
   ]
  },
  {
   "cell_type": "markdown",
   "metadata": {},
   "source": [
    "The development of inorganic-biological hybrid systems in yeast will enable expansion of this overall approach to the production of highervalue metabolites. For example, the production of benzylisoquinoline alkaloids, which is already established in yeast, requires the activity of more than 10 membrane-bound cytochrome P450 oxidoreductases that depend on NADPH as an electron donor. The technology presented in this work may thus elevate the production efficiency of alkaloid natural products and other drugs and nutraceuticals, though practical implementation will require the development of illumination sources that interface with scaled-up fermenters. Our synthetic scheme is highly modular, enabling a mix-and-match approach; makes use of cheap components; and is compatible with existing workhorse cellular chassis and a wide range of particle-cell combinations. A more thorough understanding of electron transport mechanisms and global changes to metabolic flux will undoubtedly facilitate design and implementation of even better biohybrid systems. These systems would make use of alternative energy sources to streamline metabolic efficiency. With an evergrowing set of genetic tools, functional nanoparticles, and cell types, modular biohybrid platforms are likely to enable efficient and economical biochemical production of valuable and challenging targets.\n",
    "\n",
    "酵母中无机 - 生物杂交系统的发展将使这种整体方法的扩展能够产生更高价值的代谢物。例如，已经在酵母中建立的苄基异喹啉生物碱的生产需要超过10种依赖于NADPH作为电子供体的膜结合细胞色素P450氧化还原酶的活性。因此，这项工作中提出的技术可以提高生物碱天然产品和其他药物和营养品的生产效率，但实际实施将需要开发与放大的发酵罐接口的照明源。我们的合成方案是高度模块化的，可实现混合搭配方式;利用廉价的零件;并且与现有的主机蜂窝底盘和各种粒子 - 细胞组合兼容。更彻底地了解电子传递机制和代谢通量的全球变化无疑将促进更好的生物混合系统的设计和实施。这些系统将利用替代能源来简化代谢效率。随着一套不断增长的遗传工具，功能性纳米粒子和细胞类型，模块化生物混合平台可能能够实现有价值和具有挑战性的目标的高效和经济的生化生产。"
   ]
  },
  {
   "cell_type": "code",
   "execution_count": 2,
   "metadata": {},
   "outputs": [
    {
     "data": {
      "text/plain": [
       "'In addition to electron transfer from photoexcited InP nanoparticles to the cell, oxidative stress induced either directly by light, or as byproducts from InP irradiation, might modulate metabolic activity through altered genetic regulation. Light has been previously shown to activate oxidative stress pathways in yeast (7). InP quantum dots of several compositions have also been shown to generate varying amounts of reactive oxygen species. Therefore, activation of oxidative stress response pathways could cause the cells to redirect flux into other pathways that generate NADPH (e.g., aldehyde dehydrogenase, Ald6). '"
      ]
     },
     "execution_count": 2,
     "metadata": {},
     "output_type": "execute_result"
    }
   ],
   "source": [
    "\"\"\"In addition to electron transfer from photoexcited InP nanoparticles to the cell,\n",
    "oxidative stress induced either directly by light, or as byproducts from InP irradiation,\n",
    "might modulate metabolic activity through altered genetic regulation. Light has been\n",
    "previously shown to activate oxidative stress pathways in yeast (7). InP quantum dots of\n",
    "several compositions have also been shown to generate varying amounts of reactive\n",
    "oxygen species. Therefore, activation of oxidative stress response pathways could cause\n",
    "the cells to redirect flux into other pathways that generate NADPH (e.g., aldehyde\n",
    "dehydrogenase, Ald6).\n",
    "\"\"\".replace(\"\\n\",\" \")"
   ]
  },
  {
   "cell_type": "markdown",
   "metadata": {},
   "source": [
    "## 视频字幕\n",
    "\n",
    "Genetically engineered microbes have long been used as living foundries for the production of drugs and fine chemicals.\n",
    "\n",
    "More recently, different laboratories have combined bacteria with semiconductor nanotechnology.\n",
    "\n",
    "When you put semiconductor nanoparticles on the surface of the microbes, they function similarly to solar panels on the surface of a house.\n",
    "\n",
    "In other words, they’re able to convert light energy into other forms of energy to boost  the biosynthetic potential of the cells.\n",
    "\n",
    "The first biological inorganic hybrids or bio hybrids focused on organisms that could convert carbon dioxide into relatively simple organic molecules that could be, for example, used as alternative energy sources.\n",
    "\n",
    "In a project led by two postdoctoral fellows in my lab, Junling Guo, who come from vastly different disciplinary backgrounds, we’ve extended this concept of   bio hybrids to baker’s yeast which is already an industrial workhouse and can be genetically manipulated relatively easily to produce a more complex range of molecules.\n",
    "\n",
    "Genetically programmed yeast are broadly used in bio manufacturing to produce high-value chemicals and medicines.\n",
    "\n",
    "A yeast cell is like a tiny factory with a highly complex system of metabolic pathways many of which are linked to each other.\n",
    "\n",
    "Engineered yeast use renewable carbon sources to generate energy and precursors for the synthesis of chemical products.\n",
    "\n",
    "Some of which are very useful for pharmaceutical and other industries.\n",
    "\n",
    "For example, the yeast metabolites, shikimic acid is a key precursor to the influenza drug, Tamiflu.\n",
    "\n",
    "The pathway that produces shikimic acid stars from the raw material, glucose, which is taken up as a carbon source into the cell, converted over several steps into 3D hydro shikimic acid or DHS, and eventually to shikimic acid.\n",
    "\n",
    "The final conversion of DHS to shikimic acid consumes the energy stored in the molecule NADPH.\n",
    "\n",
    "The energy depleted from NADP plus is recharged  by the lentos phosphate pathway and becomes NADPH agin.\n",
    "\n",
    "However, the pentose phosphate  pathway consumes glucose and divert some of the yeast carbon flow away from shikimic acid production.\n",
    "\n",
    "To enable yeast cells to funnel more of the carbon atoms from glucose towards shikimic acid production, we have genetically modified them to shut down their penthouse phosphate pathway.\n",
    "\n",
    "However, this also means that the energy carrier, NADPH,needed for shikimic acid synthesis is significantly reduced.\n",
    "\n",
    "The solve this energy crisis, our team now has enabled yeast cells to use an external light source as an alternative energy source that drives their metabolism .\n",
    "\n",
    "The system works by installing tiny solar panels in the form of inorganic nanoparticles on the yeast cell surface.\n",
    "\n",
    "The solar panel like nanoparticles are made of a semiconductor materials, indium phosphide, and coated with polyphenols which function as a glue to attach the nanoparticles to the yeast cell surface.\n",
    "\n",
    "Once attached , the nanoparticles absorb light energy and convert it into electrons that they hand over to the yeast cells which in turn use the electrons to convert NADP plus to NADPH in their cytosol, thus accumulating emery to fuel metabolic processes.\n",
    "\n",
    "In this way, the yeast cells are able to funnel more carbon atoms that they derived from glucose towards shikimic acid significantly boosting its production.\n",
    "\n",
    "Combining genetically engineered yeast with an efficient semiconductor component provides a biochemical energy to its metabolism without being toxic which has been a problem with previous bio hybrid systems.\n",
    "\n",
    "In this proof-of-concept study, we focused on shikimic acid as a product because it’s biosynthesis pathway is well understood and because it’s important synthetic precursor in the antiviral drug, Tamiflu, other medicines, nutraceuticals and several other chemicals.\n",
    "\n",
    "However, this approach also creates a scalable blueprint for future bio hybrids technologies in which the identity of the semiconductor and the engineered cell can be varied and a plug-and-play fashion, greatly expanding the range of drugs or fine chemicals that can be produced in a cost-effective by manufacturing process."
   ]
  },
  {
   "cell_type": "markdown",
   "metadata": {},
   "source": [
    "基因工程微生物长期以来被用作生产药物和精细化学品的生物铸造厂。最近，不同的实验室将细菌与半导体纳米技术结合起来。当您将半导体纳米颗粒放在微生物表面时，它们的功能类似于房屋表面的太阳能电池板。换句话说，它们能够将光能转换成其他形式的能量，以提高细胞的生物合成潜力。第一种生物无机杂化物或生物杂种聚焦于可以将二氧化碳转化为相对简单的有机分子的生物体，所述有机分子可以例如用作替代能源。在在我的实验室2名博士后研究员领导的项目，俊玲郭，谁来自完全不同的学科背景，我们已将生物杂交的概念，以面包酵母这已经是一个工业习艺，并且可以进行遗传操作相对容易地产生更复杂的分子范围。基因编程酵母广泛用于生物制造，以生产高价值化学品和药品。酵母细胞就像一个小工厂，具有高度复杂的代谢途径系统，其中许多是相互联系的。工程酵母使用可再生碳源来产生化学产品合成的能量和前体。其中一些对制药和其他行业非常有用。例如，酵母代谢物莽草酸是流感药物达菲（Tamiflu）的关键前体。从原料中产生莽草酸星的途径，即作为碳源进入细胞的葡萄糖，经过几个步骤转化为3D氢莽草酸或DHS，最终转化为莽草酸。 DHS最终转化为莽草酸消耗了分子NADPH中储存的能量。 NADP plus耗尽的能量通过磷酸葡萄糖途径补充并变成NADPH agin。然而，五偏磷酸途径消耗葡萄糖并将一些酵母碳流转移离莽草酸产生。为了使酵母细胞能够将更多碳原子从葡萄糖中转移到莽草酸生产中，我们对它们进行了遗传修饰以关闭它们的顶层磷酸盐途径。然而，这也意味着莽草酸合成所需的能量载体NADPH显着降低。为解决这一能源危机，我们的团队现在已经使酵母细胞能够使用外部光源作为驱动其新陈代谢的替代能源。该系统通过在酵母细胞表面上以无机纳米颗粒的形式安装微小的太阳能电池板来工作。类似于纳米颗粒的太阳能电池板由半导体材料，磷化铟制成，并且涂覆有多酚，所述多酚用作将纳米颗粒附着到酵母细胞表面的胶。一旦附着，纳米粒子吸收光能并将其转化为电子，然后将它们交给酵母细胞，酵母细胞依次使用电子将NADP加成其细胞质中的NADPH，从而积累金刚砂以促进代谢过程。通过这种方式，酵母细胞能够将来自葡萄糖的更多碳原子汇集到莽草酸中，从而显着提高其产量。将基因工程酵母与有效的半导体组分结合，为其代谢提供生化能量而不会产生毒性，这是以前的生物混合系统的问题。在验证的概念这项研究中，我们专注于莽草酸的产品，因为它的生物合成途径是众所周知的并且因为它是在抗病毒药物，达菲，其他药品，保健食品和其他几种化学品的重要合成前体。然而，这种方法还为未来的生物混合技术创建了可扩展的蓝图，其中半导体和工程细胞的特性可以变化，并且即插即用，大大扩展了可生产的药物或精细化学品的范围。在制造过程中具有成本效益。"
   ]
  },
  {
   "cell_type": "markdown",
   "metadata": {},
   "source": [
    "- 莽草酸代谢途径\n",
    "- 工程酵母\n",
    "- "
   ]
  },
  {
   "cell_type": "code",
   "execution_count": null,
   "metadata": {},
   "outputs": [],
   "source": []
  }
 ],
 "metadata": {
  "kernelspec": {
   "display_name": "Python 3",
   "language": "python",
   "name": "python3"
  },
  "language_info": {
   "codemirror_mode": {
    "name": "ipython",
    "version": 3
   },
   "file_extension": ".py",
   "mimetype": "text/x-python",
   "name": "python",
   "nbconvert_exporter": "python",
   "pygments_lexer": "ipython3",
   "version": "3.6.8"
  }
 },
 "nbformat": 4,
 "nbformat_minor": 2
}