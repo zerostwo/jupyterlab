{
 "cells": [
  {
   "cell_type": "code",
   "execution_count": 255,
   "metadata": {},
   "outputs": [],
   "source": [
    "import requests\n",
    "from bs4 import BeautifulSoup\n",
    "import datetime as d\n",
    "import yagmail"
   ]
  },
  {
   "cell_type": "code",
   "execution_count": 256,
   "metadata": {},
   "outputs": [],
   "source": [
    "t = d.datetime.now().strftime(\"%Y-%m-%d %H:%M\")"
   ]
  },
  {
   "cell_type": "code",
   "execution_count": 257,
   "metadata": {},
   "outputs": [],
   "source": [
    "url = \"http://jiaowu.sicau.edu.cn/web/web/web/gwmore.asp\"\n",
    "r = requests.get(url)\n",
    "r.encoding = r.apparent_encoding\n",
    "soup = BeautifulSoup(r.text)\n",
    "title = soup.find_all(\"font\", {\"color\": \"#339999\"})\n",
    "classification = soup.find_all(\"td\", {\"class\": \"welcome_style\"})\n",
    "url = soup.find_all(\"a\")"
   ]
  },
  {
   "cell_type": "code",
   "execution_count": 258,
   "metadata": {},
   "outputs": [],
   "source": [
    "infoList = []\n",
    "for i in range(int(len(classification)/6)):\n",
    "    dic = {\n",
    "        \"time\": classification[6*i+3].string,\n",
    "        \"campus\": classification[6*i+5].string,\n",
    "        \"classification\": classification[6*i+1].string,\n",
    "        \"title\": title[i].string,\n",
    "        \"url\": \"http://jiaowu.sicau.edu.cn/web/web/web/\" + url[66:][i].get(\"href\")\n",
    "    }\n",
    "    infoList.append(dic)"
   ]
  },
  {
   "cell_type": "code",
   "execution_count": 259,
   "metadata": {},
   "outputs": [],
   "source": [
    "# 读取已发送信息\n",
    "with open(\"info.txt\") as f:\n",
    "    readlines = f.readlines()\n",
    "infoLog = []\n",
    "for i in readlines:\n",
    "    infoLog.append(i.strip())\n",
    "\n",
    "# 读取发送对象\n",
    "with open(\"./users.txt\") as f:\n",
    "    users = f.readlines()\n",
    "\n",
    "# 打开日志文件    \n",
    "log = open('./auto_notice.log', \"a+\")"
   ]
  },
  {
   "cell_type": "code",
   "execution_count": 260,
   "metadata": {},
   "outputs": [],
   "source": [
    "titles = []\n",
    "urls = []\n",
    "for i in infoList:\n",
    "    if i[\"campus\"] == \"雅安\" or i[\"campus\"] == \"全校\":\n",
    "        titles.append(i[\"title\"])\n",
    "        urls.append(i[\"url\"])"
   ]
  },
  {
   "cell_type": "code",
   "execution_count": 261,
   "metadata": {},
   "outputs": [],
   "source": [
    "# 比较已发送和爬取到的信息，筛选出未发送的\n",
    "compare = [i for i in titles if i not in infoLog]"
   ]
  },
  {
   "cell_type": "code",
   "execution_count": 262,
   "metadata": {},
   "outputs": [],
   "source": [
    "# 邮件模板\n",
    "yag = yagmail.SMTP(user=\"sicauer@126.com\", password=\"981211Dd\", host='smtp.126.com')\n",
    "header = '<!DOCTYPE html><html><head><meta http-equiv=\"Content-Type\" content=\"text/html; charset=UTF-8\" /><title>教务处最新动态</title><meta name=\"viewport\" content=\"width=device-width, initial-scale=1.0\"/></head>'\n",
    "body = '<body style=\"margin: 0; padding: 0;\"><table border=\"0\" cellpadding=\"0\" cellspacing=\"0\" width=\"100%\"><tr><h2 align=\"center\">News!</h2></tr><tr>'\n",
    "main = ''\n",
    "footer = '</table><footer><p align = \"center\" style=\"text-align: center; font-size: 11px;\">&copy;2019 <a href=\"https://sicauer.com\" style=\"color: #000000;text-decoration:none;\">Sicauer</a>, All Rights Reserved</p></footer></body></html>'"
   ]
  },
  {
   "cell_type": "code",
   "execution_count": 263,
   "metadata": {},
   "outputs": [
    {
     "name": "stdout",
     "output_type": "stream",
     "text": [
      "2019-11-29 20:37 添加成功 关于2020届毕业生课程自修考试报名的通知\n",
      "2019-11-29 20:37 添加成功 关于2019年电子设计竞赛决赛评审的通知\n",
      "2019-11-29 20:37 添加成功 关于2019级新生购买火车票优惠卡的通知\n",
      "2019-11-29 20:37 添加成功 关于2020年本科生科研兴趣培养计划项目申报工作的通知\n",
      "2019-11-29 20:37 添加成功 2018级转专业名单公示\n",
      "2019-11-29 20:37 添加成功 关于调整2020届毕业生课程自修考试时间的通知\n",
      "2019-11-29 20:37 添加成功 关于2017-2019届结业生查询返校考试安排的通知\n",
      "2019-11-29 20:37 添加成功 关于2020届毕业生查询期中考试安排的通知\n",
      "2019-11-29 20:37 添加成功 关于2021届本科毕业论文（设计）工作的通知\n",
      "2019-11-29 20:37 添加成功 “金课”建设专题报告\n",
      "2019-11-29 20:37 添加成功 第八届化学实验技能大赛决赛答辩的通知\n",
      "2019-11-29 20:37 添加成功 关于2020届毕业班2019-2020-1学期教材领用核实通知\n",
      "2019-11-29 20:37 添加成功 关于开展2018级本科生转专业工作的通知\n",
      "2019-11-29 20:37 添加成功 关于2017-2019届结业生返校考试安排的通知\n",
      "2019-11-29 20:37 添加成功 关于举办第五届ACM编程大赛竞赛的通知\n",
      "2019-11-29 20:37 添加成功 关于举办2019年草业科学专业综合实践技能大赛的通知\n",
      "2019-11-29 20:37 添加成功 关于举办第三届教育技术学影视创作大赛的通知\n",
      "2019-11-29 20:37 添加成功 关于2019级新生登录学信网进行学籍自查的通知\n",
      "2019-11-29 20:37 添加成功 关于举办第五届“首席经济分析师模拟大赛”的通知\n",
      "2019-11-29 20:37 添加成功 关于举办第八届OFFICE应用技能竞赛的通知\n",
      "2019-11-29 20:37 添加成功 关于组织开展第二批农业农村部“十三五”规划教材申报作的通知\n",
      "2019-11-29 20:37 添加成功 关于公布2019年省级虚拟仿真实验教学项目名单的通知\n",
      "2019-11-29 20:37 添加成功 关于举办 “职等你来”模拟求职竞聘大赛复赛的通知\n",
      "2019-11-29 20:37 添加成功 第八届化学实验技能大赛实验操作竞赛安排的通知\n",
      "2019-11-29 20:37 添加成功 关于举办“劲浪体育杯”消费者行为分析及实验设计大赛的通知\n",
      "2019-11-29 20:37 添加成功 关于申报2019年本科教育教学改革项目的通知\n",
      "2019-11-29 20:37 添加成功 第十届全国大学生电子商务“创新、创意、创业”挑战赛\n",
      "2019-11-29 20:37 添加成功 关于“金土地杯”第三届乡村国土空间规划设计大赛通知\n",
      "2019-11-29 20:37 添加成功 关于公布2019年秋季科研兴趣培养计划结题项目的通知\n",
      "2019-11-29 20:37 添加成功 关于举办第三届文创项目策划大赛的通知\n",
      "2019-11-29 20:37 添加成功 关于开展2019年本科教材专项建设立项工作的通知\n",
      "2019-11-29 20:37 添加成功 关于防止手机诈骗信息的公告\n",
      "2019-11-29 20:37 添加成功 关于2019年食品制作专业技能大赛的通知\n",
      "2019-11-29 20:37 添加成功 关于2019年秋季创新训练计划项目结题工作通知\n",
      "2019-11-29 20:37 添加成功 普通话水平测试安排通知\n",
      "2019-11-29 20:37 添加成功 关于举办第五届“职等你来”模拟求职竞聘大赛的通知\n",
      "2019-11-29 20:37 添加成功 关于“金品杯”第五届无土栽培盆景制作创意大赛的通知\n",
      "2019-11-29 20:37 添加成功 关于公布2019年国家级大学生创新训练计划项目名单的通知\n",
      "2019-11-29 20:37 添加成功 关于举办第九届“中公杯”行政综合能力测试大赛的通知\n",
      "2019-11-29 20:37 添加成功 关于2018-2019-2学期赴美带薪实习补（缓）考安排的通知\n",
      "2019-11-29 20:37 添加成功 关于举办四川农业大学第五届物联网应用创新大赛的通知\n",
      "2019-11-29 20:37 添加成功 关于对成都校区2018级学生进行《国家学生体质健康标准》测试及2016级补测具体时间、地点安排的通知\n",
      "2019-11-29 20:37 添加成功 关于举办第九届电子制作技能竞赛的通知\n",
      "2019-11-29 20:37 添加成功 关于举办第八届化学实验技能大赛的通知\n",
      "2019-11-29 20:37 添加成功 普通话水平测试报名通知\n",
      "2019-11-29 20:37 发送成功\n"
     ]
    }
   ],
   "source": [
    "notice = []\n",
    "if len(compare) == 0:\n",
    "    print(t, \"无最新消息\", file = log)\n",
    "else:\n",
    "    info_file = open(\"info.txt\", \"a+\")\n",
    "    for i in range(len(compare)):\n",
    "        print(compare[i], file = info_file)\n",
    "        for j in infoList:\n",
    "            if j[\"title\"] == compare[i]:\n",
    "                url = j[\"url\"]\n",
    "        notice = str(i+1) + '. ' \"<a href = '\" + url + \"' style='text-decorati on:none;'>\" + compare[i] + \"</a>\"\n",
    "        main += '<tr><p align=\"center\">' + notice + '</p></tr>'\n",
    "        print(t, \"添加成功\", compare[i], file=log)\n",
    "        print(t, \"添加成功\", compare[i])\n",
    "    try:\n",
    "        con = header + body + '<h4 align=\"center\">' + t + '</h4></tr>' + main + footer\n",
    "        for i in users:\n",
    "            yag.send(to=i, subject='教务处最新动态', contents=con)\n",
    "            print(t, \"发送成功\", file=log)\n",
    "            print(t, \"发送成功\")\n",
    "    except:\n",
    "        print(t, \"发送失败\", file=log)\n",
    "        print(t, \"发送失败\")\n",
    "    info_file.close()"
   ]
  },
  {
   "cell_type": "code",
   "execution_count": null,
   "metadata": {},
   "outputs": [],
   "source": []
  }
 ],
 "metadata": {
  "kernelspec": {
   "display_name": "Python 3",
   "language": "python",
   "name": "python3"
  },
  "language_info": {
   "codemirror_mode": {
    "name": "ipython",
    "version": 3
   },
   "file_extension": ".py",
   "mimetype": "text/x-python",
   "name": "python",
   "nbconvert_exporter": "python",
   "pygments_lexer": "ipython3",
   "version": "3.6.8"
  }
 },
 "nbformat": 4,
 "nbformat_minor": 2
}
