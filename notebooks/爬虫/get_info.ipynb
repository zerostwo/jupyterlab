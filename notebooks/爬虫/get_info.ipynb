{
 "cells": [
  {
   "cell_type": "code",
   "execution_count": 108,
   "metadata": {},
   "outputs": [
    {
     "name": "stdout",
     "output_type": "stream",
     "text": [
      "2019-04-17 00:17 发送成功\n"
     ]
    }
   ],
   "source": [
    "import requests\n",
    "from bs4 import BeautifulSoup\n",
    "import yagmail\n",
    "import datetime as d\n",
    "\n",
    "\n",
    "def notification(url, r):\n",
    "    session = requests.Session()\n",
    "    data = session.get(url)\n",
    "    data.encoding = data.apparent_encoding\n",
    "    soup = BeautifulSoup(data.text)\n",
    "    \n",
    "            \n",
    "    try:\n",
    "        log = open('./notice/auto_notice.log', \"a+\")\n",
    "        t = d.datetime.now().strftime(\"%Y-%m-%d %H:%M\")\n",
    "        yag = yagmail.SMTP(user=\"zerostwo@126.com\", password=\"981211Dd\", host='smtp.126.com')\n",
    "        a = '<!DOCTYPE html><html><head><meta http-equiv=\"Content-Type\" content=\"text/html; charset=UTF-8\" /><title>本科教学管理通知</title><meta name=\"viewport\" content=\"width=device-width, initial-scale=1.0\"/></head>'\n",
    "        b = '<body style=\"margin: 0; padding: 0;\"><table border=\"0\" cellpadding=\"0\" cellspacing=\"0\" width=\"100%\"><tr><h2 align=\"center\">News!</h2></tr><tr>'\n",
    "        c = ''\n",
    "        dd = '</table><footer><h5 align = \"center\"><b>&copy;2019 <a href=\"https://sicauer.com\" style=\"color: #000000;\">Sicauer</a></b></h5></footer></body></html>'\n",
    "        # 获取教务网上的信息\n",
    "        notice_set = []\n",
    "        notice_url = []\n",
    "        for i in soup.find_all(\"a\"):\n",
    "            if i.get(\"title\") is not None and i.get(\"href\")[:8] == \"../info/\":\n",
    "                spxy_url = \"http://spxy.sicau.edu.cn\"\n",
    "                notice_set.append(i.get(\"title\"))\n",
    "                notice_url.append(spxy_url + i.get(\"href\")[2:])\n",
    "        # 获取本地上的信息\n",
    "        info_set = []\n",
    "        info_file = open('./notice/info.txt')\n",
    "        while True:\n",
    "            line = info_file.readline()\n",
    "            if line:\n",
    "                info_set.append(line[:-1])\n",
    "            else:\n",
    "                break\n",
    "        info_file.close()\n",
    "        # 比较教务网上和本科信息的差别\n",
    "        compare = [i for i in notice_set if i not in info_set]\n",
    "        # 判断\n",
    "        if len(compare) == 0:\n",
    "            print(t, \"无最新消息\", file=log)\n",
    "            print(t, \"无最新消息\")\n",
    "        else:\n",
    "            info_file = open('./notice/info.txt', \"a+\")\n",
    "            for i in range(0, len(compare)):\n",
    "                print(compare[i], file=info_file)\n",
    "                notice = str(i+1) + '. ' \"<a href = '\" + notice_url[i] + \"' style='text-decoration:none;'>\" + compare[i] + \"</a>\"\n",
    "                # notice = date_set[i] + compare[i]\n",
    "                # contents.append(notice)\n",
    "                c += '<tr><p align=\"center\">' + notice + '</p></tr>'\n",
    "                print(t, \"添加成功\", compare[i], file=log)\n",
    "            try:\n",
    "                # html = '<p align = \"center\">Copyright 2019 <a href=\"https://zerostwo.github.io\">Zerostwo</a></p>'\n",
    "                # contents.append(html)\n",
    "                con = a + b + '<h4 align=\"center\">' + t + '</h4></tr>' + c + dd\n",
    "#                 print(con)\n",
    "                for i in r:\n",
    "                    yag.send(to=i, subject='本科教学管理通知', contents=con)\n",
    "                print(t, \"发送成功\", file=log)\n",
    "                print(t, \"发送成功\")\n",
    "            except:\n",
    "                print(t, \"发送失败\", file=log)\n",
    "                print(t, \"发送失败\")\n",
    "            info_file.close()\n",
    "\n",
    "    except:\n",
    "        print(t, '出错', file=log)\n",
    "        print(t, '出错')\n",
    "    log.close()\n",
    "\n",
    "# 通知公告\n",
    "# url = \"http://spxy.sicau.edu.cn/xwjtz/tzgg.htm\"\n",
    "# 本科教学管理\n",
    "url = \"http://spxy.sicau.edu.cn/bkjxgl/rcgl.htm\"\n",
    "r = []\n",
    "user_file = open('./notice/user.txt')\n",
    "while True:\n",
    "    line = user_file.readline()\n",
    "    if line:\n",
    "        r.append(line[:-1])\n",
    "    else:\n",
    "        break\n",
    "user_file.close()\n",
    "notification(url, r)"
   ]
  },
  {
   "cell_type": "code",
   "execution_count": 89,
   "metadata": {},
   "outputs": [
    {
     "name": "stdout",
     "output_type": "stream",
     "text": [
      "2019-04-16 23:55 无最新消息\n"
     ]
    }
   ],
   "source": [
    "import requests\n",
    "import re\n",
    "from lxml import etree\n",
    "import yagmail\n",
    "import datetime as d\n",
    "\n",
    "def log_sicau(id, pwd, r):\n",
    "    session = requests.Session()\n",
    "    index = session.get('http://jiaowu.sicau.edu.cn/web/web/web/index.asp', timeout=2)\n",
    "    index.encoding = 'gb2312'\n",
    "    seletor=etree.HTML(index.text)\n",
    "    sign = seletor.xpath(\"//input[@name='sign']/@value\")\n",
    "    data = {\n",
    "        'user': id,\n",
    "        'pwd': pwd,\n",
    "        'lb': 'S',\n",
    "        'submit': '',\n",
    "        'sign': sign\n",
    "    }\n",
    "    try:\n",
    "        post_url = 'http://jiaowu.sicau.edu.cn/jiaoshi/bangong/check.asp'\n",
    "        session.post(post_url, data=data, timeout=2)\n",
    "        data = session.get('http://jiaowu.sicau.edu.cn/xuesheng/bangong/main/index1.asp', timeout=2)\n",
    "        data.encoding = 'gb2312'\n",
    "        log = open('./notice/auto_notice.log', \"a+\")\n",
    "        t = d.datetime.now().strftime(\"%Y-%m-%d %H:%M\")\n",
    "        yag = yagmail.SMTP(user=\"zerostwo@126.com\", password=\"981211Dd\", host='smtp.126.com')\n",
    "        # contents = ['<h3 align=\"center\">News!</h3>']\n",
    "        a = '<!DOCTYPE html><html><head><meta http-equiv=\"Content-Type\" content=\"text/html; charset=UTF-8\" /><title>教务处最新动态</title><meta name=\"viewport\" content=\"width=device-width, initial-scale=1.0\"/></head>'\n",
    "        b = '<body style=\"margin: 0; padding: 0;\"><table border=\"0\" cellpadding=\"0\" cellspacing=\"0\" width=\"100%\"><tr><h2 align=\"center\">News!</h2></tr><tr>'\n",
    "        c = ''\n",
    "        dd = '</table><footer><h5 align = \"center\"><b>&copy;2019 <a href=\"https://sicauer.com\" style=\"color: #000000;\">Sicauer</a></b></h5></footer></body></html>'\n",
    "        # 获取教务网上的信息\n",
    "        notice_set = re.compile('<font color=#339999>(.*)</font></a>').findall(data.text)\n",
    "        # date_set = re.compile('class=\"bluetext\">\\((.*)\\)<').findall(data.text)\n",
    "        notice_url = re.compile('href=\"(.*)\"><font color=#339999>').findall(data.text)\n",
    "        # 获取本地上的信息\n",
    "        info_set = []\n",
    "        info_file = open('./notice/info.txt')\n",
    "        while True:\n",
    "            line = info_file.readline()\n",
    "            if line:\n",
    "                info_set.append(line[:-1])\n",
    "            else:\n",
    "                break\n",
    "        info_file.close()\n",
    "        # 比较教务网上和本科信息的差别\n",
    "        compare = [i for i in notice_set if i not in info_set]\n",
    "        # 判断\n",
    "        if len(compare) == 0:\n",
    "            print(t, \"无最新消息\", file=log)\n",
    "            print(t, \"无最新消息\")\n",
    "        else:\n",
    "            info_file = open('./notice/info.txt', \"a+\")\n",
    "            for i in range(0, len(compare)):\n",
    "                print(compare[i], file=info_file)\n",
    "                notice = str(i+1) + '. ' \"<a href = 'http://jiaowu.sicau.edu.cn/xuesheng/bangong/main/\" + notice_url[i] + \"' style='text-decoration:none;'>\" + compare[i] + \"</a>\"\n",
    "                # notice = date_set[i] + compare[i]\n",
    "                # contents.append(notice)\n",
    "                c += '<tr><p align=\"center\">' + notice + '</p></tr>'\n",
    "                print(t, \"添加成功\", compare[i], file=log)\n",
    "            try:\n",
    "                # html = '<p align = \"center\">Copyright 2018 <a href=\"https://zerostwo.github.io\">Zerostwo</a></p>'\n",
    "                # contents.append(html)\n",
    "                con = a + b + '<h4 align=\"center\">' + t + '</h4></tr>' + c + dd\n",
    "                # print(con)\n",
    "                for i in r:\n",
    "                    yag.send(to=i, subject='教务处最新动态', contents=con)\n",
    "                print(t, \"发送成功\", file=log)\n",
    "                print(t, \"发送成功\")\n",
    "            except:\n",
    "                print(t, \"发送失败\", file=log)\n",
    "                print(t, \"发送失败\")\n",
    "            info_file.close()\n",
    "\n",
    "    except:\n",
    "        print(t, '出错', file=log)\n",
    "        print(t, '出错')\n",
    "    log.close()\n",
    "\n",
    "r = []\n",
    "user_file = open('./notice/user.txt')\n",
    "while True:\n",
    "    line = user_file.readline()\n",
    "    if line:\n",
    "        r.append(line[:-1])\n",
    "    else:\n",
    "        break\n",
    "user_file.close()\n",
    "# print(r)\n",
    "id = '201702420'\n",
    "pwd = '981211'\n",
    "log_sicau(id, pwd, r)"
   ]
  },
  {
   "cell_type": "code",
   "execution_count": 93,
   "metadata": {},
   "outputs": [],
   "source": [
    "def notification(url):\n",
    "    session = requests.Session()\n",
    "    data = session.get(url)\n",
    "    data.encoding = data.apparent_encoding\n",
    "    soup = BeautifulSoup(data.text)\n",
    "    # 获取通知时间和通知标题\n",
    "    time_set = []\n",
    "    for i in range(12):\n",
    "        r = \"line_u4_\" + str(i)\n",
    "        a = soup.find(\"li\",{\"id\":r})\n",
    "        text = a.text\n",
    "        time_set.append([text[:10], text[10:]])\n",
    "    # 获取通知链接和通知标题\n",
    "    href_set = []\n",
    "    for i in soup.find_all(\"a\"):\n",
    "        if i.get(\"title\") is not None and i.get(\"href\")[:8] == \"../info/\":\n",
    "            spxy_url = \"http://spxy.sicau.edu.cn\"\n",
    "            href_set.append([spxy_url + i.get(\"href\")[2:], i.get(\"title\")])\n",
    "    for i in range(len(time_set)):\n",
    "        if time_set[i][1] == href_set[i][1]:\n",
    "            print(time_set[i][0], time_set[i][1], href_set[i][0])"
   ]
  },
  {
   "cell_type": "code",
   "execution_count": 15,
   "metadata": {},
   "outputs": [],
   "source": [
    "import requests"
   ]
  },
  {
   "cell_type": "code",
   "execution_count": 16,
   "metadata": {},
   "outputs": [],
   "source": [
    "url = \"https://spxy.sicau.edu.cn/bkjxgl/rcgl.htm\""
   ]
  },
  {
   "cell_type": "code",
   "execution_count": 17,
   "metadata": {},
   "outputs": [],
   "source": [
    "header = {\n",
    "    \"User-Agent\": \"Mozilla/5.0 (Windows NT 10.0; Win64; x64) AppleWebKit/537.36 (KHTML, like Gecko) Chrome/73.0.3683.75 Safari/537.36\"\n",
    "}"
   ]
  },
  {
   "cell_type": "code",
   "execution_count": 19,
   "metadata": {},
   "outputs": [],
   "source": [
    "session = requests.Session()"
   ]
  },
  {
   "cell_type": "code",
   "execution_count": 26,
   "metadata": {},
   "outputs": [
    {
     "name": "stderr",
     "output_type": "stream",
     "text": [
      "/root/anaconda3/lib/python3.6/site-packages/urllib3/connectionpool.py:847: InsecureRequestWarning: Unverified HTTPS request is being made. Adding certificate verification is strongly advised. See: https://urllib3.readthedocs.io/en/latest/advanced-usage.html#ssl-warnings\n",
      "  InsecureRequestWarning)\n"
     ]
    }
   ],
   "source": []
  },
  {
   "cell_type": "code",
   "execution_count": 27,
   "metadata": {},
   "outputs": [],
   "source": [
    "import ssl\n",
    "ssl._create_default_https_context = ssl._create_unverified_context"
   ]
  },
  {
   "cell_type": "code",
   "execution_count": 29,
   "metadata": {},
   "outputs": [
    {
     "name": "stderr",
     "output_type": "stream",
     "text": [
      "/root/anaconda3/lib/python3.6/site-packages/urllib3/connectionpool.py:847: InsecureRequestWarning: Unverified HTTPS request is being made. Adding certificate verification is strongly advised. See: https://urllib3.readthedocs.io/en/latest/advanced-usage.html#ssl-warnings\n",
      "  InsecureRequestWarning)\n"
     ]
    }
   ],
   "source": [
    "r = session.get(url)"
   ]
  },
  {
   "cell_type": "code",
   "execution_count": null,
   "metadata": {},
   "outputs": [],
   "source": []
  }
 ],
 "metadata": {
  "jupytext": {
   "formats": "ipynb,py:light"
  },
  "kernelspec": {
   "display_name": "Python 3",
   "language": "python",
   "name": "python3"
  },
  "language_info": {
   "codemirror_mode": {
    "name": "ipython",
    "version": 3
   },
   "file_extension": ".py",
   "mimetype": "text/x-python",
   "name": "python",
   "nbconvert_exporter": "python",
   "pygments_lexer": "ipython3",
   "version": "3.6.8"
  }
 },
 "nbformat": 4,
 "nbformat_minor": 2
}
