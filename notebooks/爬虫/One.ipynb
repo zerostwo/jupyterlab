{
 "cells": [
  {
   "cell_type": "code",
   "execution_count": 1,
   "metadata": {},
   "outputs": [],
   "source": [
    "import requests\n",
    "from bs4 import BeautifulSoup\n",
    "import pandas as pd\n",
    "import os"
   ]
  },
  {
   "cell_type": "code",
   "execution_count": 112,
   "metadata": {},
   "outputs": [],
   "source": [
    "def one(num, df):\n",
    "    url = \"http://wufazhuce.com/one/{num}\".format(num=num)\n",
    "    r = requests.get(url)\n",
    "    soup = BeautifulSoup(r.text)\n",
    "    oneCita = soup.find_all(\"div\", {\"class\": \"one-cita\"})[0].string.strip()\n",
    "    day = soup.find_all(\"p\", {\"class\": \"dom\"})[0].string\n",
    "    yearAndMonth = soup.find_all(\"p\", {\"class\": \"may\"})\n",
    "    monthConver = {\n",
    "        \"Jan\": \"1\",\n",
    "        \"Feb\": \"2\",\n",
    "        \"Mar\": \"3\",\n",
    "        \"Apr\": \"4\",\n",
    "        \"May\": \"5\",\n",
    "        \"Jun\": \"6\",\n",
    "        \"Jul\": \"7\",\n",
    "        \"Aug\": \"8\",\n",
    "        \"Sep\": \"9\",\n",
    "        \"Oct\": \"10\",\n",
    "        \"Nov\": \"11\",\n",
    "        \"Dec\": \"12\"\n",
    "    }\n",
    "    month = monthConver[yearAndMonth[0].string.split()[0]]\n",
    "    year = yearAndMonth[0].string.split()[1]\n",
    "    oneImage = soup.find_all(\"div\", {\"class\": \"one-imagen\"})\n",
    "    oneImageUrl = oneImage[0].img.get('src')\n",
    "    df.loc[num] = [\n",
    "        year,\n",
    "        month,\n",
    "        day,\n",
    "        oneCita,\n",
    "        oneImageUrl\n",
    "    ]\n",
    "    # 保存图片\n",
    "    path = os.getcwd()\n",
    "    img = requests.get(oneImageUrl)\n",
    "    with open(path + \"/oneImage/\" + oneCita + \".jpg\", 'wb') as f:\n",
    "        f.write(img.content)\n",
    "    return df"
   ]
  },
  {
   "cell_type": "code",
   "execution_count": 113,
   "metadata": {},
   "outputs": [],
   "source": [
    "# 初to_excelame\n",
    "df = pd.DataFrame(columns=(\n",
    "    \"year\",\n",
    "    \"month\",\n",
    "    \"day\",\n",
    "    \"oneCita\",\n",
    "    \"oneImageUrl\"\n",
    "))"
   ]
  },
  {
   "cell_type": "code",
   "execution_count": 114,
   "metadata": {},
   "outputs": [],
   "source": [
    "# 截至2020年03月01日编号为2734\n",
    "for num in range(1, 2743):\n",
    "    try:\n",
    "        one(num, df)\n",
    "    except:\n",
    "        pass"
   ]
  },
  {
   "cell_type": "code",
   "execution_count": null,
   "metadata": {},
   "outputs": [],
   "source": [
    "# 保存为excel\n",
    "df.to_excel(\"./one.xlsx\")"
   ]
  }
 ],
 "metadata": {
  "kernelspec": {
   "display_name": "Python 3",
   "language": "python",
   "name": "python3"
  },
  "language_info": {
   "codemirror_mode": {
    "name": "ipython",
    "version": 3
   },
   "file_extension": ".py",
   "mimetype": "text/x-python",
   "name": "python",
   "nbconvert_exporter": "python",
   "pygments_lexer": "ipython3",
   "version": "3.7.4"
  }
 },
 "nbformat": 4,
 "nbformat_minor": 4
}
