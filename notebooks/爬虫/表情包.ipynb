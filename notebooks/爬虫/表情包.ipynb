{
 "cells": [
  {
   "cell_type": "code",
   "execution_count": 55,
   "metadata": {},
   "outputs": [],
   "source": [
    "import requests\n",
    "from bs4 import BeautifulSoup\n",
    "import os"
   ]
  },
  {
   "cell_type": "code",
   "execution_count": 56,
   "metadata": {},
   "outputs": [],
   "source": [
    "#url = \"https://www.fabiaoqing.com/search/search/keyword/{keyword}\"\n",
    "#text = \"duan\"\n",
    "#r = requests.get(url.format(keyword=text))"
   ]
  },
  {
   "cell_type": "code",
   "execution_count": 78,
   "metadata": {},
   "outputs": [],
   "source": [
    "url =\"https://fabiaoqing.com/biaoqing/detail/id/11469.html\"\n",
    "r = requests.get(url)"
   ]
  },
  {
   "cell_type": "code",
   "execution_count": 79,
   "metadata": {},
   "outputs": [],
   "source": [
    "soup = BeautifulSoup(r.text, \"lxml\")"
   ]
  },
  {
   "cell_type": "code",
   "execution_count": 80,
   "metadata": {},
   "outputs": [],
   "source": [
    "img_list = soup.find_all('img', class_=\"ui image lazy\")"
   ]
  },
  {
   "cell_type": "code",
   "execution_count": 81,
   "metadata": {},
   "outputs": [],
   "source": [
    "path = os.getcwd()"
   ]
  },
  {
   "cell_type": "code",
   "execution_count": 82,
   "metadata": {},
   "outputs": [
    {
     "name": "stdout",
     "output_type": "stream",
     "text": [
      "http://ww3.sinaimg.cn/bmiddle/9150e4e5gy1gb4ja275raj20c50b7glv.jpg\n",
      "http://wx2.sinaimg.cn/bmiddle/006GJQvhly1gawzr3bs8ej30he0gvq5d.jpg\n",
      "http://wx4.sinaimg.cn/bmiddle/006GJQvhly1gawzm7u0g8j318g18gq8v.jpg\n",
      "http://wx3.sinaimg.cn/bmiddle/006APoFYly1ga84m6pab6g307b06y19f.gif\n",
      "http://wx1.sinaimg.cn/bmiddle/78b88159ly1gay4sc5ugwg206o06oter.gif\n",
      "http://wx3.sinaimg.cn/bmiddle/006APoFYly1gaaa3yjp2kg308u0b41l0.gif\n",
      "http://wx4.sinaimg.cn/bmiddle/ceeb653ely1gauquruh54j20j60j6aah.jpg\n",
      "http://wx3.sinaimg.cn/bmiddle/ceeb653ely1gauqqny5spj20qo0hn3zv.jpg\n",
      "http://ww4.sinaimg.cn/bmiddle/9150e4e5gy1gayftafrcgj206o06oq2v.jpg\n",
      "http://wx3.sinaimg.cn/bmiddle/b64da6adly1gausuxb5o9j20hq0hq74r.jpg\n",
      "http://wx3.sinaimg.cn/bmiddle/b64da6adly1gausuxdwguj20j60j676q.jpg\n",
      "http://wx3.sinaimg.cn/bmiddle/78b88159gy1gatulp4qe9g209i09gadc.gif\n",
      "http://ww3.sinaimg.cn/bmiddle/9150e4e5gy1gaxs5y9vf3j20ez0br0t0.jpg\n",
      "http://wx1.sinaimg.cn/bmiddle/006m97Kgly1gatuuaa5z3j30k00k076r.jpg\n",
      "http://wx2.sinaimg.cn/bmiddle/415f82b9ly1gau2fmbba7j20fz08i3zi.jpg\n",
      "http://wx4.sinaimg.cn/bmiddle/006APoFYly1g99htbpmnjg30dc0dcwje.gif\n",
      "http://ww3.sinaimg.cn/bmiddle/9150e4e5gy1gawjg0nu3oj205i05i3yd.jpg\n",
      "http://wx4.sinaimg.cn/bmiddle/005J4OU5ly1gayo31h0dvj30ht0ht0sv.jpg\n",
      "http://ww2.sinaimg.cn/bmiddle/9150e4e5gy1gaxt9qhzghj20u00u0t9v.jpg\n",
      "http://wx4.sinaimg.cn/bmiddle/006qOO1Xly1gawevc2088g300o00oq2r.gif\n",
      "http://wx3.sinaimg.cn/bmiddle/b64da6adly1gatl543052g206i06iqls.gif\n",
      "http://wx4.sinaimg.cn/bmiddle/006GJQvhly1galgis3yidj30lv0lx43n.jpg\n",
      "http://wx1.sinaimg.cn/bmiddle/005J4OU5ly1gawg7d1i40j30c80ckq4s.jpg\n",
      "http://ww1.sinaimg.cn/bmiddle/9150e4e5gy1g7o638etnpj20tt0o4q46.jpg\n",
      "http://wx1.sinaimg.cn/bmiddle/006rPqrTgy1gayfrdviysj30y50l0gns.jpg\n",
      "http://ww1.sinaimg.cn/bmiddle/9150e4e5gy1gavemqeb0fj204g03ddfo.jpg\n",
      "http://wx3.sinaimg.cn/bmiddle/005J4OU5ly1gayep3mzsmj30n00n0aeh.jpg\n",
      "http://ww1.sinaimg.cn/bmiddle/9150e4e5gy1gaxyewl7mrj20zk0zqgnn.jpg\n",
      "http://wx4.sinaimg.cn/bmiddle/006m97Kgly1gay9f1wcg0j30go0gjdim.jpg\n",
      "http://wx2.sinaimg.cn/bmiddle/005J4OU5ly1gayo31pj5uj30t50rt75f.jpg\n",
      "http://ww3.sinaimg.cn/bmiddle/9150e4e5gy1gawpqik4a2j205i05imxa.jpg\n",
      "http://ww2.sinaimg.cn/bmiddle/9150e4e5gy1gawgw75i0hj206o043t9c.jpg\n",
      "http://wx3.sinaimg.cn/bmiddle/007uilLnly1gavw875vesg307i07i4qp.gif\n",
      "http://wx4.sinaimg.cn/bmiddle/006m97Kgly1gatuu9fh0qj30hs0h9go1.jpg\n",
      "http://wx2.sinaimg.cn/bmiddle/ceeb653ely1g8e7po4fqkj20hs0h5jt3.jpg\n",
      "http://wx3.sinaimg.cn/bmiddle/006APoFYly1g8e15gg25dj30hs0e5q58.jpg\n",
      "http://wx4.sinaimg.cn/bmiddle/006APoFYly1g7u255fz6pg30dc0aywfm.gif\n",
      "http://wx1.sinaimg.cn/bmiddle/006APoFYly1g68tiftpbmg30bh0bh4o5.gif\n",
      "http://wx2.sinaimg.cn/bmiddle/007P96ihly1gaz9iuqjedj30c80c8mzh.jpg\n",
      "http://wx1.sinaimg.cn/bmiddle/c36bc670gy1gaepzopplkj20sg0x77rx.jpg\n",
      "http://wx3.sinaimg.cn/bmiddle/006GJQvhly1g7qk0w0kyrg307e07e1hs.gif\n",
      "http://wx4.sinaimg.cn/bmiddle/006APoFYly1g7npcv3btmg30b406ou0x.gif\n",
      "http://ww1.sinaimg.cn/bmiddle/9150e4e5gy1g7fzv0maiij20hw0ee0xl.jpg\n",
      "http://ww3.sinaimg.cn/bmiddle/9150e4e5gy1gayw48vn8oj20kq0kq753.jpg\n",
      "http://wx1.sinaimg.cn/bmiddle/006I1bcHly1gawah8v5m4j30kt0jzdh1.jpg\n"
     ]
    }
   ],
   "source": [
    "for img in img_list:\n",
    "    image = img.get('data-original')\n",
    "    title = img.get('title')\n",
    "    print(image)\n",
    "    try:\n",
    "        with open(path + \"/data/\" + title + os.path.splitext(image)[-1], 'wb') as f:\n",
    "            img = requests.get(image).content\n",
    "            f.write(img)\n",
    "    except:\n",
    "        print(\"Wrong\", image)"
   ]
  },
  {
   "cell_type": "code",
   "execution_count": 65,
   "metadata": {},
   "outputs": [
    {
     "data": {
      "text/plain": [
       "[<img alt=\"狗日的，这逼装的我都差点为你转身了！_逼装_狗日_差点表情\" class=\"ui image lazy\" data-original=\"http://ww2.sinaimg.cn/bmiddle/6af89bc8gw1f8r20qd68qj20d40hf75o.jpg\" style=\"max-height: 188;margin: 0 auto\" title=\"狗日的，这逼装的我都差点为你转身了！_逼装_狗日_差点表情\"/>,\n",
       " <img alt=\"别拦我，我要炸了这畜生_别拦_我要_畜生表情\" class=\"ui image lazy\" data-original=\"http://ww4.sinaimg.cn/bmiddle/6af89bc8gw1f8r20ri64jj205e04vt8j.jpg\" style=\"max-height: 188;margin: 0 auto\" title=\"别拦我，我要炸了这畜生_别拦_我要_畜生表情\"/>,\n",
       " <img alt=\"楼上这个男的非常开放，搞基请联系他_基请_楼上_开放表情\" class=\"ui image lazy\" data-original=\"http://ww4.sinaimg.cn/bmiddle/6af89bc8gw1f8r21fmu6yj205f05hglh.jpg\" style=\"max-height: 188;margin: 0 auto\" title=\"楼上这个男的非常开放，搞基请联系他_基请_楼上_开放表情\"/>,\n",
       " <img alt=\"勿以逼小而装之，勿以屎少而不食。_不食表情\" class=\"ui image lazy\" data-original=\"http://ww2.sinaimg.cn/bmiddle/6af89bc8gw1f8r21h4pcjj206404djrb.jpg\" style=\"max-height: 188;margin: 0 auto\" title=\"勿以逼小而装之，勿以屎少而不食。_不食表情\"/>,\n",
       " <img alt=\"快你麻痹啊_麻痹表情\" class=\"ui image lazy\" data-original=\"http://ww3.sinaimg.cn/bmiddle/6af89bc8gw1f8r21iffxbj209m08wjri.jpg\" style=\"max-height: 188;margin: 0 auto\" title=\"快你麻痹啊_麻痹表情\"/>,\n",
       " <img alt=\"大家都是成年人，该发什么图，自己心里有个数_该发_个数_成年人表情\" class=\"ui image lazy\" data-original=\"http://ww4.sinaimg.cn/bmiddle/6af89bc8gw1f8r21kakmjj205005gt8l.jpg\" style=\"max-height: 188;margin: 0 auto\" title=\"大家都是成年人，该发什么图，自己心里有个数_该发_个数_成年人表情\"/>,\n",
       " <img alt=\"瞧着，像不像你爸_像不像表情\" class=\"ui image lazy\" data-original=\"http://ww1.sinaimg.cn/bmiddle/6af89bc8gw1f8r21lff8xj209o08l74f.jpg\" style=\"max-height: 188;margin: 0 auto\" title=\"瞧着，像不像你爸_像不像表情\"/>,\n",
       " <img alt=\"打起来打起来_起来表情\" class=\"ui image lazy\" data-original=\"http://ww1.sinaimg.cn/bmiddle/6af89bc8gw1f8r21n5k02g203c03njsa.gif\" style=\"max-height: 188;margin: 0 auto\" title=\"打起来打起来_起来表情\"/>,\n",
       " <img alt=\"开盖有奖，再来一瓶_开盖_有奖_一瓶表情\" class=\"ui image lazy\" data-original=\"http://ww1.sinaimg.cn/bmiddle/6af89bc8gw1f8r21oradhj205i02pt8i.jpg\" style=\"max-height: 188;margin: 0 auto\" title=\"开盖有奖，再来一瓶_开盖_有奖_一瓶表情\"/>,\n",
       " <img alt=\"我差点笑出声_出声_差点表情\" class=\"ui image lazy\" data-original=\"http://ww4.sinaimg.cn/bmiddle/6af89bc8gw1f8r21pvf1pj202601vgld.jpg\" style=\"max-height: 188;margin: 0 auto\" title=\"我差点笑出声_出声_差点表情\"/>,\n",
       " <img alt=\"给你的别客气，_客气表情\" class=\"ui image lazy\" data-original=\"http://ww2.sinaimg.cn/bmiddle/6af89bc8gw1f8r22smti5j208c08c0sq.jpg\" style=\"max-height: 188;margin: 0 auto\" title=\"给你的别客气，_客气表情\"/>,\n",
       " <img alt=\"用这张图的人超帅，24K纯帅_张图_超帅_24K表情\" class=\"ui image lazy\" data-original=\"http://ww2.sinaimg.cn/bmiddle/6af89bc8gw1f8r22tuu61j20b40b4weq.jpg\" style=\"max-height: 188;margin: 0 auto\" title=\"用这张图的人超帅，24K纯帅_张图_超帅_24K表情\"/>]"
      ]
     },
     "execution_count": 65,
     "metadata": {},
     "output_type": "execute_result"
    }
   ],
   "source": []
  },
  {
   "cell_type": "code",
   "execution_count": null,
   "metadata": {},
   "outputs": [],
   "source": []
  }
 ],
 "metadata": {
  "kernelspec": {
   "display_name": "Python 3",
   "language": "python",
   "name": "python3"
  },
  "language_info": {
   "codemirror_mode": {
    "name": "ipython",
    "version": 3
   },
   "file_extension": ".py",
   "mimetype": "text/x-python",
   "name": "python",
   "nbconvert_exporter": "python",
   "pygments_lexer": "ipython3",
   "version": "3.7.4"
  }
 },
 "nbformat": 4,
 "nbformat_minor": 4
}
