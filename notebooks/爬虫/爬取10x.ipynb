{
 "cells": [
  {
   "cell_type": "code",
   "execution_count": 48,
   "metadata": {},
   "outputs": [],
   "source": [
    "import requests\n",
    "from bs4 import BeautifulSoup"
   ]
  },
  {
   "cell_type": "code",
   "execution_count": 49,
   "metadata": {},
   "outputs": [],
   "source": [
    "url = \"https://www.10xgenomics.com/resources/publications?page=2&sortBy=publications-relevance\""
   ]
  },
  {
   "cell_type": "code",
   "execution_count": 50,
   "metadata": {},
   "outputs": [
    {
     "name": "stderr",
     "output_type": "stream",
     "text": [
      "D:\\Software\\Anaconda3\\lib\\site-packages\\urllib3\\connectionpool.py:1004: InsecureRequestWarning: Unverified HTTPS request is being made to host '127.0.0.1'. Adding certificate verification is strongly advised. See: https://urllib3.readthedocs.io/en/latest/advanced-usage.html#ssl-warnings\n",
      "  InsecureRequestWarning,\n"
     ]
    }
   ],
   "source": [
    "r = requests.get(url, verify=False)"
   ]
  },
  {
   "cell_type": "code",
   "execution_count": 51,
   "metadata": {},
   "outputs": [],
   "source": [
    "soup = BeautifulSoup(r.text)"
   ]
  },
  {
   "cell_type": "code",
   "execution_count": 52,
   "metadata": {},
   "outputs": [],
   "source": [
    "titles = soup.find_all(\"a\", {\"class\":\"jsx-1307356994 Anchor\"})\n",
    "journals = soup.find_all(\"span\", {\"class\":\"jsx-1975364847 Text small\"})"
   ]
  },
  {
   "cell_type": "code",
   "execution_count": 54,
   "metadata": {
    "scrolled": true
   },
   "outputs": [
    {
     "name": "stdout",
     "output_type": "stream",
     "text": [
      "Single-cell analysis of human adipose tissue identifies depot and disease specific cell types\n",
      "Replicational Dilution of H3K27me3 in Mammalian Cells and the Role of Poised Promoters\n",
      "Identification of a Zeb1 expressing basal stem cell subpopulation in the prostate\n",
      "Single-Cell Transcriptomic Comparison of Human Fetal Retina, hPSC-Derived Retinal Organoids, and Long-Term Retinal Cultures\n",
      "Neonatal Rhesus Macaques Have Distinct Immune Cell Transcriptional Profiles following HIV Envelope Immunization\n",
      "Single-Nucleus Sequencing of an Entire Mammalian Heart: Cell Type Composition and Velocity\n",
      "The in vivo genetic program of murine primordial lung epithelial progenitors\n",
      "Adult Human Glioblastomas Harbor Radial Glia-like Cells\n",
      "Genome-wide In Vivo CNS Screening Identifies Genes that Modify CNS Neuronal Survival and mHTT Toxicity\n",
      "Preparation of single- and double-oligonucleotide antibody conjugates and their application for protein analytics\n",
      "Chromatin mapping and single-cell immune profiling define the temporal dynamics of ibrutinib response in CLL\n",
      "Integration of eQTL and a Single-Cell Atlas in the Human Eye Identifies Causal Genes for Age-Related Macular Degeneration\n",
      "Pro-efferocytic nanoparticles are specifically taken up by lesional macrophages and prevent atherosclerosis\n",
      "Multi-omics characterization of a diet-induced obese model of non-alcoholic steatohepatitis\n",
      "Single-cell analysis reveals new evolutionary complexity in uveal melanoma\n",
      "Distinct Airway Epithelial Stem Cells Hide among Club Cells but Mobilize to Promote Alveolar Regeneration\n",
      "Silencing Trisomy 21 with XIST in Neural Stem Cells Promotes Neuronal Differentiation\n",
      "Single-cell transcriptional diversity is a hallmark of developmental potential\n",
      "Monocytic Subclones Confer Resistance to Venetoclax-Based Therapy in Acute Myeloid Leukemia Patients\n",
      "Transcriptional Programming of Human Mechanosensory Neuron Subtypes from Pluripotent Stem Cells\n"
     ]
    }
   ],
   "source": [
    "for title in titles[:20]:\n",
    "    print(title.string)"
   ]
  },
  {
   "cell_type": "code",
   "execution_count": 40,
   "metadata": {
    "scrolled": true
   },
   "outputs": [
    {
     "name": "stdout",
     "output_type": "stream",
     "text": [
      "Nature Metabolism, Dec 2019\n",
      "Jinchu Vijay et al.\n",
      "DOI: 10.1038/s42255-019-0152-6\n",
      "PubMed: 32066997\n",
      "Molecular Cell, Jan 2020\n",
      "Unmesh Jadhav et al.\n",
      "DOI: 10.1016/j.molcel.2020.01.017\n",
      "PubMed: 32027840\n",
      "Nature Communications, Feb 2020\n",
      "Xue Wang et al.\n",
      "DOI: 10.1038/s41467-020-14296-y\n",
      "PubMed: 32024836\n",
      "Cell Reports, Feb 2020\n",
      "Akshayalakshmi Sridhar et al.\n",
      "DOI: 10.1016/j.celrep.2020.01.007\n",
      "PubMed: 32023475\n",
      "Cell Reports, Feb 2020\n",
      "Qifeng Han et al.\n",
      "DOI: 10.1016/j.celrep.2019.12.091\n",
      "PubMed: 32023469\n",
      "Cells, Jan 2020\n",
      "Markus Wolfien et al.\n",
      "DOI: 10.3390/cells9020318\n",
      "PubMed: 32013057\n",
      "Nature Communications, Jan 2020\n",
      "Laertis Ikonomou et al.\n",
      "DOI: 10.1038/s41467-020-14348-3\n",
      "PubMed: 32005814\n",
      "Stem Cell Reports, Feb 2020\n",
      "Rong Wang et al.\n",
      "DOI: 10.1016/j.stemcr.2020.01.007\n",
      "PubMed: 32004492\n",
      "Neuron, Jan 2020\n",
      "Mary H Wertz et al.\n",
      "DOI: 10.1016/j.neuron.2020.01.004\n",
      "PubMed: 32004439\n",
      "Scientific Reports, Jan 2020\n",
      "Julius Wiener et al.\n",
      "DOI: 10.1038/s41598-020-58238-6\n",
      "PubMed: 31996713\n",
      "Nature Communications, Jan 2020\n",
      "André F Rendeiro et al.\n",
      "DOI: 10.1038/s41467-019-14081-6\n",
      "PubMed: 31996669\n",
      "Cell Reports, Jan 2020\n",
      "Luz D Orozco et al.\n",
      "DOI: 10.1016/j.celrep.2019.12.082\n",
      "PubMed: 31995762\n",
      "Nature Nanotechnology, Jan 2020\n",
      "Alyssa M Flores et al.\n",
      "DOI: 10.1038/s41565-019-0619-3\n",
      "PubMed: 31988506\n",
      "Scientific Reports, Jan 2020\n",
      "Helene M Ægidius et al.\n",
      "DOI: 10.1038/s41598-020-58059-7\n",
      "PubMed: 31980690\n",
      "Nature Communications, Jan 2020\n",
      "Michael A Durante et al.\n",
      "DOI: 10.1038/s41467-019-14256-1\n",
      "PubMed: 31980621\n",
      "Cell Stem Cell, Jan 2020\n",
      "Jaymin J Kathiriya et al.\n",
      "DOI: 10.1016/j.stem.2019.12.014\n",
      "PubMed: 31978363\n",
      "Developmental Cell, Jan 2020\n",
      "Jan Tomasz Czermiński et al.\n",
      "DOI: 10.1016/j.devcel.2019.12.015\n",
      "PubMed: 31978324\n",
      "Science, Jan 2020\n",
      "Gunsagar S Gulati et al.\n",
      "DOI: 10.1126/science.aax0249\n",
      "PubMed: 31974247\n",
      "Cancer Discovery, Jan 2020\n",
      "Shanshan Pei et al.\n",
      "DOI: 10.1158/2159-8290.CD-19-0710\n",
      "PubMed: 31974170\n",
      "Cell Reports, Jan 2020\n",
      "Alec R Nickolls et al.\n",
      "DOI: 10.1016/j.celrep.2019.12.062\n",
      "PubMed: 31968264\n"
     ]
    }
   ],
   "source": [
    "for journal in journals[25:]:\n",
    "    print(journal.string)"
   ]
  },
  {
   "cell_type": "code",
   "execution_count": 29,
   "metadata": {},
   "outputs": [
    {
     "data": {
      "text/plain": [
       "80"
      ]
     },
     "execution_count": 29,
     "metadata": {},
     "output_type": "execute_result"
    }
   ],
   "source": [
    "len(journals[25:])"
   ]
  },
  {
   "cell_type": "code",
   "execution_count": null,
   "metadata": {},
   "outputs": [],
   "source": []
  },
  {
   "cell_type": "code",
   "execution_count": 20,
   "metadata": {},
   "outputs": [],
   "source": [
    "import requests\n",
    "from bs4 import BeautifulSoup"
   ]
  }
 ],
 "metadata": {
  "kernelspec": {
   "display_name": "Python 3",
   "language": "python",
   "name": "python3"
  },
  "language_info": {
   "codemirror_mode": {
    "name": "ipython",
    "version": 3
   },
   "file_extension": ".py",
   "mimetype": "text/x-python",
   "name": "python",
   "nbconvert_exporter": "python",
   "pygments_lexer": "ipython3",
   "version": "3.7.4"
  }
 },
 "nbformat": 4,
 "nbformat_minor": 4
}
