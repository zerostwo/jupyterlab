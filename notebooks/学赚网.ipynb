{
 "cells": [
  {
   "cell_type": "code",
   "execution_count": 50,
   "metadata": {},
   "outputs": [],
   "source": [
    "import requests\n",
    "from bs4 import BeautifulSoup"
   ]
  },
  {
   "cell_type": "code",
   "execution_count": 51,
   "metadata": {},
   "outputs": [],
   "source": [
    "url = \"http://www.xuezhuanwang.cn/e/member/login/\"\n",
    "#url = \"http://www.xuezhuanwang.cn/e/member/doaction.php\"\n",
    "form_data = {\n",
    "    \"ecmsfrom\": \"\",\n",
    "    \"enews\": \"login\",\n",
    "    \"tobind\": \"0\",\n",
    "    \"username\": \"2997598374\",\n",
    "    \"password\": \"981211@Dd\",\n",
    "    \"lifetime\": \"315360000\",\n",
    "    \"Submit\": \"登 录\"\n",
    "}\n",
    "req_header = {\n",
    "    'User-Agent':'Mozilla/5.0 (Windows NT 10.0; Win64; x64) AppleWebKit/537.36 (KHTML, like Gecko) Chrome/81.0.4044.129 Safari/537.36',\n",
    "}"
   ]
  },
  {
   "cell_type": "code",
   "execution_count": 52,
   "metadata": {},
   "outputs": [],
   "source": [
    "session = requests.session()"
   ]
  },
  {
   "cell_type": "code",
   "execution_count": 58,
   "metadata": {},
   "outputs": [
    {
     "data": {
      "text/plain": [
       "True"
      ]
     },
     "execution_count": 58,
     "metadata": {},
     "output_type": "execute_result"
    }
   ],
   "source": [
    "response = session.post(url, data=form_data, headers=req_header)\n",
    "response.status_code == 200"
   ]
  },
  {
   "cell_type": "code",
   "execution_count": 56,
   "metadata": {},
   "outputs": [],
   "source": [
    "en_url = \"http://www.xuezhuanwang.cn/yingwenku/\"\n",
    "headers = {\n",
    "    \"Referer\": \"http://www.xuezhuanwang.cn/zhongwenku/\",\n",
    "    \"Upgrade-Insecure-Requests\": \"1\",\n",
    "    \"User-Agent\": \"Mozilla/5.0 (Windows NT 10.0; Win64; x64) AppleWebKit/537.36 (KHTML, like Gecko) Chrome/81.0.4044.129 Safari/537.36\"\n",
    "}\n",
    "en_get = session.get(en_url, headers=headers)\n",
    "# en_get.encoding = en_get.apparent_encoding\n",
    "# en_soup = BeautifulSoup(en_get.text)\n",
    "# en_results = en_soup.find_all(\"a\", {\"target\": \"_blank\"})"
   ]
  },
  {
   "cell_type": "code",
   "execution_count": 57,
   "metadata": {},
   "outputs": [
    {
     "data": {
      "text/plain": [
       "'<!DOCTYPE HTML PUBLIC \"-//W3C//DTD HTML 4.01 Transitional//EN\">\\r\\n<html>\\r\\n<head>\\r\\n<meta http-equiv=\"Content-Type\" content=\"text/html; charset=utf-8\">\\r\\n<title>信息提示</title>\\r\\n<link href=\"/e/data/images/qcss.css\" rel=\"stylesheet\" type=\"text/css\">\\r\\n<SCRIPT language=javascript>\\r\\nvar secs=3;//3秒\\r\\nfor(i=1;i<=secs;i++) \\r\\n{ window.setTimeout(\"update(\" + i + \")\", i * 1000);} \\r\\nfunction update(num) \\r\\n{ \\r\\nif(num == secs) \\r\\n{ history.go(-1); } \\r\\nelse \\r\\n{ } \\r\\n}\\r\\n</SCRIPT>\\r\\n</head>\\r\\n\\r\\n<body>\\r\\n<br>\\r\\n<br>\\r\\n<br>\\r\\n<br>\\r\\n<br>\\r\\n<br>\\r\\n<table width=\"500\" border=\"0\" align=\"center\" cellpadding=\"3\" cellspacing=\"1\" class=\"tableborder\">\\r\\n  <tr class=\"header\"> \\r\\n    <td height=\"25\"><div align=\"center\">信息提示</div></td>\\r\\n  </tr>\\r\\n  <tr bgcolor=\"#FFFFFF\"> \\r\\n    <td height=\"80\"> \\r\\n      <div align=\"center\">\\r\\n\\t  <br>\\r\\n        <b>本栏目需要会员级别以上才能查看</b>\\r\\n        <br>\\r\\n        <br><a href=\"javascript:history.go(-1)\">如果您的浏览器没有自动跳转，请点击这里</a>\\r\\n<br><br>\\r\\n\\t  </div></td>\\r\\n  </tr>\\r\\n</table>\\r\\n</body>\\r\\n</html>'"
      ]
     },
     "execution_count": 57,
     "metadata": {},
     "output_type": "execute_result"
    }
   ],
   "source": [
    "en_get.text"
   ]
  },
  {
   "cell_type": "code",
   "execution_count": null,
   "metadata": {},
   "outputs": [],
   "source": []
  }
 ],
 "metadata": {
  "kernelspec": {
   "display_name": "Python 3",
   "language": "python",
   "name": "python3"
  },
  "language_info": {
   "codemirror_mode": {
    "name": "ipython",
    "version": 3
   },
   "file_extension": ".py",
   "mimetype": "text/x-python",
   "name": "python",
   "nbconvert_exporter": "python",
   "pygments_lexer": "ipython3",
   "version": "3.7.4"
  }
 },
 "nbformat": 4,
 "nbformat_minor": 4
}
